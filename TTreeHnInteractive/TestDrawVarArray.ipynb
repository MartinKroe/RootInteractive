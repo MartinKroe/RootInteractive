{
 "cells": [
  {
   "cell_type": "markdown",
   "metadata": {},
   "source": [
    "# Draw expression array tutorial\n",
    "Draw expression array implmented within TTreeHnBroswer.py\n",
    "* 0. Make example dynamic expression array \n",
    "  * Remove button \n",
    "  * Eddit button to be edit\n",
    "* 1. Add new variable to array"
   ]
  },
  {
   "cell_type": "code",
   "execution_count": 1,
   "metadata": {},
   "outputs": [
    {
     "name": "stdout",
     "output_type": "stream",
     "text": [
      "Welcome to JupyROOT 6.13/03\n"
     ]
    }
   ],
   "source": [
    "from TTreeHnBrowser import *"
   ]
  },
  {
   "cell_type": "markdown",
   "metadata": {},
   "source": [
    "### 0.) Make example dynamic variable array\n",
    "* To test change status and remove some sliders pressing Remove button"
   ]
  },
  {
   "cell_type": "code",
   "execution_count": 4,
   "metadata": {},
   "outputs": [
    {
     "data": {
      "application/vnd.jupyter.widget-view+json": {
       "model_id": "e7c6f74c65f44f07a73831b3460d3bce",
       "version_major": 2,
       "version_minor": 0
      },
      "text/plain": [
       "VkJveChjaGlsZHJlbj0oSEJveChjaGlsZHJlbj0oVGV4dCh2YWx1ZT11J3gxKDE6MjowLjE6MS41OjEuNzUpJyksIFRvZ2dsZUJ1dHRvbih2YWx1ZT1GYWxzZSwgZGVzY3JpcHRpb249dSdTdGHigKY=\n"
      ]
     },
     "metadata": {},
     "output_type": "display_data"
    }
   ],
   "source": [
    "varArray=TDrawVarArray()\n",
    "varArray.addVariable('x1(1:2:0.1:1.5:1.75)')\n",
    "varArray.addVariable('x2(1:2:0.1:1.5:1.75)')\n",
    "varArray.addVariable('x3(1:2:0.1:1.5:1.75)')\n",
    "varArray.fDrawVarWidgets"
   ]
  },
  {
   "cell_type": "markdown",
   "metadata": {},
   "source": [
    "### 1.) Add new slider to array\n",
    "* new slider x4 with appended\n",
    "* result automatically shown in box above\n",
    "* second line to print current content of the array"
   ]
  },
  {
   "cell_type": "code",
   "execution_count": 3,
   "metadata": {},
   "outputs": [
    {
     "name": "stdout",
     "output_type": "stream",
     "text": [
      "(HBox(children=(Text(value=u'x1(1:2:0.1:1.5:1.75)'), ToggleButton(value=False, description=u'Status', tooltip=u'Enable/disable'), Button(description=u'Remove', style=ButtonStyle(), tooltip=u'Remove slider')), layout=Layout(width=u'100%')), HBox(children=(Text(value=u'x2(1:2:0.1:1.5:1.75)'), ToggleButton(value=False, description=u'Status', tooltip=u'Enable/disable'), Button(description=u'Remove', style=ButtonStyle(), tooltip=u'Remove slider')), layout=Layout(width=u'100%')), HBox(children=(Text(value=u'x3(1:2:0.1:1.5:1.75)'), ToggleButton(value=False, description=u'Status', tooltip=u'Enable/disable'), Button(description=u'Remove', style=ButtonStyle(), tooltip=u'Remove slider')), layout=Layout(width=u'100%')), HBox(children=(Text(value=u'x4(100:200:0.1:110:180)'), ToggleButton(value=False, description=u'Status', tooltip=u'Enable/disable'), Button(description=u'Remove', style=ButtonStyle(), tooltip=u'Remove slider')), layout=Layout(width=u'100%')))\n"
     ]
    }
   ],
   "source": [
    "varArray.addVariable('x4(100:200:0.1:110:180)')\n",
    "print(varArray.fDrawVarWidgets.children)"
   ]
  },
  {
   "cell_type": "markdown",
   "metadata": {},
   "source": [
    "# New  Feature testing\n",
    "* new feature to add  - eddit slider\n",
    "* Implementation considered \n",
    "  * changing visitibility or \n",
    "  * content of the tuple "
   ]
  }
 ],
 "metadata": {
  "kernelspec": {
   "display_name": "Python 2",
   "language": "python",
   "name": "python2"
  },
  "language_info": {
   "codemirror_mode": {
    "name": "ipython",
    "version": 2
   },
   "file_extension": ".py",
   "mimetype": "text/x-python",
   "name": "python",
   "nbconvert_exporter": "python",
   "pygments_lexer": "ipython2",
   "version": "2.7.12"
  }
 },
 "nbformat": 4,
 "nbformat_minor": 2
}
