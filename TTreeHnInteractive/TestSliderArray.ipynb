{
 "cells": [
  {
   "cell_type": "markdown",
   "metadata": {},
   "source": [
    "# Slider array tutorial\n",
    "Slider array implmented within TTreeHnBroswer.py\n",
    "* 0. Make example dynamic slider array \n",
    "  * Remove button to remove slide\n",
    "  * Eddit button to be edit\n",
    "* 1. Add new slider to array"
   ]
  },
  {
   "cell_type": "code",
   "execution_count": 1,
   "metadata": {},
   "outputs": [
    {
     "name": "stdout",
     "output_type": "stream",
     "text": [
      "Welcome to JupyROOT 6.13/03\n"
     ]
    }
   ],
   "source": [
    "from TTreeHnBrowser import *"
   ]
  },
  {
   "cell_type": "markdown",
   "metadata": {},
   "source": [
    "### 0.) Make example dynamic slider array\n",
    "* To test change status and remove some sliders pressing Remove button"
   ]
  },
  {
   "cell_type": "code",
   "execution_count": 4,
   "metadata": {},
   "outputs": [
    {
     "data": {
      "application/vnd.jupyter.widget-view+json": {
       "model_id": "36cc26e2cc1a4f6f89e5741e3dad852d",
       "version_major": 2,
       "version_minor": 0
      },
      "text/plain": [
       "VkJveChjaGlsZHJlbj0oSEJveChjaGlsZHJlbj0oRmxvYXRSYW5nZVNsaWRlcih2YWx1ZT0oMTEwLjAsIDE4MC4wKSwgZGVzY3JpcHRpb249dSd4NCgxMDA6MjAwOjAuMToxMTA6MTgwKScsIGzigKY=\n"
      ]
     },
     "metadata": {},
     "output_type": "display_data"
    }
   ],
   "source": [
    "sliderArray=TSliderArray()\n",
    "sliderArray.addSlider('x1(1:2:0.1:1.5:1.75)')\n",
    "sliderArray.addSlider('x2(10:20:1)')\n",
    "sliderArray.addSlider('x3(100:200:0.1:110:180)')\n",
    "sliderArray.fSliderWidgets"
   ]
  },
  {
   "cell_type": "markdown",
   "metadata": {},
   "source": [
    "### 1.) Add new slider to array\n",
    "* new slider x4 with appended\n",
    "* result automatically shown in box above\n",
    "* second line to print current content of the array"
   ]
  },
  {
   "cell_type": "code",
   "execution_count": 3,
   "metadata": {},
   "outputs": [
    {
     "name": "stdout",
     "output_type": "stream",
     "text": [
      "(HBox(children=(FloatRangeSlider(value=(1.5, 1.75), description=u'x1(1:2:0.1:1.5:1.75)', layout=Layout(width=u'66%'), max=2.0, min=1.0), ToggleButton(value=False, description=u'Status', tooltip=u'Enable/disable'), Button(description=u'Remove', style=ButtonStyle(), tooltip=u'Remove slider')), layout=Layout(width=u'100%')), HBox(children=(FloatRangeSlider(value=(10.0, 20.0), description=u'x2(10:20:1)', layout=Layout(width=u'66%'), max=20.0, min=10.0, step=1.0), ToggleButton(value=False, description=u'Status', tooltip=u'Enable/disable'), Button(description=u'Remove', style=ButtonStyle(), tooltip=u'Remove slider')), layout=Layout(width=u'100%')), HBox(children=(FloatRangeSlider(value=(110.0, 180.0), description=u'x3(100:200:0.1:110:180)', layout=Layout(width=u'66%'), max=200.0, min=100.0), ToggleButton(value=False, description=u'Status', tooltip=u'Enable/disable'), Button(description=u'Remove', style=ButtonStyle(), tooltip=u'Remove slider')), layout=Layout(width=u'100%')), HBox(children=(FloatRangeSlider(value=(110.0, 180.0), description=u'x4(100:200:0.1:110:180)', layout=Layout(width=u'66%'), max=200.0, min=100.0), ToggleButton(value=False, description=u'Status', tooltip=u'Enable/disable'), Button(description=u'Remove', style=ButtonStyle(), tooltip=u'Remove slider')), layout=Layout(width=u'100%')))\n"
     ]
    }
   ],
   "source": [
    "sliderArray.addSlider('x4(100:200:0.1:110:180)')\n",
    "print(sliderArray.fSliderWidgets.children)"
   ]
  },
  {
   "cell_type": "markdown",
   "metadata": {},
   "source": [
    "# New  Feature testing\n",
    "* new feature to add  - eddit slider\n",
    "* Implementation considered \n",
    "  * changing visitibility or \n",
    "  * content of the tuple "
   ]
  }
 ],
 "metadata": {
  "kernelspec": {
   "display_name": "Python 2",
   "language": "python",
   "name": "python2"
  },
  "language_info": {
   "codemirror_mode": {
    "name": "ipython",
    "version": 2
   },
   "file_extension": ".py",
   "mimetype": "text/x-python",
   "name": "python",
   "nbconvert_exporter": "python",
   "pygments_lexer": "ipython2",
   "version": "2.7.12"
  }
 },
 "nbformat": 4,
 "nbformat_minor": 2
}
