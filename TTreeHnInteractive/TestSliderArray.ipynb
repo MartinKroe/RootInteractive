{
 "cells": [
  {
   "cell_type": "markdown",
   "metadata": {},
   "source": [
    "# Slider array tutorial\n",
    "Slider array implmented within TTreeHnBroswer.py\n",
    "* 0. Make example dynamic slider array \n",
    "  * Remove button to remove slide\n",
    "  * Eddit button to be edit\n",
    "* 1. Add new slider to array"
   ]
  },
  {
   "cell_type": "code",
   "execution_count": 2,
   "metadata": {},
   "outputs": [],
   "source": [
    "from TTreeHnBrowser import *"
   ]
  },
  {
   "cell_type": "markdown",
   "metadata": {},
   "source": [
    "### 0.) Make example dynamic slider array\n",
    "* To test change status and remove some sliders pressing Remove button"
   ]
  },
  {
   "cell_type": "code",
   "execution_count": 4,
   "metadata": {},
   "outputs": [
    {
     "data": {
      "application/vnd.jupyter.widget-view+json": {
       "model_id": "37edd3888b564b0e86eb44ac0cc6cb59",
       "version_major": 2,
       "version_minor": 0
      },
      "text/plain": [
       "VkJveChjaGlsZHJlbj0oSEJveChjaGlsZHJlbj0oRmxvYXRSYW5nZVNsaWRlcih2YWx1ZT0oMS41LCAxLjc1KSwgZGVzY3JpcHRpb249dSd4MScsIGxheW91dD1MYXlvdXQod2lkdGg9dSc2NiXigKY=\n"
      ]
     },
     "metadata": {},
     "output_type": "display_data"
    }
   ],
   "source": [
    "sliderArray=TSliderArray()\n",
    "sliderArray.addSlider('x1(1:2:0.1:1.5:1.75)')\n",
    "sliderArray.addSlider('x2(10:20:1)')\n",
    "sliderArray.addSlider('x3(100:200:0.1:110:180)')\n",
    "sliderArray.fSliderWidgets"
   ]
  },
  {
   "cell_type": "markdown",
   "metadata": {},
   "source": [
    "### 1.) Add new slider to array\n",
    "* new slider x4 with appended\n",
    "* result automatically shown in box above\n",
    "* second line to print current content of the array"
   ]
  },
  {
   "cell_type": "code",
   "execution_count": null,
   "metadata": {},
   "outputs": [],
   "source": [
    "sliderArray.addSlider('x4(100:200:0.1:110:180)')\n",
    "print(sliderArray.fSliderWidgets.children)"
   ]
  },
  {
   "cell_type": "markdown",
   "metadata": {},
   "source": [
    "# New  Feature testing\n",
    "* new feature to add  - eddit slider\n",
    "* Implementation considered \n",
    "  * changing visitibility or \n",
    "  * content of the tuple "
   ]
  }
 ],
 "metadata": {
  "kernelspec": {
   "display_name": "Python 2",
   "language": "python",
   "name": "python2"
  },
  "language_info": {
   "codemirror_mode": {
    "name": "ipython",
    "version": 2
   },
   "file_extension": ".py",
   "mimetype": "text/x-python",
   "name": "python",
   "nbconvert_exporter": "python",
   "pygments_lexer": "ipython2",
   "version": "2.7.12"
  }
 },
 "nbformat": 4,
 "nbformat_minor": 2
}
