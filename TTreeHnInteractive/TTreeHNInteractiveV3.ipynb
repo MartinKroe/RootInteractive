{
 "cells": [
  {
   "cell_type": "code",
   "execution_count": 1,
   "metadata": {
    "extensions": {
     "jupyter_dashboards": {
      "version": 1,
      "views": {
       "grid_default": {
        "col": 0,
        "height": 4,
        "hidden": false,
        "row": 0,
        "width": 4
       },
       "report_default": {}
      }
     }
    }
   },
   "outputs": [
    {
     "name": "stdout",
     "output_type": "stream",
     "text": [
      "Welcome to JupyROOT 6.13/03\n"
     ]
    },
    {
     "data": {
      "text/html": [
       "\n",
       "    <div class=\"bk-root\">\n",
       "        <a href=\"https://bokeh.pydata.org\" target=\"_blank\" class=\"bk-logo bk-logo-small bk-logo-notebook\"></a>\n",
       "        <span id=\"1001\">Loading BokehJS ...</span>\n",
       "    </div>"
      ]
     },
     "metadata": {},
     "output_type": "display_data"
    },
    {
     "data": {
      "application/javascript": [
       "\n",
       "(function(root) {\n",
       "  function now() {\n",
       "    return new Date();\n",
       "  }\n",
       "\n",
       "  var force = true;\n",
       "\n",
       "  if (typeof (root._bokeh_onload_callbacks) === \"undefined\" || force === true) {\n",
       "    root._bokeh_onload_callbacks = [];\n",
       "    root._bokeh_is_loading = undefined;\n",
       "  }\n",
       "\n",
       "  var JS_MIME_TYPE = 'application/javascript';\n",
       "  var HTML_MIME_TYPE = 'text/html';\n",
       "  var EXEC_MIME_TYPE = 'application/vnd.bokehjs_exec.v0+json';\n",
       "  var CLASS_NAME = 'output_bokeh rendered_html';\n",
       "\n",
       "  /**\n",
       "   * Render data to the DOM node\n",
       "   */\n",
       "  function render(props, node) {\n",
       "    var script = document.createElement(\"script\");\n",
       "    node.appendChild(script);\n",
       "  }\n",
       "\n",
       "  /**\n",
       "   * Handle when an output is cleared or removed\n",
       "   */\n",
       "  function handleClearOutput(event, handle) {\n",
       "    var cell = handle.cell;\n",
       "\n",
       "    var id = cell.output_area._bokeh_element_id;\n",
       "    var server_id = cell.output_area._bokeh_server_id;\n",
       "    // Clean up Bokeh references\n",
       "    if (id != null && id in Bokeh.index) {\n",
       "      Bokeh.index[id].model.document.clear();\n",
       "      delete Bokeh.index[id];\n",
       "    }\n",
       "\n",
       "    if (server_id !== undefined) {\n",
       "      // Clean up Bokeh references\n",
       "      var cmd = \"from bokeh.io.state import curstate; print(curstate().uuid_to_server['\" + server_id + \"'].get_sessions()[0].document.roots[0]._id)\";\n",
       "      cell.notebook.kernel.execute(cmd, {\n",
       "        iopub: {\n",
       "          output: function(msg) {\n",
       "            var id = msg.content.text.trim();\n",
       "            if (id in Bokeh.index) {\n",
       "              Bokeh.index[id].model.document.clear();\n",
       "              delete Bokeh.index[id];\n",
       "            }\n",
       "          }\n",
       "        }\n",
       "      });\n",
       "      // Destroy server and session\n",
       "      var cmd = \"import bokeh.io.notebook as ion; ion.destroy_server('\" + server_id + \"')\";\n",
       "      cell.notebook.kernel.execute(cmd);\n",
       "    }\n",
       "  }\n",
       "\n",
       "  /**\n",
       "   * Handle when a new output is added\n",
       "   */\n",
       "  function handleAddOutput(event, handle) {\n",
       "    var output_area = handle.output_area;\n",
       "    var output = handle.output;\n",
       "\n",
       "    // limit handleAddOutput to display_data with EXEC_MIME_TYPE content only\n",
       "    if ((output.output_type != \"display_data\") || (!output.data.hasOwnProperty(EXEC_MIME_TYPE))) {\n",
       "      return\n",
       "    }\n",
       "\n",
       "    var toinsert = output_area.element.find(\".\" + CLASS_NAME.split(' ')[0]);\n",
       "\n",
       "    if (output.metadata[EXEC_MIME_TYPE][\"id\"] !== undefined) {\n",
       "      toinsert[toinsert.length - 1].firstChild.textContent = output.data[JS_MIME_TYPE];\n",
       "      // store reference to embed id on output_area\n",
       "      output_area._bokeh_element_id = output.metadata[EXEC_MIME_TYPE][\"id\"];\n",
       "    }\n",
       "    if (output.metadata[EXEC_MIME_TYPE][\"server_id\"] !== undefined) {\n",
       "      var bk_div = document.createElement(\"div\");\n",
       "      bk_div.innerHTML = output.data[HTML_MIME_TYPE];\n",
       "      var script_attrs = bk_div.children[0].attributes;\n",
       "      for (var i = 0; i < script_attrs.length; i++) {\n",
       "        toinsert[toinsert.length - 1].firstChild.setAttribute(script_attrs[i].name, script_attrs[i].value);\n",
       "      }\n",
       "      // store reference to server id on output_area\n",
       "      output_area._bokeh_server_id = output.metadata[EXEC_MIME_TYPE][\"server_id\"];\n",
       "    }\n",
       "  }\n",
       "\n",
       "  function register_renderer(events, OutputArea) {\n",
       "\n",
       "    function append_mime(data, metadata, element) {\n",
       "      // create a DOM node to render to\n",
       "      var toinsert = this.create_output_subarea(\n",
       "        metadata,\n",
       "        CLASS_NAME,\n",
       "        EXEC_MIME_TYPE\n",
       "      );\n",
       "      this.keyboard_manager.register_events(toinsert);\n",
       "      // Render to node\n",
       "      var props = {data: data, metadata: metadata[EXEC_MIME_TYPE]};\n",
       "      render(props, toinsert[toinsert.length - 1]);\n",
       "      element.append(toinsert);\n",
       "      return toinsert\n",
       "    }\n",
       "\n",
       "    /* Handle when an output is cleared or removed */\n",
       "    events.on('clear_output.CodeCell', handleClearOutput);\n",
       "    events.on('delete.Cell', handleClearOutput);\n",
       "\n",
       "    /* Handle when a new output is added */\n",
       "    events.on('output_added.OutputArea', handleAddOutput);\n",
       "\n",
       "    /**\n",
       "     * Register the mime type and append_mime function with output_area\n",
       "     */\n",
       "    OutputArea.prototype.register_mime_type(EXEC_MIME_TYPE, append_mime, {\n",
       "      /* Is output safe? */\n",
       "      safe: true,\n",
       "      /* Index of renderer in `output_area.display_order` */\n",
       "      index: 0\n",
       "    });\n",
       "  }\n",
       "\n",
       "  // register the mime type if in Jupyter Notebook environment and previously unregistered\n",
       "  if (root.Jupyter !== undefined) {\n",
       "    var events = require('base/js/events');\n",
       "    var OutputArea = require('notebook/js/outputarea').OutputArea;\n",
       "\n",
       "    if (OutputArea.prototype.mime_types().indexOf(EXEC_MIME_TYPE) == -1) {\n",
       "      register_renderer(events, OutputArea);\n",
       "    }\n",
       "  }\n",
       "\n",
       "  \n",
       "  if (typeof (root._bokeh_timeout) === \"undefined\" || force === true) {\n",
       "    root._bokeh_timeout = Date.now() + 5000;\n",
       "    root._bokeh_failed_load = false;\n",
       "  }\n",
       "\n",
       "  var NB_LOAD_WARNING = {'data': {'text/html':\n",
       "     \"<div style='background-color: #fdd'>\\n\"+\n",
       "     \"<p>\\n\"+\n",
       "     \"BokehJS does not appear to have successfully loaded. If loading BokehJS from CDN, this \\n\"+\n",
       "     \"may be due to a slow or bad network connection. Possible fixes:\\n\"+\n",
       "     \"</p>\\n\"+\n",
       "     \"<ul>\\n\"+\n",
       "     \"<li>re-rerun `output_notebook()` to attempt to load from CDN again, or</li>\\n\"+\n",
       "     \"<li>use INLINE resources instead, as so:</li>\\n\"+\n",
       "     \"</ul>\\n\"+\n",
       "     \"<code>\\n\"+\n",
       "     \"from bokeh.resources import INLINE\\n\"+\n",
       "     \"output_notebook(resources=INLINE)\\n\"+\n",
       "     \"</code>\\n\"+\n",
       "     \"</div>\"}};\n",
       "\n",
       "  function display_loaded() {\n",
       "    var el = document.getElementById(\"1001\");\n",
       "    if (el != null) {\n",
       "      el.textContent = \"BokehJS is loading...\";\n",
       "    }\n",
       "    if (root.Bokeh !== undefined) {\n",
       "      if (el != null) {\n",
       "        el.textContent = \"BokehJS \" + root.Bokeh.version + \" successfully loaded.\";\n",
       "      }\n",
       "    } else if (Date.now() < root._bokeh_timeout) {\n",
       "      setTimeout(display_loaded, 100)\n",
       "    }\n",
       "  }\n",
       "\n",
       "\n",
       "  function run_callbacks() {\n",
       "    try {\n",
       "      root._bokeh_onload_callbacks.forEach(function(callback) { callback() });\n",
       "    }\n",
       "    finally {\n",
       "      delete root._bokeh_onload_callbacks\n",
       "    }\n",
       "    console.info(\"Bokeh: all callbacks have finished\");\n",
       "  }\n",
       "\n",
       "  function load_libs(js_urls, callback) {\n",
       "    root._bokeh_onload_callbacks.push(callback);\n",
       "    if (root._bokeh_is_loading > 0) {\n",
       "      console.log(\"Bokeh: BokehJS is being loaded, scheduling callback at\", now());\n",
       "      return null;\n",
       "    }\n",
       "    if (js_urls == null || js_urls.length === 0) {\n",
       "      run_callbacks();\n",
       "      return null;\n",
       "    }\n",
       "    console.log(\"Bokeh: BokehJS not loaded, scheduling load and callback at\", now());\n",
       "    root._bokeh_is_loading = js_urls.length;\n",
       "    for (var i = 0; i < js_urls.length; i++) {\n",
       "      var url = js_urls[i];\n",
       "      var s = document.createElement('script');\n",
       "      s.src = url;\n",
       "      s.async = false;\n",
       "      s.onreadystatechange = s.onload = function() {\n",
       "        root._bokeh_is_loading--;\n",
       "        if (root._bokeh_is_loading === 0) {\n",
       "          console.log(\"Bokeh: all BokehJS libraries loaded\");\n",
       "          run_callbacks()\n",
       "        }\n",
       "      };\n",
       "      s.onerror = function() {\n",
       "        console.warn(\"failed to load library \" + url);\n",
       "      };\n",
       "      console.log(\"Bokeh: injecting script tag for BokehJS library: \", url);\n",
       "      document.getElementsByTagName(\"head\")[0].appendChild(s);\n",
       "    }\n",
       "  };var element = document.getElementById(\"1001\");\n",
       "  if (element == null) {\n",
       "    console.log(\"Bokeh: ERROR: autoload.js configured with elementid '1001' but no matching script tag was found. \")\n",
       "    return false;\n",
       "  }\n",
       "\n",
       "  var js_urls = [\"https://cdn.pydata.org/bokeh/release/bokeh-1.0.0.min.js\", \"https://cdn.pydata.org/bokeh/release/bokeh-widgets-1.0.0.min.js\", \"https://cdn.pydata.org/bokeh/release/bokeh-tables-1.0.0.min.js\", \"https://cdn.pydata.org/bokeh/release/bokeh-gl-1.0.0.min.js\"];\n",
       "\n",
       "  var inline_js = [\n",
       "    function(Bokeh) {\n",
       "      Bokeh.set_log_level(\"info\");\n",
       "    },\n",
       "    \n",
       "    function(Bokeh) {\n",
       "      \n",
       "    },\n",
       "    function(Bokeh) {\n",
       "      console.log(\"Bokeh: injecting CSS: https://cdn.pydata.org/bokeh/release/bokeh-1.0.0.min.css\");\n",
       "      Bokeh.embed.inject_css(\"https://cdn.pydata.org/bokeh/release/bokeh-1.0.0.min.css\");\n",
       "      console.log(\"Bokeh: injecting CSS: https://cdn.pydata.org/bokeh/release/bokeh-widgets-1.0.0.min.css\");\n",
       "      Bokeh.embed.inject_css(\"https://cdn.pydata.org/bokeh/release/bokeh-widgets-1.0.0.min.css\");\n",
       "      console.log(\"Bokeh: injecting CSS: https://cdn.pydata.org/bokeh/release/bokeh-tables-1.0.0.min.css\");\n",
       "      Bokeh.embed.inject_css(\"https://cdn.pydata.org/bokeh/release/bokeh-tables-1.0.0.min.css\");\n",
       "    }\n",
       "  ];\n",
       "\n",
       "  function run_inline_js() {\n",
       "    \n",
       "    if ((root.Bokeh !== undefined) || (force === true)) {\n",
       "      for (var i = 0; i < inline_js.length; i++) {\n",
       "        inline_js[i].call(root, root.Bokeh);\n",
       "      }if (force === true) {\n",
       "        display_loaded();\n",
       "      }} else if (Date.now() < root._bokeh_timeout) {\n",
       "      setTimeout(run_inline_js, 100);\n",
       "    } else if (!root._bokeh_failed_load) {\n",
       "      console.log(\"Bokeh: BokehJS failed to load within specified timeout.\");\n",
       "      root._bokeh_failed_load = true;\n",
       "    } else if (force !== true) {\n",
       "      var cell = $(document.getElementById(\"1001\")).parents('.cell').data().cell;\n",
       "      cell.output_area.append_execute_result(NB_LOAD_WARNING)\n",
       "    }\n",
       "\n",
       "  }\n",
       "\n",
       "  if (root._bokeh_is_loading === 0) {\n",
       "    console.log(\"Bokeh: BokehJS loaded, going straight to plotting\");\n",
       "    run_inline_js();\n",
       "  } else {\n",
       "    load_libs(js_urls, function() {\n",
       "      console.log(\"Bokeh: BokehJS plotting callback run at\", now());\n",
       "      run_inline_js();\n",
       "    });\n",
       "  }\n",
       "}(window));"
      ],
      "application/vnd.bokehjs_load.v0+json": "\n(function(root) {\n  function now() {\n    return new Date();\n  }\n\n  var force = true;\n\n  if (typeof (root._bokeh_onload_callbacks) === \"undefined\" || force === true) {\n    root._bokeh_onload_callbacks = [];\n    root._bokeh_is_loading = undefined;\n  }\n\n  \n\n  \n  if (typeof (root._bokeh_timeout) === \"undefined\" || force === true) {\n    root._bokeh_timeout = Date.now() + 5000;\n    root._bokeh_failed_load = false;\n  }\n\n  var NB_LOAD_WARNING = {'data': {'text/html':\n     \"<div style='background-color: #fdd'>\\n\"+\n     \"<p>\\n\"+\n     \"BokehJS does not appear to have successfully loaded. If loading BokehJS from CDN, this \\n\"+\n     \"may be due to a slow or bad network connection. Possible fixes:\\n\"+\n     \"</p>\\n\"+\n     \"<ul>\\n\"+\n     \"<li>re-rerun `output_notebook()` to attempt to load from CDN again, or</li>\\n\"+\n     \"<li>use INLINE resources instead, as so:</li>\\n\"+\n     \"</ul>\\n\"+\n     \"<code>\\n\"+\n     \"from bokeh.resources import INLINE\\n\"+\n     \"output_notebook(resources=INLINE)\\n\"+\n     \"</code>\\n\"+\n     \"</div>\"}};\n\n  function display_loaded() {\n    var el = document.getElementById(\"1001\");\n    if (el != null) {\n      el.textContent = \"BokehJS is loading...\";\n    }\n    if (root.Bokeh !== undefined) {\n      if (el != null) {\n        el.textContent = \"BokehJS \" + root.Bokeh.version + \" successfully loaded.\";\n      }\n    } else if (Date.now() < root._bokeh_timeout) {\n      setTimeout(display_loaded, 100)\n    }\n  }\n\n\n  function run_callbacks() {\n    try {\n      root._bokeh_onload_callbacks.forEach(function(callback) { callback() });\n    }\n    finally {\n      delete root._bokeh_onload_callbacks\n    }\n    console.info(\"Bokeh: all callbacks have finished\");\n  }\n\n  function load_libs(js_urls, callback) {\n    root._bokeh_onload_callbacks.push(callback);\n    if (root._bokeh_is_loading > 0) {\n      console.log(\"Bokeh: BokehJS is being loaded, scheduling callback at\", now());\n      return null;\n    }\n    if (js_urls == null || js_urls.length === 0) {\n      run_callbacks();\n      return null;\n    }\n    console.log(\"Bokeh: BokehJS not loaded, scheduling load and callback at\", now());\n    root._bokeh_is_loading = js_urls.length;\n    for (var i = 0; i < js_urls.length; i++) {\n      var url = js_urls[i];\n      var s = document.createElement('script');\n      s.src = url;\n      s.async = false;\n      s.onreadystatechange = s.onload = function() {\n        root._bokeh_is_loading--;\n        if (root._bokeh_is_loading === 0) {\n          console.log(\"Bokeh: all BokehJS libraries loaded\");\n          run_callbacks()\n        }\n      };\n      s.onerror = function() {\n        console.warn(\"failed to load library \" + url);\n      };\n      console.log(\"Bokeh: injecting script tag for BokehJS library: \", url);\n      document.getElementsByTagName(\"head\")[0].appendChild(s);\n    }\n  };var element = document.getElementById(\"1001\");\n  if (element == null) {\n    console.log(\"Bokeh: ERROR: autoload.js configured with elementid '1001' but no matching script tag was found. \")\n    return false;\n  }\n\n  var js_urls = [\"https://cdn.pydata.org/bokeh/release/bokeh-1.0.0.min.js\", \"https://cdn.pydata.org/bokeh/release/bokeh-widgets-1.0.0.min.js\", \"https://cdn.pydata.org/bokeh/release/bokeh-tables-1.0.0.min.js\", \"https://cdn.pydata.org/bokeh/release/bokeh-gl-1.0.0.min.js\"];\n\n  var inline_js = [\n    function(Bokeh) {\n      Bokeh.set_log_level(\"info\");\n    },\n    \n    function(Bokeh) {\n      \n    },\n    function(Bokeh) {\n      console.log(\"Bokeh: injecting CSS: https://cdn.pydata.org/bokeh/release/bokeh-1.0.0.min.css\");\n      Bokeh.embed.inject_css(\"https://cdn.pydata.org/bokeh/release/bokeh-1.0.0.min.css\");\n      console.log(\"Bokeh: injecting CSS: https://cdn.pydata.org/bokeh/release/bokeh-widgets-1.0.0.min.css\");\n      Bokeh.embed.inject_css(\"https://cdn.pydata.org/bokeh/release/bokeh-widgets-1.0.0.min.css\");\n      console.log(\"Bokeh: injecting CSS: https://cdn.pydata.org/bokeh/release/bokeh-tables-1.0.0.min.css\");\n      Bokeh.embed.inject_css(\"https://cdn.pydata.org/bokeh/release/bokeh-tables-1.0.0.min.css\");\n    }\n  ];\n\n  function run_inline_js() {\n    \n    if ((root.Bokeh !== undefined) || (force === true)) {\n      for (var i = 0; i < inline_js.length; i++) {\n        inline_js[i].call(root, root.Bokeh);\n      }if (force === true) {\n        display_loaded();\n      }} else if (Date.now() < root._bokeh_timeout) {\n      setTimeout(run_inline_js, 100);\n    } else if (!root._bokeh_failed_load) {\n      console.log(\"Bokeh: BokehJS failed to load within specified timeout.\");\n      root._bokeh_failed_load = true;\n    } else if (force !== true) {\n      var cell = $(document.getElementById(\"1001\")).parents('.cell').data().cell;\n      cell.output_area.append_execute_result(NB_LOAD_WARNING)\n    }\n\n  }\n\n  if (root._bokeh_is_loading === 0) {\n    console.log(\"Bokeh: BokehJS loaded, going straight to plotting\");\n    run_inline_js();\n  } else {\n    load_libs(js_urls, function() {\n      console.log(\"Bokeh: BokehJS plotting callback run at\", now());\n      run_inline_js();\n    });\n  }\n}(window));"
     },
     "metadata": {},
     "output_type": "display_data"
    }
   ],
   "source": [
    "from TTreeHnBrowser import *\n",
    "import matplotlib.pyplot as plt\n",
    "%matplotlib inline\n",
    "output_notebook()\n",
    "#%matplotlib notebook"
   ]
  },
  {
   "cell_type": "code",
   "execution_count": 2,
   "metadata": {
    "extensions": {
     "jupyter_dashboards": {
      "version": 1,
      "views": {
       "grid_default": {
        "col": 4,
        "height": 9,
        "hidden": true,
        "row": 0,
        "width": 4
       },
       "report_default": {}
      }
     }
    }
   },
   "outputs": [
    {
     "data": {
      "image/png": "[encoded data removed]",
      "text/plain": [
       "<Figure size 432x288 with 1 Axes>"
      ]
     },
     "metadata": {},
     "output_type": "display_data"
    }
   ],
   "source": [
    "treeBrowser = TTreeHnBrowser()\n",
    "out = widgets.Output()   \n",
    "with out:\n",
    "    fig = plt.figure()\n",
    "    ax = fig.add_subplot(1, 1, 1)\n",
    "#https://stackoverflow.com/questions/51601061/jupyter-notebook-duplicated-scatter-plot-using-when-using-ipywidgets\n",
    "def updatePlot(change):\n",
    "    # applyt slider query \n",
    "    df2=treeBrowser.sliderArray.queryDataFrame(treeBrowser.fDataFrame)    \n",
    "    #print(\"New\")\n",
    "    out.clear_output()\n",
    "    with out:\n",
    "        for box in treeBrowser.drawVarArray.fDrawVarWidgets.children:\n",
    "            plot=str(box.children[0].value)\n",
    "            plots=plot.split(\":\")\n",
    "            #print(plots[0],plots[1])\n",
    "            y=df2[plots[0]]\n",
    "            x=df2[plots[1]]\n",
    "            plt.plot(x,y)\n",
    "            plt.show() "
   ]
  },
  {
   "cell_type": "code",
   "execution_count": 3,
   "metadata": {
    "extensions": {
     "jupyter_dashboards": {
      "version": 1,
      "views": {
       "grid_default": {
        "col": 8,
        "height": 12,
        "hidden": true,
        "row": 0,
        "width": 4
       },
       "report_default": {}
      }
     }
    },
    "scrolled": true
   },
   "outputs": [
    {
     "data": {
      "text/plain": [
       "<ROOT.THashList object (\"metaTable\") at 0x8c99390>"
      ]
     },
     "execution_count": 3,
     "metadata": {},
     "output_type": "execute_result"
    },
    {
     "name": "stderr",
     "output_type": "stream",
     "text": [
      "Info in <LoadTrees>: Load file\tmapOutputEvent.root\n",
      "Info in <InitMapTree>: hisITSOnElectronDist\tmapOutputEvent.root.hisITSOnElectronDist:\t40000\t40000\n",
      "Info in <InitMapTree>: hisITSOnElectronDist\tmapOutputEvent.root.hisTPCOnElectronDist:\t40000\t40000\n",
      "Info in <InitMapTree>: hisITSOnElectronDist\tmapOutputEvent.root.hisTRDOnElectronDist:\t40000\t40000\n",
      "Info in <InitMapTree>: hisITSOnElectronDist\tmapOutputEvent.root.hisITSOnPionDist:\t40000\t40000\n",
      "Info in <InitMapTree>: hisITSOnElectronDist\tmapOutputEvent.root.hisTPCOnPionDist:\t40000\t40000\n",
      "Info in <InitMapTree>: hisITSOnElectronDist\tmapOutputEvent.root.hisTRDOnPionDist:\t40000\t40000\n",
      "Info in <InitMapTree>: hisITSOnElectronDist\tmapOutputEvent.root.hisITSOnKaonDist:\t40000\t40000\n",
      "Info in <InitMapTree>: hisITSOnElectronDist\tmapOutputEvent.root.hisTPCOnKaonDist:\t40000\t40000\n",
      "Info in <InitMapTree>: hisITSOnElectronDist\tmapOutputEvent.root.hisTRDOnKaonDist:\t40000\t40000\n",
      "Info in <InitMapTree>: hisITSOnElectronDist\tmapOutputEvent.root.hisITSOnProtonDist:\t40000\t40000\n",
      "Info in <InitMapTree>: hisITSOnElectronDist\tmapOutputEvent.root.hisTPCOnProtonDist:\t40000\t40000\n",
      "Info in <InitMapTree>: hisITSOnElectronDist\tmapOutputEvent.root.hisTRDOnProtonDist:\t40000\t40000\n",
      "Info in <InitMapTree>: hisITSOnElectronDist\tmapOutputEvent.root.hisITSOnDeuteronDist:\t40000\t40000\n",
      "Info in <InitMapTree>: hisITSOnElectronDist\tmapOutputEvent.root.hisTPCOnDeuteronDist:\t40000\t40000\n",
      "Info in <InitMapTree>: hisITSOnElectronDist\tmapOutputEvent.root.hisTRDOnDeuteronDist:\t40000\t40000\n",
      "Info in <InitMapTree>: hisITSOnElectronDist\tmapOutputEvent.root.hisITSOnTritonDist:\t40000\t40000\n",
      "Info in <InitMapTree>: hisITSOnElectronDist\tmapOutputEvent.root.hisTPCOnTritonDist:\t40000\t40000\n",
      "Info in <InitMapTree>: hisITSOnElectronDist\tmapOutputEvent.root.hisTRDOnTritonDist:\t40000\t40000\n",
      "Info in <InitMapTree>: hisITSOnElectronDist\tmapOutputEvent.root.hisITSOnHe3Dist:\t40000\t40000\n",
      "Info in <InitMapTree>: hisITSOnElectronDist\tmapOutputEvent.root.hisTPCOnHe3Dist:\t40000\t40000\n",
      "Info in <InitMapTree>: hisITSOnElectronDist\tmapOutputEvent.root.hisTRDOnHe3Dist:\t40000\t40000\n",
      "Info in <InitMapTree>: hisITSOnElectronDist\tmapOutputEvent.root.hisITSOnHe4Dist:\t40000\t40000\n",
      "Info in <InitMapTree>: hisITSOnElectronDist\tmapOutputEvent.root.hisTPCOnHe4Dist:\t40000\t40000\n",
      "Info in <InitMapTree>: hisITSOnElectronDist\tmapOutputEvent.root.hisTRDOnHe4Dist:\t40000\t40000\n",
      "Info in <InitMapTree>: hisITSOnElectronDist\tmapOutputEvent.root.hisITSLossElectronDist:\t40000\t40000\n",
      "Info in <InitMapTree>: hisITSOnElectronDist\tmapOutputEvent.root.hisTPCLossElectronDist:\t40000\t40000\n",
      "Info in <InitMapTree>: hisITSOnElectronDist\tmapOutputEvent.root.hisTRDLossElectronDist:\t40000\t40000\n",
      "Info in <InitMapTree>: hisITSOnElectronDist\tmapOutputEvent.root.hisITSLossPionDist:\t40000\t40000\n",
      "Info in <InitMapTree>: hisITSOnElectronDist\tmapOutputEvent.root.hisTPCLossPionDist:\t40000\t40000\n",
      "Info in <InitMapTree>: hisITSOnElectronDist\tmapOutputEvent.root.hisTRDLossPionDist:\t40000\t40000\n",
      "Info in <InitMapTree>: hisITSOnElectronDist\tmapOutputEvent.root.hisITSLossKaonDist:\t40000\t40000\n",
      "Info in <InitMapTree>: hisITSOnElectronDist\tmapOutputEvent.root.hisTPCLossKaonDist:\t40000\t40000\n",
      "Info in <InitMapTree>: hisITSOnElectronDist\tmapOutputEvent.root.hisTRDLossKaonDist:\t40000\t40000\n",
      "Info in <InitMapTree>: hisITSOnElectronDist\tmapOutputEvent.root.hisTPCLossProtonDist:\t40000\t40000\n",
      "Info in <InitMapTree>: hisITSOnElectronDist\tmapOutputEvent.root.hisTRDLossProtonDist:\t40000\t40000\n",
      "Info in <InitMapTree>: hisITSOnElectronDist\tmapOutputEvent.root.hisTOFLossProtonDist:\t40000\t40000\n",
      "Info in <InitMapTree>: hisITSOnElectronDist\tmapOutputEvent.root.hisTPCLossDeuteronDist:\t40000\t40000\n",
      "Info in <InitMapTree>: hisITSOnElectronDist\tmapOutputEvent.root.hisTRDLossDeuteronDist:\t40000\t40000\n",
      "Info in <InitMapTree>: hisITSOnElectronDist\tmapOutputEvent.root.hisTOFLossDeuteronDist:\t40000\t40000\n",
      "Info in <InitMapTree>: hisITSOnElectronDist\tmapOutputEvent.root.hisTPCLossTritonDist:\t40000\t40000\n",
      "Info in <InitMapTree>: hisITSOnElectronDist\tmapOutputEvent.root.hisTRDLossTritonDist:\t40000\t40000\n",
      "Info in <InitMapTree>: hisITSOnElectronDist\tmapOutputEvent.root.hisTOFLossTritonDist:\t40000\t40000\n",
      "Info in <InitMapTree>: hisITSOnElectronDist\tmapOutputEvent.root.hisTPCLossHe3Dist:\t40000\t40000\n",
      "Info in <InitMapTree>: hisITSOnElectronDist\tmapOutputEvent.root.hisTRDLossHe3Dist:\t40000\t40000\n",
      "Info in <InitMapTree>: hisITSOnElectronDist\tmapOutputEvent.root.hisTOFLossHe3Dist:\t40000\t40000\n",
      "Info in <InitMapTree>: hisITSOnElectronDist\tmapOutputEvent.root.hisTPCLossHe4Dist:\t40000\t40000\n",
      "Info in <InitMapTree>: hisITSOnElectronDist\tmapOutputEvent.root.hisTRDLossHe4Dist:\t40000\t40000\n",
      "Info in <InitMapTree>: hisITSOnElectronDist\tmapOutputEvent.root.hisTOFLossHe4Dist:\t40000\t40000\n",
      "Info in <InitMapTree>: hisITSOnElectronDist\tmapOutputEvent.root.hisTOFlengthElectronDist:\t40000\t40000\n",
      "Info in <InitMapTree>: hisITSOnElectronDist\tmapOutputEvent.root.hisTOFlengthPionDist:\t40000\t40000\n",
      "Info in <InitMapTree>: hisITSOnElectronDist\tmapOutputEvent.root.hisTOFlengthKaonDist:\t40000\t40000\n",
      "Info in <InitMapTree>: hisITSOnElectronDist\tmapOutputEvent.root.hisTOFlengthProtonDist:\t40000\t40000\n",
      "Info in <InitMapTree>: hisITSOnElectronDist\tmapOutputEvent.root.hisTOFlengthDeuteronDist:\t40000\t40000\n",
      "Info in <InitMapTree>: hisITSOnElectronDist\tmapOutputEvent.root.hisTOFlengthTritonDist:\t40000\t40000\n",
      "Info in <InitMapTree>: hisITSOnElectronDist\tmapOutputEvent.root.hisTOFlengthHe3Dist:\t40000\t40000\n",
      "Info in <InitMapTree>: hisITSOnElectronDist\tmapOutputEvent.root.hisTOFlengthHe4Dist:\t40000\t40000\n",
      "Info in <InitMapTree>: hisITSOnElectronDist\tmapOutputEvent.root.hisTOFtimeElectronDist:\t40000\t40000\n",
      "Info in <InitMapTree>: hisITSOnElectronDist\tmapOutputEvent.root.hisTOFtimePionDist:\t40000\t40000\n",
      "Info in <InitMapTree>: hisITSOnElectronDist\tmapOutputEvent.root.hisTOFtimeKaonDist:\t40000\t40000\n",
      "Info in <InitMapTree>: hisITSOnElectronDist\tmapOutputEvent.root.hisTOFtimeProtonDist:\t40000\t40000\n",
      "Info in <InitMapTree>: hisITSOnElectronDist\tmapOutputEvent.root.hisTOFtimeDeuteronDist:\t40000\t40000\n",
      "Info in <InitMapTree>: hisITSOnElectronDist\tmapOutputEvent.root.hisTOFtimeTritonDist:\t40000\t40000\n",
      "Info in <InitMapTree>: hisITSOnElectronDist\tmapOutputEvent.root.hisTOFtimeHe3Dist:\t40000\t40000\n",
      "Info in <InitMapTree>: hisITSOnElectronDist\tmapOutputEvent.root.hisTOFtimeHe4Dist:\t40000\t40000\n"
     ]
    }
   ],
   "source": [
    "tree=ROOT.AliTreePlayer.LoadTrees(\"cat performance.list\",\"(his.*)\",\"xxx\",\".*\",\"\",\"\")\n",
    "ROOT.TStatToolkit.AddMetadata(tree,\"mptCenter.Slider\",\"(0:10:0.1)\")\n",
    "ROOT.TStatToolkit.AddMetadata(tree,\"mptCenter.Hint\",\"1/pt (GeV/c)\")\n",
    "ROOT.TStatToolkit.AddMetadata(tree,\"thetaCenter.Slider\",\"(-1:1:0.05)\")\n",
    "ROOT.TStatToolkit.AddMetadata(tree,\"thetaCenter.Hint\",\"pz/pt\")\n",
    "ROOT.TStatToolkit.AddMetadata(tree,\"deltaphiCenter.Slider\",\"(-1:1:0.1)\")\n",
    "ROOT.TStatToolkit.AddMetadata(tree,\"deltaPhiCenter.Hint\",\"delta sector\")"
   ]
  },
  {
   "cell_type": "code",
   "execution_count": 4,
   "metadata": {
    "extensions": {
     "jupyter_dashboards": {
      "version": 1,
      "views": {
       "grid_default": {
        "hidden": true
       },
       "report_default": {}
      }
     }
    }
   },
   "outputs": [],
   "source": [
    "#tree=ROOT.AliTreePlayer.LoadTrees(\"cat mapLong.list\",\"his.*_proj_0_1Dist\",\"$#\",\".*\",\"\",\"\")"
   ]
  },
  {
   "cell_type": "code",
   "execution_count": 5,
   "metadata": {
    "extensions": {
     "jupyter_dashboards": {
      "version": 1,
      "views": {
       "grid_default": {
        "hidden": true
       },
       "report_default": {}
      }
     }
    }
   },
   "outputs": [],
   "source": [
    "treeBrowser.drawVarArray.addVariables([\"hisTPCLossPionDist.mean:mptCenter\", \"hisTPCLossProtonDist.mean:mptCenter\", \"hisTPCLossKaonDist.mean:mptCenter\", \"hisTPCLossTritonDist.mean:mptCenter\",])\n",
    "treeBrowser.drawSelection.value=\"hisTPCLossKaonDist.entries>10\""
   ]
  },
  {
   "cell_type": "code",
   "execution_count": 6,
   "metadata": {
    "extensions": {
     "jupyter_dashboards": {
      "version": 1,
      "views": {
       "grid_default": {
        "col": 0,
        "height": 4,
        "hidden": false,
        "row": 4,
        "width": 4
       },
       "report_default": {}
      }
     }
    }
   },
   "outputs": [
    {
     "data": {
      "application/vnd.jupyter.widget-view+json": {
       "model_id": "27ddf7afcfda4a4a88e7edba9c7afbf0",
       "version_major": 2,
       "version_minor": 0
      },
      "text/plain": [
       "FloatRangeSlider(value=(0.0, 10.0), description=u'mptCenter', layout=Layout(width=u'66%'), max=10.0)"
      ]
     },
     "metadata": {},
     "output_type": "display_data"
    }
   ],
   "source": [
    "treeBrowser.initTree(tree)   \n",
    "#interact(updatePlot,treeBrowser.drawVarArray.fDrawVarWidgets.children[0].children[0])\n",
    "treeBrowser.sliderArray.fSliderWidgets.children[0].children[0]\n",
    "#interact(updatePlot,x=treeBrowser.sliderArray.fSliderWidgets.children[0].children[0])"
   ]
  },
  {
   "cell_type": "code",
   "execution_count": 7,
   "metadata": {
    "extensions": {
     "jupyter_dashboards": {
      "version": 1,
      "views": {
       "grid_default": {
        "col": 0,
        "height": 31,
        "hidden": false,
        "row": 8,
        "width": 12
       },
       "report_default": {}
      }
     }
    }
   },
   "outputs": [
    {
     "data": {
      "application/vnd.jupyter.widget-view+json": {
       "model_id": "ebae02cda2564ba19d93f8b50cff777f",
       "version_major": 2,
       "version_minor": 0
      },
      "text/plain": [
       "VkJveChjaGlsZHJlbj0oSEJveChjaGlsZHJlbj0oVGV4dCh2YWx1ZT11Jy4qJywgZGVzY3JpcHRpb249dSdGcmllbmQgUmVnRXhwJyksIFRleHQodmFsdWU9dScuKicsIGRlc2NyaXB0aW9uPXXigKY=\n"
      ]
     },
     "metadata": {},
     "output_type": "display_data"
    }
   ],
   "source": [
    "#intplot=interactive(updatePlot,y=treeBrowser.sliderArray.fSliderWidgets.children[0].children[0])\n",
    "treeBrowser.boxAll\n",
    "#intplot"
   ]
  },
  {
   "cell_type": "code",
   "execution_count": 8,
   "metadata": {
    "extensions": {
     "jupyter_dashboards": {
      "version": 1,
      "views": {
       "grid_default": {
        "hidden": true
       },
       "report_default": {}
      }
     }
    }
   },
   "outputs": [],
   "source": [
    "#display(out)"
   ]
  },
  {
   "cell_type": "code",
   "execution_count": 9,
   "metadata": {
    "extensions": {
     "jupyter_dashboards": {
      "version": 1,
      "views": {
       "grid_default": {
        "col": 0,
        "height": 29,
        "hidden": false,
        "row": 39,
        "width": 4
       },
       "report_default": {}
      }
     }
    }
   },
   "outputs": [
    {
     "data": {
      "application/vnd.jupyter.widget-view+json": {
       "model_id": "f0bfed1a48444603a1861d24644c4b98",
       "version_major": 2,
       "version_minor": 0
      },
      "text/plain": [
       "RmxvYXRSYW5nZVNsaWRlcih2YWx1ZT0oLTEuMCwgMS4wKSwgZGVzY3JpcHRpb249dSd0aGV0YUNlbnRlcicsIGxheW91dD1MYXlvdXQod2lkdGg9dSc2NiUnKSwgbWF4PTEuMCwgbWluPS0xLjDigKY=\n"
      ]
     },
     "metadata": {},
     "output_type": "display_data"
    },
    {
     "data": {
      "application/vnd.jupyter.widget-view+json": {
       "model_id": "f8f29cea2f684fa7a57778168433cca4",
       "version_major": 2,
       "version_minor": 0
      },
      "text/plain": [
       "RmxvYXRSYW5nZVNsaWRlcih2YWx1ZT0oLTEuMCwgMS4wKSwgZGVzY3JpcHRpb249dSdkZWx0YXBoaUNlbnRlcicsIGxheW91dD1MYXlvdXQod2lkdGg9dSc2NiUnKSwgbWF4PTEuMCwgbWluPS3igKY=\n"
      ]
     },
     "metadata": {},
     "output_type": "display_data"
    },
    {
     "data": {
      "application/vnd.jupyter.widget-view+json": {
       "model_id": "6aea0164d09b4026addb752426213ab2",
       "version_major": 2,
       "version_minor": 0
      },
      "text/plain": [
       "Output(layout=Layout(height=u'800px'))"
      ]
     },
     "metadata": {},
     "output_type": "display_data"
    }
   ],
   "source": [
    "out.layout.height='800px'\n",
    "treeBrowser.sliderArray.fSliderWidgets.children[1].children[0].observe(updatePlot, names='value')\n",
    "display(treeBrowser.sliderArray.fSliderWidgets.children[1].children[0])\n",
    "display(treeBrowser.sliderArray.fSliderWidgets.children[2].children[0])\n",
    "display(out)"
   ]
  },
  {
   "cell_type": "code",
   "execution_count": 10,
   "metadata": {
    "extensions": {
     "jupyter_dashboards": {
      "version": 1,
      "views": {
       "grid_default": {
        "hidden": true
       },
       "report_default": {}
      }
     }
    }
   },
   "outputs": [
    {
     "ename": "AttributeError",
     "evalue": "'int' object has no attribute 'head'",
     "output_type": "error",
     "traceback": [
      "\u001b[0;31m\u001b[0m",
      "\u001b[0;31mAttributeError\u001b[0mTraceback (most recent call last)",
      "\u001b[0;32m<ipython-input-10-90ec0d5816d4>\u001b[0m in \u001b[0;36m<module>\u001b[0;34m()\u001b[0m\n\u001b[0;32m----> 1\u001b[0;31m \u001b[0mtreeBrowser\u001b[0m\u001b[0;34m.\u001b[0m\u001b[0mfDataFrame\u001b[0m\u001b[0;34m.\u001b[0m\u001b[0mhead\u001b[0m\u001b[0;34m(\u001b[0m\u001b[0;36m5\u001b[0m\u001b[0;34m)\u001b[0m\u001b[0;34m\u001b[0m\u001b[0m\n\u001b[0m",
      "\u001b[0;31mAttributeError\u001b[0m: 'int' object has no attribute 'head'"
     ]
    }
   ],
   "source": [
    "treeBrowser.fDataFrame.head(5)"
   ]
  },
  {
   "cell_type": "code",
   "execution_count": null,
   "metadata": {},
   "outputs": [],
   "source": [
    "\n",
    "output_notebook()\n",
    "df2=treeBrowser.sliderArray.queryDataFrame(treeBrowser.fDataFrame)  \n",
    "source = ColumnDataSource(data=treeBrowser.fDataFrame)\n",
    "\n",
    "tools = [\"box_select\", \"hover\", \"reset\"]\n",
    "#p = figure(plot_height=300, plot_width=300, tools=tools)\n",
    "p = figure(plot_height=300, plot_width=600)\n",
    "p.circle(x=\"thetaCenter\", y=\"hisTPCLossPionDist.mean\", size=3, hover_color=\"red\", source=source)\n",
    "show(gridplot([[p]]))"
   ]
  },
  {
   "cell_type": "code",
   "execution_count": null,
   "metadata": {},
   "outputs": [],
   "source": [
    "plotArray=[]\n",
    "#df2[plots[0]]\n",
    "for box in treeBrowser.drawVarArray.fDrawVarWidgets.children:\n",
    "    plot=str(box.children[0].value)\n",
    "    plots=plot.split(\":\")\n",
    "    p = figure(plot_height=300, plot_width=600)\n",
    "    p.circle(x=plots[0], y=plots[1], size=3, hover_color=\"red\", source=source)\n",
    "    plotArray.append(p)\n",
    "show(gridplot([plotArray]))    \n",
    "    \n",
    "    "
   ]
  },
  {
   "cell_type": "code",
   "execution_count": null,
   "metadata": {},
   "outputs": [],
   "source": [
    "gridplot([plotArray])"
   ]
  },
  {
   "cell_type": "code",
   "execution_count": null,
   "metadata": {},
   "outputs": [],
   "source": []
  }
 ],
 "metadata": {
  "extensions": {
   "jupyter_dashboards": {
    "activeView": "grid_default",
    "version": 1,
    "views": {
     "grid_default": {
      "cellMargin": 10,
      "defaultCellHeight": 20,
      "maxColumns": 12,
      "name": "grid",
      "type": "grid"
     },
     "report_default": {
      "name": "report",
      "type": "report"
     }
    }
   }
  },
  "kernelspec": {
   "display_name": "Python 2",
   "language": "python",
   "name": "python2"
  },
  "language_info": {
   "codemirror_mode": {
    "name": "ipython",
    "version": 2
   },
   "file_extension": ".py",
   "mimetype": "text/x-python",
   "name": "python",
   "nbconvert_exporter": "python",
   "pygments_lexer": "ipython2",
   "version": "2.7.12"
  }
 },
 "nbformat": 4,
 "nbformat_minor": 2
}
