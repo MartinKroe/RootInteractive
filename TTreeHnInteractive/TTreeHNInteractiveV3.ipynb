{
 "cells": [
  {
   "cell_type": "code",
   "execution_count": 10,
   "metadata": {},
   "outputs": [],
   "source": [
    "from TTreeHnBrowser import *"
   ]
  },
  {
   "cell_type": "code",
   "execution_count": 2,
   "metadata": {},
   "outputs": [],
   "source": [
    "treeBrowser = TTreeHnBrowser()"
   ]
  },
  {
   "cell_type": "code",
   "execution_count": 3,
   "metadata": {
    "scrolled": true
   },
   "outputs": [
    {
     "data": {
      "text/plain": [
       "<ROOT.THashList object (\"metaTable\") at 0x883bd80>"
      ]
     },
     "execution_count": 3,
     "metadata": {},
     "output_type": "execute_result"
    },
    {
     "name": "stderr",
     "output_type": "stream",
     "text": [
      "Info in <LoadTrees>: Load file\tmapOutputEvent.root\n",
      "Info in <InitMapTree>: hisITSOnElectronDist\tmapOutputEvent.root.hisITSOnElectronDist:\t40000\t40000\n",
      "Info in <InitMapTree>: hisITSOnElectronDist\tmapOutputEvent.root.hisTPCOnElectronDist:\t40000\t40000\n",
      "Info in <InitMapTree>: hisITSOnElectronDist\tmapOutputEvent.root.hisTRDOnElectronDist:\t40000\t40000\n",
      "Info in <InitMapTree>: hisITSOnElectronDist\tmapOutputEvent.root.hisITSOnPionDist:\t40000\t40000\n",
      "Info in <InitMapTree>: hisITSOnElectronDist\tmapOutputEvent.root.hisTPCOnPionDist:\t40000\t40000\n",
      "Info in <InitMapTree>: hisITSOnElectronDist\tmapOutputEvent.root.hisTRDOnPionDist:\t40000\t40000\n",
      "Info in <InitMapTree>: hisITSOnElectronDist\tmapOutputEvent.root.hisITSOnKaonDist:\t40000\t40000\n",
      "Info in <InitMapTree>: hisITSOnElectronDist\tmapOutputEvent.root.hisTPCOnKaonDist:\t40000\t40000\n",
      "Info in <InitMapTree>: hisITSOnElectronDist\tmapOutputEvent.root.hisTRDOnKaonDist:\t40000\t40000\n",
      "Info in <InitMapTree>: hisITSOnElectronDist\tmapOutputEvent.root.hisITSOnProtonDist:\t40000\t40000\n",
      "Info in <InitMapTree>: hisITSOnElectronDist\tmapOutputEvent.root.hisTPCOnProtonDist:\t40000\t40000\n",
      "Info in <InitMapTree>: hisITSOnElectronDist\tmapOutputEvent.root.hisTRDOnProtonDist:\t40000\t40000\n",
      "Info in <InitMapTree>: hisITSOnElectronDist\tmapOutputEvent.root.hisITSOnDeuteronDist:\t40000\t40000\n",
      "Info in <InitMapTree>: hisITSOnElectronDist\tmapOutputEvent.root.hisTPCOnDeuteronDist:\t40000\t40000\n",
      "Info in <InitMapTree>: hisITSOnElectronDist\tmapOutputEvent.root.hisTRDOnDeuteronDist:\t40000\t40000\n",
      "Info in <InitMapTree>: hisITSOnElectronDist\tmapOutputEvent.root.hisITSOnTritonDist:\t40000\t40000\n",
      "Info in <InitMapTree>: hisITSOnElectronDist\tmapOutputEvent.root.hisTPCOnTritonDist:\t40000\t40000\n",
      "Info in <InitMapTree>: hisITSOnElectronDist\tmapOutputEvent.root.hisTRDOnTritonDist:\t40000\t40000\n",
      "Info in <InitMapTree>: hisITSOnElectronDist\tmapOutputEvent.root.hisITSOnHe3Dist:\t40000\t40000\n",
      "Info in <InitMapTree>: hisITSOnElectronDist\tmapOutputEvent.root.hisTPCOnHe3Dist:\t40000\t40000\n",
      "Info in <InitMapTree>: hisITSOnElectronDist\tmapOutputEvent.root.hisTRDOnHe3Dist:\t40000\t40000\n",
      "Info in <InitMapTree>: hisITSOnElectronDist\tmapOutputEvent.root.hisITSOnHe4Dist:\t40000\t40000\n",
      "Info in <InitMapTree>: hisITSOnElectronDist\tmapOutputEvent.root.hisTPCOnHe4Dist:\t40000\t40000\n",
      "Info in <InitMapTree>: hisITSOnElectronDist\tmapOutputEvent.root.hisTRDOnHe4Dist:\t40000\t40000\n",
      "Info in <InitMapTree>: hisITSOnElectronDist\tmapOutputEvent.root.hisITSLossElectronDist:\t40000\t40000\n",
      "Info in <InitMapTree>: hisITSOnElectronDist\tmapOutputEvent.root.hisTPCLossElectronDist:\t40000\t40000\n",
      "Info in <InitMapTree>: hisITSOnElectronDist\tmapOutputEvent.root.hisTRDLossElectronDist:\t40000\t40000\n",
      "Info in <InitMapTree>: hisITSOnElectronDist\tmapOutputEvent.root.hisITSLossPionDist:\t40000\t40000\n",
      "Info in <InitMapTree>: hisITSOnElectronDist\tmapOutputEvent.root.hisTPCLossPionDist:\t40000\t40000\n",
      "Info in <InitMapTree>: hisITSOnElectronDist\tmapOutputEvent.root.hisTRDLossPionDist:\t40000\t40000\n",
      "Info in <InitMapTree>: hisITSOnElectronDist\tmapOutputEvent.root.hisITSLossKaonDist:\t40000\t40000\n",
      "Info in <InitMapTree>: hisITSOnElectronDist\tmapOutputEvent.root.hisTPCLossKaonDist:\t40000\t40000\n",
      "Info in <InitMapTree>: hisITSOnElectronDist\tmapOutputEvent.root.hisTRDLossKaonDist:\t40000\t40000\n",
      "Info in <InitMapTree>: hisITSOnElectronDist\tmapOutputEvent.root.hisTPCLossProtonDist:\t40000\t40000\n",
      "Info in <InitMapTree>: hisITSOnElectronDist\tmapOutputEvent.root.hisTRDLossProtonDist:\t40000\t40000\n",
      "Info in <InitMapTree>: hisITSOnElectronDist\tmapOutputEvent.root.hisTOFLossProtonDist:\t40000\t40000\n",
      "Info in <InitMapTree>: hisITSOnElectronDist\tmapOutputEvent.root.hisTPCLossDeuteronDist:\t40000\t40000\n",
      "Info in <InitMapTree>: hisITSOnElectronDist\tmapOutputEvent.root.hisTRDLossDeuteronDist:\t40000\t40000\n",
      "Info in <InitMapTree>: hisITSOnElectronDist\tmapOutputEvent.root.hisTOFLossDeuteronDist:\t40000\t40000\n",
      "Info in <InitMapTree>: hisITSOnElectronDist\tmapOutputEvent.root.hisTPCLossTritonDist:\t40000\t40000\n",
      "Info in <InitMapTree>: hisITSOnElectronDist\tmapOutputEvent.root.hisTRDLossTritonDist:\t40000\t40000\n",
      "Info in <InitMapTree>: hisITSOnElectronDist\tmapOutputEvent.root.hisTOFLossTritonDist:\t40000\t40000\n",
      "Info in <InitMapTree>: hisITSOnElectronDist\tmapOutputEvent.root.hisTPCLossHe3Dist:\t40000\t40000\n",
      "Info in <InitMapTree>: hisITSOnElectronDist\tmapOutputEvent.root.hisTRDLossHe3Dist:\t40000\t40000\n",
      "Info in <InitMapTree>: hisITSOnElectronDist\tmapOutputEvent.root.hisTOFLossHe3Dist:\t40000\t40000\n",
      "Info in <InitMapTree>: hisITSOnElectronDist\tmapOutputEvent.root.hisTPCLossHe4Dist:\t40000\t40000\n",
      "Info in <InitMapTree>: hisITSOnElectronDist\tmapOutputEvent.root.hisTRDLossHe4Dist:\t40000\t40000\n",
      "Info in <InitMapTree>: hisITSOnElectronDist\tmapOutputEvent.root.hisTOFLossHe4Dist:\t40000\t40000\n",
      "Info in <InitMapTree>: hisITSOnElectronDist\tmapOutputEvent.root.hisTOFlengthElectronDist:\t40000\t40000\n",
      "Info in <InitMapTree>: hisITSOnElectronDist\tmapOutputEvent.root.hisTOFlengthPionDist:\t40000\t40000\n",
      "Info in <InitMapTree>: hisITSOnElectronDist\tmapOutputEvent.root.hisTOFlengthKaonDist:\t40000\t40000\n",
      "Info in <InitMapTree>: hisITSOnElectronDist\tmapOutputEvent.root.hisTOFlengthProtonDist:\t40000\t40000\n",
      "Info in <InitMapTree>: hisITSOnElectronDist\tmapOutputEvent.root.hisTOFlengthDeuteronDist:\t40000\t40000\n",
      "Info in <InitMapTree>: hisITSOnElectronDist\tmapOutputEvent.root.hisTOFlengthTritonDist:\t40000\t40000\n",
      "Info in <InitMapTree>: hisITSOnElectronDist\tmapOutputEvent.root.hisTOFlengthHe3Dist:\t40000\t40000\n",
      "Info in <InitMapTree>: hisITSOnElectronDist\tmapOutputEvent.root.hisTOFlengthHe4Dist:\t40000\t40000\n",
      "Info in <InitMapTree>: hisITSOnElectronDist\tmapOutputEvent.root.hisTOFtimeElectronDist:\t40000\t40000\n",
      "Info in <InitMapTree>: hisITSOnElectronDist\tmapOutputEvent.root.hisTOFtimePionDist:\t40000\t40000\n",
      "Info in <InitMapTree>: hisITSOnElectronDist\tmapOutputEvent.root.hisTOFtimeKaonDist:\t40000\t40000\n",
      "Info in <InitMapTree>: hisITSOnElectronDist\tmapOutputEvent.root.hisTOFtimeProtonDist:\t40000\t40000\n",
      "Info in <InitMapTree>: hisITSOnElectronDist\tmapOutputEvent.root.hisTOFtimeDeuteronDist:\t40000\t40000\n",
      "Info in <InitMapTree>: hisITSOnElectronDist\tmapOutputEvent.root.hisTOFtimeTritonDist:\t40000\t40000\n",
      "Info in <InitMapTree>: hisITSOnElectronDist\tmapOutputEvent.root.hisTOFtimeHe3Dist:\t40000\t40000\n",
      "Info in <InitMapTree>: hisITSOnElectronDist\tmapOutputEvent.root.hisTOFtimeHe4Dist:\t40000\t40000\n"
     ]
    }
   ],
   "source": [
    "tree=ROOT.AliTreePlayer.LoadTrees(\"cat performance.list\",\"(his.*)\",\"xxx\",\".*\",\"\",\"\")\n",
    "ROOT.TStatToolkit.AddMetadata(tree,\"mptCenter.Slider\",\"(0:10:0.1)\")\n",
    "ROOT.TStatToolkit.AddMetadata(tree,\"mptCenter.Hint\",\"1/pt (GeV/c)\")\n",
    "ROOT.TStatToolkit.AddMetadata(tree,\"thetaCenter.Slider\",\"(-0.17:0.17:0.05)\")\n",
    "ROOT.TStatToolkit.AddMetadata(tree,\"thetaCenter.Hint\",\"pz/pt\")\n",
    "ROOT.TStatToolkit.AddMetadata(tree,\"deltaphiCenter.Slider\",\"(-1:1:0.1)\")\n",
    "ROOT.TStatToolkit.AddMetadata(tree,\"deltaPhiCenter.Hint\",\"delta sector\")"
   ]
  },
  {
   "cell_type": "code",
   "execution_count": 4,
   "metadata": {},
   "outputs": [],
   "source": [
    "#tree=ROOT.AliTreePlayer.LoadTrees(\"cat mapLong.list\",\"his.*_proj_0_1Dist\",\"$#\",\".*\",\"\",\"\")"
   ]
  },
  {
   "cell_type": "code",
   "execution_count": 5,
   "metadata": {},
   "outputs": [],
   "source": [
    "treeBrowser.drawVarArray.addVariables([\"entries\",\"mean\", \"mean0\"])\n",
    "treeBrowser.drawSelection.value=\"hisITSOnPionDist.entries>20\""
   ]
  },
  {
   "cell_type": "code",
   "execution_count": 6,
   "metadata": {},
   "outputs": [
    {
     "data": {
      "text/plain": [
       "0"
      ]
     },
     "execution_count": 6,
     "metadata": {},
     "output_type": "execute_result"
    }
   ],
   "source": [
    "treeBrowser.initTree(tree)     "
   ]
  },
  {
   "cell_type": "code",
   "execution_count": 7,
   "metadata": {},
   "outputs": [
    {
     "data": {
      "application/vnd.jupyter.widget-view+json": {
       "model_id": "24bdc877f89642f7a505b0a43f579af4",
       "version_major": 2,
       "version_minor": 0
      },
      "text/plain": [
       "VkJveChjaGlsZHJlbj0oSEJveChjaGlsZHJlbj0oVGV4dCh2YWx1ZT11Jy4qJywgZGVzY3JpcHRpb249dSdGcmllbmQgUmVnRXhwJyksIFRleHQodmFsdWU9dScuKicsIGRlc2NyaXB0aW9uPXXigKY=\n"
      ]
     },
     "metadata": {},
     "output_type": "display_data"
    }
   ],
   "source": [
    "treeBrowser.boxAll"
   ]
  },
  {
   "cell_type": "code",
   "execution_count": null,
   "metadata": {},
   "outputs": [],
   "source": []
  },
  {
   "cell_type": "code",
   "execution_count": 8,
   "metadata": {},
   "outputs": [
    {
     "ename": "SyntaxError",
     "evalue": "invalid syntax (<ipython-input-8-74600bab7998>, line 3)",
     "output_type": "error",
     "traceback": [
      "\u001b[0;36m  File \u001b[0;32m\"<ipython-input-8-74600bab7998>\"\u001b[0;36m, line \u001b[0;32m3\u001b[0m\n\u001b[0;31m    treeBrowser.boxAll.children.\u001b[0m\n\u001b[0m                                ^\u001b[0m\n\u001b[0;31mSyntaxError\u001b[0m\u001b[0;31m:\u001b[0m invalid syntax\n"
     ]
    }
   ],
   "source": [
    "treeBrowser.fDataFrame.head(5)\n",
    "treeBrowser.fQgrid\n",
    "treeBrowser.boxAll.children.\n",
    "#treeBrowser.fArrayNamed['deltaphiCenter'][0:150:15]\n",
    "#y=treeBrowser.fArrayNamed('mptCenter')"
   ]
  },
  {
   "cell_type": "code",
   "execution_count": null,
   "metadata": {},
   "outputs": [],
   "source": [
    "treeBrowser.fDataFrame.head(5)"
   ]
  },
  {
   "cell_type": "code",
   "execution_count": null,
   "metadata": {},
   "outputs": [],
   "source": [
    "print(\"treeBrowser.sliderArray.fSliderWidgets.children[0].children[0]\",  treeBrowser.sliderArray.fSliderWidgets.children[0].children[0])\n",
    "#\n",
    "print(treeBrowser.sliderArray.fVariableList)\n",
    "print(treeBrowser.drawVarArray.fVariableList)"
   ]
  },
  {
   "cell_type": "code",
   "execution_count": 14,
   "metadata": {},
   "outputs": [
    {
     "data": {
      "application/vnd.jupyter.widget-view+json": {
       "model_id": "6881d2bd06884da69bc8aebf0e173a0f",
       "version_major": 2,
       "version_minor": 0
      },
      "text/plain": [
       "RmlndXJlKGF4ZXM9W0F4aXMob3JpZW50YXRpb249J3ZlcnRpY2FsJywgc2NhbGU9TGluZWFyU2NhbGUoKSksIEF4aXMoc2NhbGU9TGluZWFyU2NhbGUoKSldLCBmaWdfbWFyZ2luPXsndG9wJzrigKY=\n"
      ]
     },
     "metadata": {},
     "output_type": "display_data"
    }
   ],
   "source": [
    "fig = pyplt.figure()\n",
    "axes_options = {'x': {'label': 'Date'}, 'y': {'label': 'Security 2'}}\n",
    "#for var in treeBrowser.drawVarArray.fVariableList:\n",
    "#scatt = plt.scatter(treeBrowser.fDataFrame['thetaCenter/D'], treeBrowser.fDataFrame['thetaCenter/D'], stroke='black')\n",
    "pyplt.hist(treeBrowser.fDataFrame['hisITSOnPionDist.entries/D'])\n",
    "fig"
   ]
  },
  {
   "cell_type": "code",
   "execution_count": null,
   "metadata": {},
   "outputs": [],
   "source": [
    "treeBrowser.drawVarArray.fVariableList\n",
    "treeBrowser.fDataFrame.shape\n"
   ]
  },
  {
   "cell_type": "code",
   "execution_count": null,
   "metadata": {},
   "outputs": [],
   "source": [
    "plt.hist"
   ]
  }
 ],
 "metadata": {
  "kernelspec": {
   "display_name": "Python 2",
   "language": "python",
   "name": "python2"
  },
  "language_info": {
   "codemirror_mode": {
    "name": "ipython",
    "version": 2
   },
   "file_extension": ".py",
   "mimetype": "text/x-python",
   "name": "python",
   "nbconvert_exporter": "python",
   "pygments_lexer": "ipython2",
   "version": "2.7.12"
  }
 },
 "nbformat": 4,
 "nbformat_minor": 2
}
