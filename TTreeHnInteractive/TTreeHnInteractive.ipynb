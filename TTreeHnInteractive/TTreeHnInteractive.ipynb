{
 "cells": [
  {
   "cell_type": "markdown",
   "metadata": {},
   "source": [
    "### Init "
   ]
  },
  {
   "cell_type": "code",
   "execution_count": 1,
   "metadata": {},
   "outputs": [
    {
     "name": "stdout",
     "output_type": "stream",
     "text": [
      "Welcome to JupyROOT 6.13/03\n"
     ]
    }
   ],
   "source": [
    "from __future__ import print_function\n",
    "from ipywidgets import interact, interactive, fixed, interact_manual\n",
    "import ipywidgets as widgets\n",
    "from ipywidgets import Button, Layout\n",
    "import numpy as np\n",
    "from IPython.display import display\n",
    "import ROOT\n",
    "ROOT.gSystem.Load(\"$ALICE_ROOT/lib/libSTAT.so\")\n",
    "%jsroot"
   ]
  },
  {
   "cell_type": "code",
   "execution_count": 2,
   "metadata": {},
   "outputs": [],
   "source": [
    "c1=ROOT.TCanvas(\"c1\",\"c1\",600,400);"
   ]
  },
  {
   "cell_type": "markdown",
   "metadata": {},
   "source": [
    "### Load trees from the list (e.g.)"
   ]
  },
  {
   "cell_type": "code",
   "execution_count": 3,
   "metadata": {
    "collapsed": true
   },
   "outputs": [
    {
     "data": {
      "text/plain": [
       "True"
      ]
     },
     "execution_count": 3,
     "metadata": {},
     "output_type": "execute_result"
    },
    {
     "name": "stderr",
     "output_type": "stream",
     "text": [
      "Info in <LoadTrees>: Load file\t/data/alice-tpc-notes/JIRA/PWGPP-429/alice/data/2017/LHC17o/pass1_TRDtracking/mapOutputs0.05.TEJ1.root\n",
      "Info in <InitMapTree>: hisQptTgldAlphaQN80_proj_0_1Dist\t/data/alice-tpc-notes/JIRA/PWGPP-429/alice/data/2017/LHC17o/pass1_TRDtracking/mapOutputs0.05.TEJ1.root.hisQptTgldAlphaQN80_proj_0_1Dist:\t201\t201\n",
      "Info in <InitMapTree>: hisQptTgldAlphaQN80_proj_0_1Dist\t/data/alice-tpc-notes/JIRA/PWGPP-429/alice/data/2017/LHC17o/pass1_TRDtracking/mapOutputs0.05.TEJ1.root.hisQptTgldAlphaQN100_proj_0_1Dist:\t201\t201\n",
      "Info in <InitMapTree>: hisQptTgldAlphaQN80_proj_0_1Dist\t/data/alice-tpc-notes/JIRA/PWGPP-429/alice/data/2017/LHC17o/pass1_TRDtracking/mapOutputs0.05.TEJ1.root.hisQptTgldAlphaQN120_proj_0_1Dist:\t201\t201\n",
      "Info in <InitMapTree>: hisQptTgldAlphaQN80_proj_0_1Dist\t/data/alice-tpc-notes/JIRA/PWGPP-429/alice/data/2017/LHC17o/pass1_TRDtracking/mapOutputs0.05.TEJ1.root.hisQptTgldAlphaQNTPCTRD80_proj_0_1Dist:\t201\t201\n",
      "Info in <InitMapTree>: hisQptTgldAlphaQN80_proj_0_1Dist\t/data/alice-tpc-notes/JIRA/PWGPP-429/alice/data/2017/LHC17o/pass1_TRDtracking/mapOutputs0.05.TEJ1.root.hisQptTgldAlphaQNTPCTRD100_proj_0_1Dist:\t201\t201\n",
      "Info in <InitMapTree>: hisQptTgldAlphaQN80_proj_0_1Dist\t/data/alice-tpc-notes/JIRA/PWGPP-429/alice/data/2017/LHC17o/pass1_TRDtracking/mapOutputs0.05.TEJ1.root.hisQptTgldAlphaQNTPCTRD120_proj_0_1Dist:\t201\t201\n",
      "Info in <LoadTrees>: Load file\t/data/alice-tpc-notes/JIRA/PWGPP-429/alice/data/2017/LHC17o/pass1_TRDtracking/mapOutputs0.05.TCalo.root\n",
      "Info in <InitMapTree>: hisQptTgldAlphaQN80_proj_0_1Dist\t/data/alice-tpc-notes/JIRA/PWGPP-429/alice/data/2017/LHC17o/pass1_TRDtracking/mapOutputs0.05.TCalo.root.hisQptTgldAlphaQN80_proj_0_1Dist:\t201\t201\n",
      "Info in <InitMapTree>: hisQptTgldAlphaQN80_proj_0_1Dist\t/data/alice-tpc-notes/JIRA/PWGPP-429/alice/data/2017/LHC17o/pass1_TRDtracking/mapOutputs0.05.TCalo.root.hisQptTgldAlphaQN100_proj_0_1Dist:\t201\t201\n",
      "Info in <InitMapTree>: hisQptTgldAlphaQN80_proj_0_1Dist\t/data/alice-tpc-notes/JIRA/PWGPP-429/alice/data/2017/LHC17o/pass1_TRDtracking/mapOutputs0.05.TCalo.root.hisQptTgldAlphaQN120_proj_0_1Dist:\t201\t201\n",
      "Info in <InitMapTree>: hisQptTgldAlphaQN80_proj_0_1Dist\t/data/alice-tpc-notes/JIRA/PWGPP-429/alice/data/2017/LHC17o/pass1_TRDtracking/mapOutputs0.05.TCalo.root.hisQptTgldAlphaQNTPCTRD80_proj_0_1Dist:\t201\t201\n",
      "Info in <InitMapTree>: hisQptTgldAlphaQN80_proj_0_1Dist\t/data/alice-tpc-notes/JIRA/PWGPP-429/alice/data/2017/LHC17o/pass1_TRDtracking/mapOutputs0.05.TCalo.root.hisQptTgldAlphaQNTPCTRD100_proj_0_1Dist:\t201\t201\n",
      "Info in <InitMapTree>: hisQptTgldAlphaQN80_proj_0_1Dist\t/data/alice-tpc-notes/JIRA/PWGPP-429/alice/data/2017/LHC17o/pass1_TRDtracking/mapOutputs0.05.TCalo.root.hisQptTgldAlphaQNTPCTRD120_proj_0_1Dist:\t201\t201\n",
      "Info in <LoadTrees>: Load file\t/data/alice-tpc-notes/JIRA/PWGPP-429/alice/data/2017/LHC17o/pass1_TRDtracking/mapOutputs0.30.TMB.root\n",
      "Info in <InitMapTree>: hisQptTgldAlphaQN80_proj_0_1Dist\t/data/alice-tpc-notes/JIRA/PWGPP-429/alice/data/2017/LHC17o/pass1_TRDtracking/mapOutputs0.30.TMB.root.hisQptTgldAlphaQN80_proj_0_1Dist:\t201\t201\n",
      "Info in <InitMapTree>: hisQptTgldAlphaQN80_proj_0_1Dist\t/data/alice-tpc-notes/JIRA/PWGPP-429/alice/data/2017/LHC17o/pass1_TRDtracking/mapOutputs0.30.TMB.root.hisQptTgldAlphaQN100_proj_0_1Dist:\t201\t201\n",
      "Info in <InitMapTree>: hisQptTgldAlphaQN80_proj_0_1Dist\t/data/alice-tpc-notes/JIRA/PWGPP-429/alice/data/2017/LHC17o/pass1_TRDtracking/mapOutputs0.30.TMB.root.hisQptTgldAlphaQN120_proj_0_1Dist:\t201\t201\n",
      "Info in <InitMapTree>: hisQptTgldAlphaQN80_proj_0_1Dist\t/data/alice-tpc-notes/JIRA/PWGPP-429/alice/data/2017/LHC17o/pass1_TRDtracking/mapOutputs0.30.TMB.root.hisQptTgldAlphaQNTPCTRD80_proj_0_1Dist:\t201\t201\n",
      "Info in <InitMapTree>: hisQptTgldAlphaQN80_proj_0_1Dist\t/data/alice-tpc-notes/JIRA/PWGPP-429/alice/data/2017/LHC17o/pass1_TRDtracking/mapOutputs0.30.TMB.root.hisQptTgldAlphaQNTPCTRD100_proj_0_1Dist:\t201\t201\n",
      "Info in <InitMapTree>: hisQptTgldAlphaQN80_proj_0_1Dist\t/data/alice-tpc-notes/JIRA/PWGPP-429/alice/data/2017/LHC17o/pass1_TRDtracking/mapOutputs0.30.TMB.root.hisQptTgldAlphaQNTPCTRD120_proj_0_1Dist:\t201\t201\n",
      "Info in <LoadTrees>: Load file\t/data/alice-tpc-notes/JIRA/PWGPP-429/alice/data/2017/LHC17o/pass1_TRDtracking/mapOutputs0.15.TMB.root\n",
      "Info in <InitMapTree>: hisQptTgldAlphaQN80_proj_0_1Dist\t/data/alice-tpc-notes/JIRA/PWGPP-429/alice/data/2017/LHC17o/pass1_TRDtracking/mapOutputs0.15.TMB.root.hisQptTgldAlphaQN80_proj_0_1Dist:\t201\t201\n",
      "Info in <InitMapTree>: hisQptTgldAlphaQN80_proj_0_1Dist\t/data/alice-tpc-notes/JIRA/PWGPP-429/alice/data/2017/LHC17o/pass1_TRDtracking/mapOutputs0.15.TMB.root.hisQptTgldAlphaQN100_proj_0_1Dist:\t201\t201\n",
      "Info in <InitMapTree>: hisQptTgldAlphaQN80_proj_0_1Dist\t/data/alice-tpc-notes/JIRA/PWGPP-429/alice/data/2017/LHC17o/pass1_TRDtracking/mapOutputs0.15.TMB.root.hisQptTgldAlphaQN120_proj_0_1Dist:\t201\t201\n",
      "Info in <InitMapTree>: hisQptTgldAlphaQN80_proj_0_1Dist\t/data/alice-tpc-notes/JIRA/PWGPP-429/alice/data/2017/LHC17o/pass1_TRDtracking/mapOutputs0.15.TMB.root.hisQptTgldAlphaQNTPCTRD80_proj_0_1Dist:\t201\t201\n",
      "Info in <InitMapTree>: hisQptTgldAlphaQN80_proj_0_1Dist\t/data/alice-tpc-notes/JIRA/PWGPP-429/alice/data/2017/LHC17o/pass1_TRDtracking/mapOutputs0.15.TMB.root.hisQptTgldAlphaQNTPCTRD100_proj_0_1Dist:\t201\t201\n",
      "Info in <InitMapTree>: hisQptTgldAlphaQN80_proj_0_1Dist\t/data/alice-tpc-notes/JIRA/PWGPP-429/alice/data/2017/LHC17o/pass1_TRDtracking/mapOutputs0.15.TMB.root.hisQptTgldAlphaQNTPCTRD120_proj_0_1Dist:\t201\t201\n",
      "Info in <LoadTrees>: Load file\t/data/alice-tpc-notes/JIRA/PWGPP-429/alice/data/2017/LHC17o/pass1_TRDtracking/mapOutputs0.30.TEJ1.root\n",
      "Info in <InitMapTree>: hisQptTgldAlphaQN80_proj_0_1Dist\t/data/alice-tpc-notes/JIRA/PWGPP-429/alice/data/2017/LHC17o/pass1_TRDtracking/mapOutputs0.30.TEJ1.root.hisQptTgldAlphaQN80_proj_0_1Dist:\t201\t201\n",
      "Info in <InitMapTree>: hisQptTgldAlphaQN80_proj_0_1Dist\t/data/alice-tpc-notes/JIRA/PWGPP-429/alice/data/2017/LHC17o/pass1_TRDtracking/mapOutputs0.30.TEJ1.root.hisQptTgldAlphaQN100_proj_0_1Dist:\t201\t201\n",
      "Info in <InitMapTree>: hisQptTgldAlphaQN80_proj_0_1Dist\t/data/alice-tpc-notes/JIRA/PWGPP-429/alice/data/2017/LHC17o/pass1_TRDtracking/mapOutputs0.30.TEJ1.root.hisQptTgldAlphaQN120_proj_0_1Dist:\t201\t201\n",
      "Info in <InitMapTree>: hisQptTgldAlphaQN80_proj_0_1Dist\t/data/alice-tpc-notes/JIRA/PWGPP-429/alice/data/2017/LHC17o/pass1_TRDtracking/mapOutputs0.30.TEJ1.root.hisQptTgldAlphaQNTPCTRD80_proj_0_1Dist:\t201\t201\n",
      "Info in <InitMapTree>: hisQptTgldAlphaQN80_proj_0_1Dist\t/data/alice-tpc-notes/JIRA/PWGPP-429/alice/data/2017/LHC17o/pass1_TRDtracking/mapOutputs0.30.TEJ1.root.hisQptTgldAlphaQNTPCTRD100_proj_0_1Dist:\t201\t201\n",
      "Info in <InitMapTree>: hisQptTgldAlphaQN80_proj_0_1Dist\t/data/alice-tpc-notes/JIRA/PWGPP-429/alice/data/2017/LHC17o/pass1_TRDtracking/mapOutputs0.30.TEJ1.root.hisQptTgldAlphaQNTPCTRD120_proj_0_1Dist:\t201\t201\n",
      "Info in <LoadTrees>: Load file\t/data/alice-tpc-notes/JIRA/PWGPP-429/alice/data/2017/LHC17o/pass1_TRDtracking/mapOutputs0.15.TCalo.root\n",
      "Info in <InitMapTree>: hisQptTgldAlphaQN80_proj_0_1Dist\t/data/alice-tpc-notes/JIRA/PWGPP-429/alice/data/2017/LHC17o/pass1_TRDtracking/mapOutputs0.15.TCalo.root.hisQptTgldAlphaQN80_proj_0_1Dist:\t201\t201\n",
      "Info in <InitMapTree>: hisQptTgldAlphaQN80_proj_0_1Dist\t/data/alice-tpc-notes/JIRA/PWGPP-429/alice/data/2017/LHC17o/pass1_TRDtracking/mapOutputs0.15.TCalo.root.hisQptTgldAlphaQN100_proj_0_1Dist:\t201\t201\n",
      "Info in <InitMapTree>: hisQptTgldAlphaQN80_proj_0_1Dist\t/data/alice-tpc-notes/JIRA/PWGPP-429/alice/data/2017/LHC17o/pass1_TRDtracking/mapOutputs0.15.TCalo.root.hisQptTgldAlphaQN120_proj_0_1Dist:\t201\t201\n",
      "Info in <InitMapTree>: hisQptTgldAlphaQN80_proj_0_1Dist\t/data/alice-tpc-notes/JIRA/PWGPP-429/alice/data/2017/LHC17o/pass1_TRDtracking/mapOutputs0.15.TCalo.root.hisQptTgldAlphaQNTPCTRD80_proj_0_1Dist:\t201\t201\n",
      "Info in <InitMapTree>: hisQptTgldAlphaQN80_proj_0_1Dist\t/data/alice-tpc-notes/JIRA/PWGPP-429/alice/data/2017/LHC17o/pass1_TRDtracking/mapOutputs0.15.TCalo.root.hisQptTgldAlphaQNTPCTRD100_proj_0_1Dist:\t201\t201\n",
      "Info in <InitMapTree>: hisQptTgldAlphaQN80_proj_0_1Dist\t/data/alice-tpc-notes/JIRA/PWGPP-429/alice/data/2017/LHC17o/pass1_TRDtracking/mapOutputs0.15.TCalo.root.hisQptTgldAlphaQNTPCTRD120_proj_0_1Dist:\t201\t201\n",
      "Info in <LoadTrees>: Load file\t/data/alice-tpc-notes/JIRA/PWGPP-429/alice/data/2017/LHC17o/pass1_TRDtracking/mapOutputs0.05.ALL.root\n",
      "Info in <InitMapTree>: hisQptTgldAlphaQN80_proj_0_1Dist\t/data/alice-tpc-notes/JIRA/PWGPP-429/alice/data/2017/LHC17o/pass1_TRDtracking/mapOutputs0.05.ALL.root.hisQptTgldAlphaQN80_proj_0_1Dist:\t201\t201\n",
      "Info in <InitMapTree>: hisQptTgldAlphaQN80_proj_0_1Dist\t/data/alice-tpc-notes/JIRA/PWGPP-429/alice/data/2017/LHC17o/pass1_TRDtracking/mapOutputs0.05.ALL.root.hisQptTgldAlphaQN100_proj_0_1Dist:\t201\t201\n",
      "Info in <InitMapTree>: hisQptTgldAlphaQN80_proj_0_1Dist\t/data/alice-tpc-notes/JIRA/PWGPP-429/alice/data/2017/LHC17o/pass1_TRDtracking/mapOutputs0.05.ALL.root.hisQptTgldAlphaQN120_proj_0_1Dist:\t201\t201\n",
      "Info in <InitMapTree>: hisQptTgldAlphaQN80_proj_0_1Dist\t/data/alice-tpc-notes/JIRA/PWGPP-429/alice/data/2017/LHC17o/pass1_TRDtracking/mapOutputs0.05.ALL.root.hisQptTgldAlphaQNTPCTRD80_proj_0_1Dist:\t201\t201\n",
      "Info in <InitMapTree>: hisQptTgldAlphaQN80_proj_0_1Dist\t/data/alice-tpc-notes/JIRA/PWGPP-429/alice/data/2017/LHC17o/pass1_TRDtracking/mapOutputs0.05.ALL.root.hisQptTgldAlphaQNTPCTRD100_proj_0_1Dist:\t201\t201\n",
      "Info in <InitMapTree>: hisQptTgldAlphaQN80_proj_0_1Dist\t/data/alice-tpc-notes/JIRA/PWGPP-429/alice/data/2017/LHC17o/pass1_TRDtracking/mapOutputs0.05.ALL.root.hisQptTgldAlphaQNTPCTRD120_proj_0_1Dist:\t201\t201\n",
      "Info in <LoadTrees>: Load file\t/data/alice-tpc-notes/JIRA/PWGPP-429/alice/data/2017/LHC17o/pass1_TRDtracking/mapOutputs0.30.TCalo.root\n",
      "Info in <InitMapTree>: hisQptTgldAlphaQN80_proj_0_1Dist\t/data/alice-tpc-notes/JIRA/PWGPP-429/alice/data/2017/LHC17o/pass1_TRDtracking/mapOutputs0.30.TCalo.root.hisQptTgldAlphaQN80_proj_0_1Dist:\t201\t201\n",
      "Info in <InitMapTree>: hisQptTgldAlphaQN80_proj_0_1Dist\t/data/alice-tpc-notes/JIRA/PWGPP-429/alice/data/2017/LHC17o/pass1_TRDtracking/mapOutputs0.30.TCalo.root.hisQptTgldAlphaQN100_proj_0_1Dist:\t201\t201\n",
      "Info in <InitMapTree>: hisQptTgldAlphaQN80_proj_0_1Dist\t/data/alice-tpc-notes/JIRA/PWGPP-429/alice/data/2017/LHC17o/pass1_TRDtracking/mapOutputs0.30.TCalo.root.hisQptTgldAlphaQN120_proj_0_1Dist:\t201\t201\n",
      "Info in <InitMapTree>: hisQptTgldAlphaQN80_proj_0_1Dist\t/data/alice-tpc-notes/JIRA/PWGPP-429/alice/data/2017/LHC17o/pass1_TRDtracking/mapOutputs0.30.TCalo.root.hisQptTgldAlphaQNTPCTRD80_proj_0_1Dist:\t201\t201\n",
      "Info in <InitMapTree>: hisQptTgldAlphaQN80_proj_0_1Dist\t/data/alice-tpc-notes/JIRA/PWGPP-429/alice/data/2017/LHC17o/pass1_TRDtracking/mapOutputs0.30.TCalo.root.hisQptTgldAlphaQNTPCTRD100_proj_0_1Dist:\t201\t201\n",
      "Info in <InitMapTree>: hisQptTgldAlphaQN80_proj_0_1Dist\t/data/alice-tpc-notes/JIRA/PWGPP-429/alice/data/2017/LHC17o/pass1_TRDtracking/mapOutputs0.30.TCalo.root.hisQptTgldAlphaQNTPCTRD120_proj_0_1Dist:\t201\t201\n",
      "Info in <LoadTrees>: Load file\t/data/alice-tpc-notes/JIRA/PWGPP-429/alice/data/2017/LHC17o/pass1_TRDtracking/mapOutputs0.15.TEJ1.root\n",
      "Info in <InitMapTree>: hisQptTgldAlphaQN80_proj_0_1Dist\t/data/alice-tpc-notes/JIRA/PWGPP-429/alice/data/2017/LHC17o/pass1_TRDtracking/mapOutputs0.15.TEJ1.root.hisQptTgldAlphaQN80_proj_0_1Dist:\t201\t201\n",
      "Info in <InitMapTree>: hisQptTgldAlphaQN80_proj_0_1Dist\t/data/alice-tpc-notes/JIRA/PWGPP-429/alice/data/2017/LHC17o/pass1_TRDtracking/mapOutputs0.15.TEJ1.root.hisQptTgldAlphaQN100_proj_0_1Dist:\t201\t201\n",
      "Info in <InitMapTree>: hisQptTgldAlphaQN80_proj_0_1Dist\t/data/alice-tpc-notes/JIRA/PWGPP-429/alice/data/2017/LHC17o/pass1_TRDtracking/mapOutputs0.15.TEJ1.root.hisQptTgldAlphaQN120_proj_0_1Dist:\t201\t201\n",
      "Info in <InitMapTree>: hisQptTgldAlphaQN80_proj_0_1Dist\t/data/alice-tpc-notes/JIRA/PWGPP-429/alice/data/2017/LHC17o/pass1_TRDtracking/mapOutputs0.15.TEJ1.root.hisQptTgldAlphaQNTPCTRD80_proj_0_1Dist:\t201\t201\n",
      "Info in <InitMapTree>: hisQptTgldAlphaQN80_proj_0_1Dist\t/data/alice-tpc-notes/JIRA/PWGPP-429/alice/data/2017/LHC17o/pass1_TRDtracking/mapOutputs0.15.TEJ1.root.hisQptTgldAlphaQNTPCTRD100_proj_0_1Dist:\t201\t201\n",
      "Info in <InitMapTree>: hisQptTgldAlphaQN80_proj_0_1Dist\t/data/alice-tpc-notes/JIRA/PWGPP-429/alice/data/2017/LHC17o/pass1_TRDtracking/mapOutputs0.15.TEJ1.root.hisQptTgldAlphaQNTPCTRD120_proj_0_1Dist:\t201\t201\n",
      "Info in <LoadTrees>: Load file\t/data/alice-tpc-notes/JIRA/PWGPP-429/alice/data/2017/LHC17o/pass1_TRDtracking/mapOutputs0.05.TMB.root\n",
      "Info in <InitMapTree>: hisQptTgldAlphaQN80_proj_0_1Dist\t/data/alice-tpc-notes/JIRA/PWGPP-429/alice/data/2017/LHC17o/pass1_TRDtracking/mapOutputs0.05.TMB.root.hisQptTgldAlphaQN80_proj_0_1Dist:\t201\t201\n",
      "Info in <InitMapTree>: hisQptTgldAlphaQN80_proj_0_1Dist\t/data/alice-tpc-notes/JIRA/PWGPP-429/alice/data/2017/LHC17o/pass1_TRDtracking/mapOutputs0.05.TMB.root.hisQptTgldAlphaQN100_proj_0_1Dist:\t201\t201\n",
      "Info in <InitMapTree>: hisQptTgldAlphaQN80_proj_0_1Dist\t/data/alice-tpc-notes/JIRA/PWGPP-429/alice/data/2017/LHC17o/pass1_TRDtracking/mapOutputs0.05.TMB.root.hisQptTgldAlphaQN120_proj_0_1Dist:\t201\t201\n",
      "Info in <InitMapTree>: hisQptTgldAlphaQN80_proj_0_1Dist\t/data/alice-tpc-notes/JIRA/PWGPP-429/alice/data/2017/LHC17o/pass1_TRDtracking/mapOutputs0.05.TMB.root.hisQptTgldAlphaQNTPCTRD80_proj_0_1Dist:\t201\t201\n",
      "Info in <InitMapTree>: hisQptTgldAlphaQN80_proj_0_1Dist\t/data/alice-tpc-notes/JIRA/PWGPP-429/alice/data/2017/LHC17o/pass1_TRDtracking/mapOutputs0.05.TMB.root.hisQptTgldAlphaQNTPCTRD100_proj_0_1Dist:\t201\t201\n",
      "Info in <InitMapTree>: hisQptTgldAlphaQN80_proj_0_1Dist\t/data/alice-tpc-notes/JIRA/PWGPP-429/alice/data/2017/LHC17o/pass1_TRDtracking/mapOutputs0.05.TMB.root.hisQptTgldAlphaQNTPCTRD120_proj_0_1Dist:\t201\t201\n",
      "Info in <LoadTrees>: Load file\t/data/alice-tpc-notes/JIRA/PWGPP-429/alice/data/2017/LHC17o/pass1/mapOutputs0.05.TEJ1.root\n",
      "Info in <InitMapTree>: hisQptTgldAlphaQN80_proj_0_1Dist\t/data/alice-tpc-notes/JIRA/PWGPP-429/alice/data/2017/LHC17o/pass1/mapOutputs0.05.TEJ1.root.hisQptTgldAlphaQN80_proj_0_1Dist:\t201\t201\n",
      "Info in <InitMapTree>: hisQptTgldAlphaQN80_proj_0_1Dist\t/data/alice-tpc-notes/JIRA/PWGPP-429/alice/data/2017/LHC17o/pass1/mapOutputs0.05.TEJ1.root.hisQptTgldAlphaQN100_proj_0_1Dist:\t201\t201\n",
      "Info in <InitMapTree>: hisQptTgldAlphaQN80_proj_0_1Dist\t/data/alice-tpc-notes/JIRA/PWGPP-429/alice/data/2017/LHC17o/pass1/mapOutputs0.05.TEJ1.root.hisQptTgldAlphaQN120_proj_0_1Dist:\t201\t201\n",
      "Info in <InitMapTree>: hisQptTgldAlphaQN80_proj_0_1Dist\t/data/alice-tpc-notes/JIRA/PWGPP-429/alice/data/2017/LHC17o/pass1/mapOutputs0.05.TEJ1.root.hisQptTgldAlphaQNTPCTRD80_proj_0_1Dist:\t201\t201\n",
      "Info in <InitMapTree>: hisQptTgldAlphaQN80_proj_0_1Dist\t/data/alice-tpc-notes/JIRA/PWGPP-429/alice/data/2017/LHC17o/pass1/mapOutputs0.05.TEJ1.root.hisQptTgldAlphaQNTPCTRD100_proj_0_1Dist:\t201\t201\n",
      "Info in <InitMapTree>: hisQptTgldAlphaQN80_proj_0_1Dist\t/data/alice-tpc-notes/JIRA/PWGPP-429/alice/data/2017/LHC17o/pass1/mapOutputs0.05.TEJ1.root.hisQptTgldAlphaQNTPCTRD120_proj_0_1Dist:\t201\t201\n",
      "Info in <LoadTrees>: Load file\t/data/alice-tpc-notes/JIRA/PWGPP-429/alice/data/2017/LHC17o/pass1/mapOutputs0.05.TCalo.root\n",
      "Info in <InitMapTree>: hisQptTgldAlphaQN80_proj_0_1Dist\t/data/alice-tpc-notes/JIRA/PWGPP-429/alice/data/2017/LHC17o/pass1/mapOutputs0.05.TCalo.root.hisQptTgldAlphaQN80_proj_0_1Dist:\t201\t201\n",
      "Info in <InitMapTree>: hisQptTgldAlphaQN80_proj_0_1Dist\t/data/alice-tpc-notes/JIRA/PWGPP-429/alice/data/2017/LHC17o/pass1/mapOutputs0.05.TCalo.root.hisQptTgldAlphaQN100_proj_0_1Dist:\t201\t201\n",
      "Info in <InitMapTree>: hisQptTgldAlphaQN80_proj_0_1Dist\t/data/alice-tpc-notes/JIRA/PWGPP-429/alice/data/2017/LHC17o/pass1/mapOutputs0.05.TCalo.root.hisQptTgldAlphaQN120_proj_0_1Dist:\t201\t201\n",
      "Info in <InitMapTree>: hisQptTgldAlphaQN80_proj_0_1Dist\t/data/alice-tpc-notes/JIRA/PWGPP-429/alice/data/2017/LHC17o/pass1/mapOutputs0.05.TCalo.root.hisQptTgldAlphaQNTPCTRD80_proj_0_1Dist:\t201\t201\n",
      "Info in <InitMapTree>: hisQptTgldAlphaQN80_proj_0_1Dist\t/data/alice-tpc-notes/JIRA/PWGPP-429/alice/data/2017/LHC17o/pass1/mapOutputs0.05.TCalo.root.hisQptTgldAlphaQNTPCTRD100_proj_0_1Dist:\t201\t201\n",
      "Info in <InitMapTree>: hisQptTgldAlphaQN80_proj_0_1Dist\t/data/alice-tpc-notes/JIRA/PWGPP-429/alice/data/2017/LHC17o/pass1/mapOutputs0.05.TCalo.root.hisQptTgldAlphaQNTPCTRD120_proj_0_1Dist:\t201\t201\n",
      "Info in <LoadTrees>: Load file\t/data/alice-tpc-notes/JIRA/PWGPP-429/alice/data/2017/LHC17o/pass1/mapOutputs0.30.TMB.root\n",
      "Info in <InitMapTree>: hisQptTgldAlphaQN80_proj_0_1Dist\t/data/alice-tpc-notes/JIRA/PWGPP-429/alice/data/2017/LHC17o/pass1/mapOutputs0.30.TMB.root.hisQptTgldAlphaQN80_proj_0_1Dist:\t201\t201\n",
      "Info in <InitMapTree>: hisQptTgldAlphaQN80_proj_0_1Dist\t/data/alice-tpc-notes/JIRA/PWGPP-429/alice/data/2017/LHC17o/pass1/mapOutputs0.30.TMB.root.hisQptTgldAlphaQN100_proj_0_1Dist:\t201\t201\n",
      "Info in <InitMapTree>: hisQptTgldAlphaQN80_proj_0_1Dist\t/data/alice-tpc-notes/JIRA/PWGPP-429/alice/data/2017/LHC17o/pass1/mapOutputs0.30.TMB.root.hisQptTgldAlphaQN120_proj_0_1Dist:\t201\t201\n",
      "Info in <InitMapTree>: hisQptTgldAlphaQN80_proj_0_1Dist\t/data/alice-tpc-notes/JIRA/PWGPP-429/alice/data/2017/LHC17o/pass1/mapOutputs0.30.TMB.root.hisQptTgldAlphaQNTPCTRD80_proj_0_1Dist:\t201\t201\n",
      "Info in <InitMapTree>: hisQptTgldAlphaQN80_proj_0_1Dist\t/data/alice-tpc-notes/JIRA/PWGPP-429/alice/data/2017/LHC17o/pass1/mapOutputs0.30.TMB.root.hisQptTgldAlphaQNTPCTRD100_proj_0_1Dist:\t201\t201\n",
      "Info in <InitMapTree>: hisQptTgldAlphaQN80_proj_0_1Dist\t/data/alice-tpc-notes/JIRA/PWGPP-429/alice/data/2017/LHC17o/pass1/mapOutputs0.30.TMB.root.hisQptTgldAlphaQNTPCTRD120_proj_0_1Dist:\t201\t201\n",
      "Info in <LoadTrees>: Load file\t/data/alice-tpc-notes/JIRA/PWGPP-429/alice/data/2017/LHC17o/pass1/mapOutputs0.15.TMB.root\n",
      "Info in <InitMapTree>: hisQptTgldAlphaQN80_proj_0_1Dist\t/data/alice-tpc-notes/JIRA/PWGPP-429/alice/data/2017/LHC17o/pass1/mapOutputs0.15.TMB.root.hisQptTgldAlphaQN80_proj_0_1Dist:\t201\t201\n",
      "Info in <InitMapTree>: hisQptTgldAlphaQN80_proj_0_1Dist\t/data/alice-tpc-notes/JIRA/PWGPP-429/alice/data/2017/LHC17o/pass1/mapOutputs0.15.TMB.root.hisQptTgldAlphaQN100_proj_0_1Dist:\t201\t201\n",
      "Info in <InitMapTree>: hisQptTgldAlphaQN80_proj_0_1Dist\t/data/alice-tpc-notes/JIRA/PWGPP-429/alice/data/2017/LHC17o/pass1/mapOutputs0.15.TMB.root.hisQptTgldAlphaQN120_proj_0_1Dist:\t201\t201\n",
      "Info in <InitMapTree>: hisQptTgldAlphaQN80_proj_0_1Dist\t/data/alice-tpc-notes/JIRA/PWGPP-429/alice/data/2017/LHC17o/pass1/mapOutputs0.15.TMB.root.hisQptTgldAlphaQNTPCTRD80_proj_0_1Dist:\t201\t201\n",
      "Info in <InitMapTree>: hisQptTgldAlphaQN80_proj_0_1Dist\t/data/alice-tpc-notes/JIRA/PWGPP-429/alice/data/2017/LHC17o/pass1/mapOutputs0.15.TMB.root.hisQptTgldAlphaQNTPCTRD100_proj_0_1Dist:\t201\t201\n",
      "Info in <InitMapTree>: hisQptTgldAlphaQN80_proj_0_1Dist\t/data/alice-tpc-notes/JIRA/PWGPP-429/alice/data/2017/LHC17o/pass1/mapOutputs0.15.TMB.root.hisQptTgldAlphaQNTPCTRD120_proj_0_1Dist:\t201\t201\n",
      "Info in <LoadTrees>: Load file\t/data/alice-tpc-notes/JIRA/PWGPP-429/alice/data/2017/LHC17o/pass1/mapOutputs0.30.TEJ1.root\n",
      "Info in <InitMapTree>: hisQptTgldAlphaQN80_proj_0_1Dist\t/data/alice-tpc-notes/JIRA/PWGPP-429/alice/data/2017/LHC17o/pass1/mapOutputs0.30.TEJ1.root.hisQptTgldAlphaQN80_proj_0_1Dist:\t201\t201\n",
      "Info in <InitMapTree>: hisQptTgldAlphaQN80_proj_0_1Dist\t/data/alice-tpc-notes/JIRA/PWGPP-429/alice/data/2017/LHC17o/pass1/mapOutputs0.30.TEJ1.root.hisQptTgldAlphaQN100_proj_0_1Dist:\t201\t201\n",
      "Info in <InitMapTree>: hisQptTgldAlphaQN80_proj_0_1Dist\t/data/alice-tpc-notes/JIRA/PWGPP-429/alice/data/2017/LHC17o/pass1/mapOutputs0.30.TEJ1.root.hisQptTgldAlphaQN120_proj_0_1Dist:\t201\t201\n",
      "Info in <InitMapTree>: hisQptTgldAlphaQN80_proj_0_1Dist\t/data/alice-tpc-notes/JIRA/PWGPP-429/alice/data/2017/LHC17o/pass1/mapOutputs0.30.TEJ1.root.hisQptTgldAlphaQNTPCTRD80_proj_0_1Dist:\t201\t201\n",
      "Info in <InitMapTree>: hisQptTgldAlphaQN80_proj_0_1Dist\t/data/alice-tpc-notes/JIRA/PWGPP-429/alice/data/2017/LHC17o/pass1/mapOutputs0.30.TEJ1.root.hisQptTgldAlphaQNTPCTRD100_proj_0_1Dist:\t201\t201\n",
      "Info in <InitMapTree>: hisQptTgldAlphaQN80_proj_0_1Dist\t/data/alice-tpc-notes/JIRA/PWGPP-429/alice/data/2017/LHC17o/pass1/mapOutputs0.30.TEJ1.root.hisQptTgldAlphaQNTPCTRD120_proj_0_1Dist:\t201\t201\n",
      "Info in <LoadTrees>: Load file\t/data/alice-tpc-notes/JIRA/PWGPP-429/alice/data/2017/LHC17o/pass1/mapOutputs0.15.TCalo.root\n",
      "Info in <InitMapTree>: hisQptTgldAlphaQN80_proj_0_1Dist\t/data/alice-tpc-notes/JIRA/PWGPP-429/alice/data/2017/LHC17o/pass1/mapOutputs0.15.TCalo.root.hisQptTgldAlphaQN80_proj_0_1Dist:\t201\t201\n",
      "Info in <InitMapTree>: hisQptTgldAlphaQN80_proj_0_1Dist\t/data/alice-tpc-notes/JIRA/PWGPP-429/alice/data/2017/LHC17o/pass1/mapOutputs0.15.TCalo.root.hisQptTgldAlphaQN100_proj_0_1Dist:\t201\t201\n",
      "Info in <InitMapTree>: hisQptTgldAlphaQN80_proj_0_1Dist\t/data/alice-tpc-notes/JIRA/PWGPP-429/alice/data/2017/LHC17o/pass1/mapOutputs0.15.TCalo.root.hisQptTgldAlphaQN120_proj_0_1Dist:\t201\t201\n",
      "Info in <InitMapTree>: hisQptTgldAlphaQN80_proj_0_1Dist\t/data/alice-tpc-notes/JIRA/PWGPP-429/alice/data/2017/LHC17o/pass1/mapOutputs0.15.TCalo.root.hisQptTgldAlphaQNTPCTRD80_proj_0_1Dist:\t201\t201\n",
      "Info in <InitMapTree>: hisQptTgldAlphaQN80_proj_0_1Dist\t/data/alice-tpc-notes/JIRA/PWGPP-429/alice/data/2017/LHC17o/pass1/mapOutputs0.15.TCalo.root.hisQptTgldAlphaQNTPCTRD100_proj_0_1Dist:\t201\t201\n",
      "Info in <InitMapTree>: hisQptTgldAlphaQN80_proj_0_1Dist\t/data/alice-tpc-notes/JIRA/PWGPP-429/alice/data/2017/LHC17o/pass1/mapOutputs0.15.TCalo.root.hisQptTgldAlphaQNTPCTRD120_proj_0_1Dist:\t201\t201\n",
      "Info in <LoadTrees>: Load file\t/data/alice-tpc-notes/JIRA/PWGPP-429/alice/data/2017/LHC17o/pass1/mapOutputs0.05.ALL.root\n",
      "Info in <InitMapTree>: hisQptTgldAlphaQN80_proj_0_1Dist\t/data/alice-tpc-notes/JIRA/PWGPP-429/alice/data/2017/LHC17o/pass1/mapOutputs0.05.ALL.root.hisQptTgldAlphaQN80_proj_0_1Dist:\t201\t201\n",
      "Info in <InitMapTree>: hisQptTgldAlphaQN80_proj_0_1Dist\t/data/alice-tpc-notes/JIRA/PWGPP-429/alice/data/2017/LHC17o/pass1/mapOutputs0.05.ALL.root.hisQptTgldAlphaQN100_proj_0_1Dist:\t201\t201\n",
      "Info in <InitMapTree>: hisQptTgldAlphaQN80_proj_0_1Dist\t/data/alice-tpc-notes/JIRA/PWGPP-429/alice/data/2017/LHC17o/pass1/mapOutputs0.05.ALL.root.hisQptTgldAlphaQN120_proj_0_1Dist:\t201\t201\n",
      "Info in <InitMapTree>: hisQptTgldAlphaQN80_proj_0_1Dist\t/data/alice-tpc-notes/JIRA/PWGPP-429/alice/data/2017/LHC17o/pass1/mapOutputs0.05.ALL.root.hisQptTgldAlphaQNTPCTRD80_proj_0_1Dist:\t201\t201\n",
      "Info in <InitMapTree>: hisQptTgldAlphaQN80_proj_0_1Dist\t/data/alice-tpc-notes/JIRA/PWGPP-429/alice/data/2017/LHC17o/pass1/mapOutputs0.05.ALL.root.hisQptTgldAlphaQNTPCTRD100_proj_0_1Dist:\t201\t201\n",
      "Info in <InitMapTree>: hisQptTgldAlphaQN80_proj_0_1Dist\t/data/alice-tpc-notes/JIRA/PWGPP-429/alice/data/2017/LHC17o/pass1/mapOutputs0.05.ALL.root.hisQptTgldAlphaQNTPCTRD120_proj_0_1Dist:\t201\t201\n",
      "Info in <LoadTrees>: Load file\t/data/alice-tpc-notes/JIRA/PWGPP-429/alice/data/2017/LHC17o/pass1/mapOutputs0.30.TCalo.root\n",
      "Info in <InitMapTree>: hisQptTgldAlphaQN80_proj_0_1Dist\t/data/alice-tpc-notes/JIRA/PWGPP-429/alice/data/2017/LHC17o/pass1/mapOutputs0.30.TCalo.root.hisQptTgldAlphaQN80_proj_0_1Dist:\t201\t201\n",
      "Info in <InitMapTree>: hisQptTgldAlphaQN80_proj_0_1Dist\t/data/alice-tpc-notes/JIRA/PWGPP-429/alice/data/2017/LHC17o/pass1/mapOutputs0.30.TCalo.root.hisQptTgldAlphaQN100_proj_0_1Dist:\t201\t201\n",
      "Info in <InitMapTree>: hisQptTgldAlphaQN80_proj_0_1Dist\t/data/alice-tpc-notes/JIRA/PWGPP-429/alice/data/2017/LHC17o/pass1/mapOutputs0.30.TCalo.root.hisQptTgldAlphaQN120_proj_0_1Dist:\t201\t201\n",
      "Info in <InitMapTree>: hisQptTgldAlphaQN80_proj_0_1Dist\t/data/alice-tpc-notes/JIRA/PWGPP-429/alice/data/2017/LHC17o/pass1/mapOutputs0.30.TCalo.root.hisQptTgldAlphaQNTPCTRD80_proj_0_1Dist:\t201\t201\n",
      "Info in <InitMapTree>: hisQptTgldAlphaQN80_proj_0_1Dist\t/data/alice-tpc-notes/JIRA/PWGPP-429/alice/data/2017/LHC17o/pass1/mapOutputs0.30.TCalo.root.hisQptTgldAlphaQNTPCTRD100_proj_0_1Dist:\t201\t201\n",
      "Info in <InitMapTree>: hisQptTgldAlphaQN80_proj_0_1Dist\t/data/alice-tpc-notes/JIRA/PWGPP-429/alice/data/2017/LHC17o/pass1/mapOutputs0.30.TCalo.root.hisQptTgldAlphaQNTPCTRD120_proj_0_1Dist:\t201\t201\n",
      "Info in <LoadTrees>: Load file\t/data/alice-tpc-notes/JIRA/PWGPP-429/alice/data/2017/LHC17o/pass1/mapOutputs0.15.TEJ1.root\n",
      "Info in <InitMapTree>: hisQptTgldAlphaQN80_proj_0_1Dist\t/data/alice-tpc-notes/JIRA/PWGPP-429/alice/data/2017/LHC17o/pass1/mapOutputs0.15.TEJ1.root.hisQptTgldAlphaQN80_proj_0_1Dist:\t201\t201\n",
      "Info in <InitMapTree>: hisQptTgldAlphaQN80_proj_0_1Dist\t/data/alice-tpc-notes/JIRA/PWGPP-429/alice/data/2017/LHC17o/pass1/mapOutputs0.15.TEJ1.root.hisQptTgldAlphaQN100_proj_0_1Dist:\t201\t201\n",
      "Info in <InitMapTree>: hisQptTgldAlphaQN80_proj_0_1Dist\t/data/alice-tpc-notes/JIRA/PWGPP-429/alice/data/2017/LHC17o/pass1/mapOutputs0.15.TEJ1.root.hisQptTgldAlphaQN120_proj_0_1Dist:\t201\t201\n",
      "Info in <InitMapTree>: hisQptTgldAlphaQN80_proj_0_1Dist\t/data/alice-tpc-notes/JIRA/PWGPP-429/alice/data/2017/LHC17o/pass1/mapOutputs0.15.TEJ1.root.hisQptTgldAlphaQNTPCTRD80_proj_0_1Dist:\t201\t201\n",
      "Info in <InitMapTree>: hisQptTgldAlphaQN80_proj_0_1Dist\t/data/alice-tpc-notes/JIRA/PWGPP-429/alice/data/2017/LHC17o/pass1/mapOutputs0.15.TEJ1.root.hisQptTgldAlphaQNTPCTRD100_proj_0_1Dist:\t201\t201\n",
      "Info in <InitMapTree>: hisQptTgldAlphaQN80_proj_0_1Dist\t/data/alice-tpc-notes/JIRA/PWGPP-429/alice/data/2017/LHC17o/pass1/mapOutputs0.15.TEJ1.root.hisQptTgldAlphaQNTPCTRD120_proj_0_1Dist:\t201\t201\n",
      "Info in <LoadTrees>: Load file\t/data/alice-tpc-notes/JIRA/PWGPP-429/alice/data/2017/LHC17o/pass1/mapOutputs0.05.TMB.root\n",
      "Info in <InitMapTree>: hisQptTgldAlphaQN80_proj_0_1Dist\t/data/alice-tpc-notes/JIRA/PWGPP-429/alice/data/2017/LHC17o/pass1/mapOutputs0.05.TMB.root.hisQptTgldAlphaQN80_proj_0_1Dist:\t201\t201\n",
      "Info in <InitMapTree>: hisQptTgldAlphaQN80_proj_0_1Dist\t/data/alice-tpc-notes/JIRA/PWGPP-429/alice/data/2017/LHC17o/pass1/mapOutputs0.05.TMB.root.hisQptTgldAlphaQN100_proj_0_1Dist:\t201\t201\n",
      "Info in <InitMapTree>: hisQptTgldAlphaQN80_proj_0_1Dist\t/data/alice-tpc-notes/JIRA/PWGPP-429/alice/data/2017/LHC17o/pass1/mapOutputs0.05.TMB.root.hisQptTgldAlphaQN120_proj_0_1Dist:\t201\t201\n",
      "Info in <InitMapTree>: hisQptTgldAlphaQN80_proj_0_1Dist\t/data/alice-tpc-notes/JIRA/PWGPP-429/alice/data/2017/LHC17o/pass1/mapOutputs0.05.TMB.root.hisQptTgldAlphaQNTPCTRD80_proj_0_1Dist:\t201\t201\n",
      "Info in <InitMapTree>: hisQptTgldAlphaQN80_proj_0_1Dist\t/data/alice-tpc-notes/JIRA/PWGPP-429/alice/data/2017/LHC17o/pass1/mapOutputs0.05.TMB.root.hisQptTgldAlphaQNTPCTRD100_proj_0_1Dist:\t201\t201\n",
      "Info in <InitMapTree>: hisQptTgldAlphaQN80_proj_0_1Dist\t/data/alice-tpc-notes/JIRA/PWGPP-429/alice/data/2017/LHC17o/pass1/mapOutputs0.05.TMB.root.hisQptTgldAlphaQNTPCTRD120_proj_0_1Dist:\t201\t201\n"
     ]
    }
   ],
   "source": [
    "tree=ROOT.AliTreePlayer.LoadTrees(\"cat mapLong.list\",\"his.*_proj_0_1Dist\",\"XXX\",\".*\",\"\",\"\")\n",
    "tree.SetAlias(\"medianMean\",\"median-mean\")"
   ]
  },
  {
   "cell_type": "markdown",
   "metadata": {},
   "source": [
    "### Load list of friends, branches and aliases\n",
    "* To do  - add protection ageain 0 pointers "
   ]
  },
  {
   "cell_type": "code",
   "execution_count": 4,
   "metadata": {},
   "outputs": [],
   "source": [
    "friendListROOT = tree.GetListOfFriends();\n",
    "friendList=['']\n",
    "for i in range(0,friendListROOT.GetEntries()): \n",
    "    friendList.append(friendListROOT.At(i).GetName())    \n",
    "branchListROOT = tree.GetListOfBranches();    \n",
    "branchList=[]\n",
    "for i in range(0,branchListROOT.GetEntries()): \n",
    "    branchList.append(branchListROOT.At(i).GetName()) \n",
    "aliasListROOT = tree.GetListOfAliases(); \n",
    "aliasList=['']\n",
    "for i in range(0,aliasListROOT.GetEntries()): \n",
    "    aliasList.append(aliasListROOT.At(i).GetName()) \n",
    "    "
   ]
  },
  {
   "cell_type": "code",
   "execution_count": 5,
   "metadata": {},
   "outputs": [
    {
     "data": {
      "application/vnd.jupyter.widget-view+json": {
       "model_id": "cfa5e5fe5c0347018105f71243761084",
       "version_major": 2,
       "version_minor": 0
      },
      "text/plain": [
       "VkJveChjaGlsZHJlbj0oSEJveChjaGlsZHJlbj0oRHJvcGRvd24oZGVzY3JpcHRpb249dSdGcmllbmQgbGlzdDonLCBvcHRpb25zPSgnJywgJ3Bhc3MxX1RSRHRyYWNraW5nMC4wNS5URUoxLmjigKY=\n"
      ]
     },
     "metadata": {},
     "output_type": "display_data"
    }
   ],
   "source": [
    "friendDropDown=widgets.Dropdown( options=friendList, description='Friend list:');\n",
    "branchDropDown=widgets.Dropdown( options=branchList, description='Branch list:');\n",
    "aliasDropDown=widgets.Dropdown( options=aliasList, description='Alias list:');\n",
    "boxSelect=widgets.HBox([friendDropDown,branchDropDown, aliasDropDown]);\n",
    "#\n",
    "addQuery=widgets.Button(description='Add Query',tooltip=\"Add query\");\n",
    "addSelection=widgets.Button(description='Add selection',tooltip=\"Add selection\");\n",
    "addSlider=widgets.Button(description='Add slider',tooltip=\"Add slider\");\n",
    "boxButton=widgets.HBox([addQuery,addSelection,addSlider]);\n",
    "#\n",
    "drawQuery=widgets.Text(description='Query',layout=Layout(width='99%'));\n",
    "drawCut=widgets.Text(description='Selection',layout=Layout(width='99%'));\n",
    "boxDraw=widgets.VBox([drawQuery,drawCut], width=1000);\n",
    "boxAll=widgets.VBox([boxSelect,boxButton,boxDraw])\n",
    "boxAll\n"
   ]
  },
  {
   "cell_type": "code",
   "execution_count": null,
   "metadata": {},
   "outputs": [],
   "source": []
  }
 ],
 "metadata": {
  "kernelspec": {
   "display_name": "Python 2",
   "language": "python",
   "name": "python2"
  },
  "language_info": {
   "codemirror_mode": {
    "name": "ipython",
    "version": 2
   },
   "file_extension": ".py",
   "mimetype": "text/x-python",
   "name": "python",
   "nbconvert_exporter": "python",
   "pygments_lexer": "ipython2",
   "version": "2.7.12"
  }
 },
 "nbformat": 4,
 "nbformat_minor": 2
}
