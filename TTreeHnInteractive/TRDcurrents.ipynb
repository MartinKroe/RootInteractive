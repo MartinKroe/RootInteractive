{
 "cells": [
  {
   "cell_type": "code",
   "execution_count": 1,
   "metadata": {},
   "outputs": [],
   "source": [
    "import pandas as pd\n",
    "import matplotlib.pyplot as plt\n",
    "import numpy as np\n",
    "from sklearn.model_selection import train_test_split\n",
    "from sklearn.model_selection import KFold\n",
    "from skgarden import RandomForestQuantileRegressor\n",
    "from sklearn.ensemble import RandomForestRegressor"
   ]
  },
  {
   "cell_type": "markdown",
   "metadata": {},
   "source": [
    "### Load custom python function"
   ]
  },
  {
   "cell_type": "code",
   "execution_count": 2,
   "metadata": {},
   "outputs": [],
   "source": [
    "import sys\n",
    "sys.path.append('/home2/miranov/github/RootInteractive/QuantileRegression/distortionCase/')\n",
    "from distortionStudy import *"
   ]
  },
  {
   "cell_type": "markdown",
   "metadata": {},
   "source": [
    "##  Load data and the necessary estimators. \n",
    "#### Note that min_samples_split is set to 10 and the cross-validation is 5-split.\n",
    "####  Parameters:\n",
    "* KFold:\n",
    "  * n_pslits=5\n",
    "* Random forst:\n",
    "  * n_estimators = 1000\n",
    "  * random_state = 0\n",
    "  * n_jobs = -1 "
   ]
  },
  {
   "cell_type": "code",
   "execution_count": 114,
   "metadata": {},
   "outputs": [
    {
     "name": "stdout",
     "output_type": "stream",
     "text": [
      "('load csv file', '/home/miranov/NOTESData/distortionAll.csv', (100000, 70))\n"
     ]
    }
   ],
   "source": [
    "input=\"NOTESData/JIRA/ATO-336/distortionAll.csv\"\n",
    "df1=loadCSVTreePanda(input)\n",
    "print(\"load csv file\", input, df1.shape)\n",
    "kf = KFold(n_splits=5, random_state=0)\n",
    "# quantile random forest\n",
    "rfqr = RandomForestQuantileRegressor(random_state=0, min_samples_split=5, n_estimators=1000,n_jobs=-1)\n",
    "# standart random forest\n",
    "rf = RandomForestRegressor(n_estimators = 1000, random_state = 0)"
   ]
  },
  {
   "cell_type": "code",
   "execution_count": null,
   "metadata": {},
   "outputs": [],
   "source": [
    "df1.head()"
   ]
  },
  {
   "cell_type": "code",
   "execution_count": null,
   "metadata": {},
   "outputs": [],
   "source": [
    "df1.columns"
   ]
  },
  {
   "cell_type": "code",
   "execution_count": 95,
   "metadata": {},
   "outputs": [],
   "source": [
    "selected=df1.query('sector==2 & isIROC').sample(500)\n",
    "y=(selected['trdMeanMedianL0']).values\n",
    "X=selected[['trdMeanMedianL1','trdMeanMedianL2','trdMeanMedianL3','trdMeanMedianL4','trdMeanMedianL5','bz','bsign']].values"
   ]
  },
  {
   "cell_type": "code",
   "execution_count": null,
   "metadata": {},
   "outputs": [],
   "source": []
  },
  {
   "cell_type": "code",
   "execution_count": 35,
   "metadata": {},
   "outputs": [
    {
     "data": {
      "text/plain": [
       "(500, 7)"
      ]
     },
     "execution_count": 35,
     "metadata": {},
     "output_type": "execute_result"
    }
   ],
   "source": [
    "X.shape"
   ]
  },
  {
   "cell_type": "code",
   "execution_count": 115,
   "metadata": {},
   "outputs": [],
   "source": [
    "y_true_all = []\n",
    "lower = []\n",
    "upper = []\n",
    "median =[]\n",
    "fit=[]\n",
    "\n",
    "for train_index, test_index in kf.split(X):\n",
    "    global X_train, X_test, y_train, y_test\n",
    "    X_train, X_test, y_train, y_test= (\n",
    "        X[train_index], X[test_index], y[train_index], y[test_index])\n",
    "\n",
    "    rfqr.set_params(max_features=X_train.shape[1] )\n",
    "    rfqr.fit(X_train, y_train)\n",
    "    rf.set_params(max_features=X_train.shape[1])\n",
    "    rf.fit(X_train, y_train)\n",
    "    upper = np.concatenate((upper, rfqr.predict(X_test,quantile=90.)))\n",
    "    lower = np.concatenate((lower, rfqr.predict(X_test, quantile=10.)))\n",
    "    median =np.concatenate((median, rfqr.predict(X_test, quantile=50.)))\n",
    "    fit=np.concatenate((fit, rf.predict(X_test)))\n",
    "    y_true_all = np.concatenate((y_true_all, y_test))\n",
    " "
   ]
  },
  {
   "cell_type": "code",
   "execution_count": 108,
   "metadata": {},
   "outputs": [
    {
     "data": {
      "text/plain": [
       "<matplotlib.collections.PathCollection at 0x7f23408452d0>"
      ]
     },
     "execution_count": 108,
     "metadata": {},
     "output_type": "execute_result"
    },
    {
     "data": {
      "image/png": "[encoded data removed]",
      "text/plain": [
       "<Figure size 432x288 with 1 Axes>"
      ]
     },
     "metadata": {
      "needs_background": "light"
     },
     "output_type": "display_data"
    }
   ],
   "source": [
    "dy_true_all=y_true_all-fit\n",
    "#plt.scatter(median,fit)\n",
    "#plt.scatter(lower,fit)\n",
    "#plt.scatter(upper,fit)\n",
    "plt.scatter(y_true_all,median)"
   ]
  },
  {
   "cell_type": "code",
   "execution_count": 133,
   "metadata": {},
   "outputs": [
    {
     "data": {
      "text/plain": [
       "([array([  0.,   0.,   0.,   1.,   0.,   0.,   0.,   0.,   0.,   0.,   1.,\n",
       "           1.,   1.,   2.,   0.,   2.,   1.,   3.,   3.,   6.,   3.,  13.,\n",
       "          19.,  56., 130., 148.,  61.,  19.,  10.,   3.,   4.,   0.,   1.,\n",
       "           3.,   0.,   2.,   0.,   0.,   0.,   1.,   0.,   0.,   0.,   0.,\n",
       "           0.,   0.,   0.,   0.,   0.,   0.]),\n",
       "  array([  0.,   0.,   0.,   0.,   0.,   0.,   1.,   0.,   1.,   0.,   0.,\n",
       "           0.,   0.,   1.,   0.,   1.,   0.,   3.,   3.,   4.,   9.,   9.,\n",
       "          27.,  48., 130., 139.,  61.,  23.,  13.,   5.,   3.,   4.,   5.,\n",
       "           0.,   0.,   0.,   0.,   1.,   1.,   0.,   0.,   1.,   0.,   0.,\n",
       "           0.,   0.,   0.,   0.,   0.,   0.])],\n",
       " array([-3.  , -2.88, -2.76, -2.64, -2.52, -2.4 , -2.28, -2.16, -2.04,\n",
       "        -1.92, -1.8 , -1.68, -1.56, -1.44, -1.32, -1.2 , -1.08, -0.96,\n",
       "        -0.84, -0.72, -0.6 , -0.48, -0.36, -0.24, -0.12,  0.  ,  0.12,\n",
       "         0.24,  0.36,  0.48,  0.6 ,  0.72,  0.84,  0.96,  1.08,  1.2 ,\n",
       "         1.32,  1.44,  1.56,  1.68,  1.8 ,  1.92,  2.04,  2.16,  2.28,\n",
       "         2.4 ,  2.52,  2.64,  2.76,  2.88,  3.  ]),\n",
       " <a list of 2 Lists of Patches objects>)"
      ]
     },
     "execution_count": 133,
     "metadata": {},
     "output_type": "execute_result"
    },
    {
     "data": {
      "image/png": "[encoded data removed]",
      "text/plain": [
       "<Figure size 432x288 with 1 Axes>"
      ]
     },
     "metadata": {
      "needs_background": "light"
     },
     "output_type": "display_data"
    }
   ],
   "source": [
    "delta=[y_true_all-fit,y_true_all-median]\n",
    "plt.hist(delta,bins=50, label=\"Z\",range=[-3, 3],stacked=0)"
   ]
  },
  {
   "cell_type": "code",
   "execution_count": 18,
   "metadata": {},
   "outputs": [],
   "source": [
    "interval = upper - lower\n",
    "sort_ind = np.argsort(interval)\n",
    "y_true_all = y_true_all[sort_ind]\n",
    "upper = upper[sort_ind]\n",
    "lower = lower[sort_ind]\n",
    "median=median[sort_ind]\n",
    "fit=fit[sort_ind]\n",
    "mean = (upper + lower) / 2\n",
    "# Center such that the mean of the prediction interval is at 0.0\n",
    "dy_true_all=y_true_all\n",
    "dy_true_all -= mean\n",
    "upper -= mean\n",
    "lower -= mean"
   ]
  },
  {
   "cell_type": "code",
   "execution_count": 12,
   "metadata": {},
   "outputs": [],
   "source": [
    "#print(rfqr.predict(X_test, quantile=98.5))"
   ]
  },
  {
   "cell_type": "code",
   "execution_count": 20,
   "metadata": {},
   "outputs": [
    {
     "data": {
      "image/png": "[encoded data removed]",
      "text/plain": [
       "<Figure size 432x288 with 1 Axes>"
      ]
     },
     "metadata": {
      "needs_background": "light"
     },
     "output_type": "display_data"
    }
   ],
   "source": [
    "plt.plot(dy_true_all, \"ro\")\n",
    "plt.fill_between(\n",
    "    np.arange(len(upper)), lower, upper, alpha=0.2, color=\"r\",\n",
    "    label=\"Pred. interval\")\n",
    "plt.xlabel(\"Ordered samples.\")\n",
    "plt.ylabel(\"Values and prediction intervals.\")\n",
    "plt.xlim([0, 500])\n",
    "plt.show()"
   ]
  },
  {
   "cell_type": "code",
   "execution_count": 24,
   "metadata": {},
   "outputs": [
    {
     "data": {
      "text/plain": [
       "<matplotlib.collections.PathCollection at 0x7f23481e80d0>"
      ]
     },
     "execution_count": 24,
     "metadata": {},
     "output_type": "execute_result"
    },
    {
     "data": {
      "image/png": "[encoded data removed]",
      "text/plain": [
       "<Figure size 432x288 with 1 Axes>"
      ]
     },
     "metadata": {
      "needs_background": "light"
     },
     "output_type": "display_data"
    }
   ],
   "source": [
    "plt.scatter(median,y_true_all)"
   ]
  },
  {
   "cell_type": "code",
   "execution_count": null,
   "metadata": {},
   "outputs": [],
   "source": [
    "X.shape"
   ]
  },
  {
   "cell_type": "code",
   "execution_count": null,
   "metadata": {},
   "outputs": [],
   "source": [
    "X_train.shape[1] // 3"
   ]
  },
  {
   "cell_type": "code",
   "execution_count": null,
   "metadata": {},
   "outputs": [],
   "source": [
    "plt.scatter(selected['trdMeanMedianL0'], selected['trdMeanMedianL1'])"
   ]
  },
  {
   "cell_type": "code",
   "execution_count": null,
   "metadata": {},
   "outputs": [],
   "source": [
    "from sklearn.ensemble import RandomForestRegressor\n",
    "rf = RandomForestRegressor(n_estimators = 1000, random_state = 42)\n",
    "rf.fit(X_train, y_train);\n",
    "predictions = rf.predict(X_test)"
   ]
  },
  {
   "cell_type": "code",
   "execution_count": null,
   "metadata": {},
   "outputs": [],
   "source": [
    "plt.scatter(y_test,predictions)"
   ]
  },
  {
   "cell_type": "code",
   "execution_count": null,
   "metadata": {},
   "outputs": [],
   "source": []
  }
 ],
 "metadata": {
  "kernelspec": {
   "display_name": "Python 2",
   "language": "python",
   "name": "python2"
  },
  "language_info": {
   "codemirror_mode": {
    "name": "ipython",
    "version": 2
   },
   "file_extension": ".py",
   "mimetype": "text/x-python",
   "name": "python",
   "nbconvert_exporter": "python",
   "pygments_lexer": "ipython2",
   "version": "2.7.15rc1"
  }
 },
 "nbformat": 4,
 "nbformat_minor": 2
}
