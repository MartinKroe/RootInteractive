{
 "cells": [
  {
   "cell_type": "markdown",
   "metadata": {},
   "source": [
    "# Load libraries"
   ]
  },
  {
   "cell_type": "code",
   "execution_count": 8,
   "metadata": {},
   "outputs": [
    {
     "name": "stdout",
     "output_type": "stream",
     "text": [
      "Welcome to JupyROOT 6.13/03\n"
     ]
    }
   ],
   "source": [
    "from TTreeHnBrowser import *\n",
    "from matplotlib import pyplot as plt\n",
    "from sklearn.ensemble import RandomForestRegressor, RandomForestClassifier\n",
    "import sklearn.model_selection as xval\n",
    "from sklearn.datasets.mldata import fetch_mldata\n",
    "import forestci as fci\n",
    "import pandas as pd\n"
   ]
  },
  {
   "cell_type": "markdown",
   "metadata": {},
   "source": [
    "# Read input data"
   ]
  },
  {
   "cell_type": "code",
   "execution_count": 10,
   "metadata": {},
   "outputs": [],
   "source": [
    "v0sPanda = pd.read_csv('v0all.csv',sep='\\t', index_col=False )"
   ]
  },
  {
   "cell_type": "code",
   "execution_count": 14,
   "metadata": {},
   "outputs": [
    {
     "name": "stdout",
     "output_type": "stream",
     "text": [
      "(468942, 30)\n"
     ]
    },
    {
     "data": {
      "text/html": [
       "<div>\n",
       "<style scoped>\n",
       "    .dataframe tbody tr th:only-of-type {\n",
       "        vertical-align: middle;\n",
       "    }\n",
       "\n",
       "    .dataframe tbody tr th {\n",
       "        vertical-align: top;\n",
       "    }\n",
       "\n",
       "    .dataframe thead th {\n",
       "        text-align: right;\n",
       "    }\n",
       "</style>\n",
       "<table border=\"1\" class=\"dataframe\">\n",
       "  <thead>\n",
       "    <tr style=\"text-align: right;\">\n",
       "      <th></th>\n",
       "      <th>fRr</th>\n",
       "      <th>mpt</th>\n",
       "      <th>tglV0</th>\n",
       "      <th>isBackground</th>\n",
       "      <th>cleanV0</th>\n",
       "      <th>cleanK0</th>\n",
       "      <th>cleanL</th>\n",
       "      <th>cleanAL</th>\n",
       "      <th>cleanEl</th>\n",
       "      <th>K0Pull</th>\n",
       "      <th>...</th>\n",
       "      <th>pointAngle</th>\n",
       "      <th>pointAngleN</th>\n",
       "      <th>fDcaV0Daughters</th>\n",
       "      <th>dcaNorm</th>\n",
       "      <th>alphaV0S</th>\n",
       "      <th>armV0S</th>\n",
       "      <th>alphaV0</th>\n",
       "      <th>armV0</th>\n",
       "      <th>ntracks</th>\n",
       "      <th>medianM/D</th>\n",
       "    </tr>\n",
       "  </thead>\n",
       "  <tbody>\n",
       "    <tr>\n",
       "      <th>2</th>\n",
       "      <td>16.743244</td>\n",
       "      <td>2.191736</td>\n",
       "      <td>0.922424</td>\n",
       "      <td>1</td>\n",
       "      <td>0</td>\n",
       "      <td>0</td>\n",
       "      <td>0</td>\n",
       "      <td>0</td>\n",
       "      <td>0</td>\n",
       "      <td>-106.798676</td>\n",
       "      <td>...</td>\n",
       "      <td>0.072856</td>\n",
       "      <td>0.506353</td>\n",
       "      <td>0.040642</td>\n",
       "      <td>0.016870</td>\n",
       "      <td>-0.452961</td>\n",
       "      <td>0.048990</td>\n",
       "      <td>-0.452822</td>\n",
       "      <td>0.048695</td>\n",
       "      <td>10010</td>\n",
       "      <td>10083</td>\n",
       "    </tr>\n",
       "    <tr>\n",
       "      <th>3</th>\n",
       "      <td>80.708542</td>\n",
       "      <td>0.233575</td>\n",
       "      <td>0.484057</td>\n",
       "      <td>1</td>\n",
       "      <td>0</td>\n",
       "      <td>0</td>\n",
       "      <td>0</td>\n",
       "      <td>0</td>\n",
       "      <td>0</td>\n",
       "      <td>-62.115930</td>\n",
       "      <td>...</td>\n",
       "      <td>0.008190</td>\n",
       "      <td>0.643713</td>\n",
       "      <td>0.063328</td>\n",
       "      <td>0.061668</td>\n",
       "      <td>0.352686</td>\n",
       "      <td>0.054713</td>\n",
       "      <td>0.337873</td>\n",
       "      <td>0.053507</td>\n",
       "      <td>9639</td>\n",
       "      <td>10083</td>\n",
       "    </tr>\n",
       "    <tr>\n",
       "      <th>5</th>\n",
       "      <td>34.579594</td>\n",
       "      <td>0.129824</td>\n",
       "      <td>-0.307052</td>\n",
       "      <td>0</td>\n",
       "      <td>1</td>\n",
       "      <td>1</td>\n",
       "      <td>0</td>\n",
       "      <td>0</td>\n",
       "      <td>0</td>\n",
       "      <td>-0.872496</td>\n",
       "      <td>...</td>\n",
       "      <td>0.046337</td>\n",
       "      <td>1.588965</td>\n",
       "      <td>1.238473</td>\n",
       "      <td>1.228166</td>\n",
       "      <td>0.462993</td>\n",
       "      <td>0.168560</td>\n",
       "      <td>0.504761</td>\n",
       "      <td>0.172139</td>\n",
       "      <td>9639</td>\n",
       "      <td>10083</td>\n",
       "    </tr>\n",
       "    <tr>\n",
       "      <th>11</th>\n",
       "      <td>86.942276</td>\n",
       "      <td>1.682111</td>\n",
       "      <td>-0.347026</td>\n",
       "      <td>1</td>\n",
       "      <td>0</td>\n",
       "      <td>0</td>\n",
       "      <td>0</td>\n",
       "      <td>0</td>\n",
       "      <td>0</td>\n",
       "      <td>-131.403992</td>\n",
       "      <td>...</td>\n",
       "      <td>0.007812</td>\n",
       "      <td>0.347071</td>\n",
       "      <td>0.674826</td>\n",
       "      <td>0.344843</td>\n",
       "      <td>-0.138586</td>\n",
       "      <td>0.059139</td>\n",
       "      <td>-0.150781</td>\n",
       "      <td>0.060059</td>\n",
       "      <td>12744</td>\n",
       "      <td>10083</td>\n",
       "    </tr>\n",
       "    <tr>\n",
       "      <th>12</th>\n",
       "      <td>79.385666</td>\n",
       "      <td>1.734038</td>\n",
       "      <td>-0.741362</td>\n",
       "      <td>1</td>\n",
       "      <td>0</td>\n",
       "      <td>0</td>\n",
       "      <td>0</td>\n",
       "      <td>0</td>\n",
       "      <td>0</td>\n",
       "      <td>-94.819017</td>\n",
       "      <td>...</td>\n",
       "      <td>0.024710</td>\n",
       "      <td>0.979956</td>\n",
       "      <td>0.127776</td>\n",
       "      <td>0.063833</td>\n",
       "      <td>0.334573</td>\n",
       "      <td>0.053737</td>\n",
       "      <td>0.323266</td>\n",
       "      <td>0.053378</td>\n",
       "      <td>12744</td>\n",
       "      <td>10083</td>\n",
       "    </tr>\n",
       "  </tbody>\n",
       "</table>\n",
       "<p>5 rows × 30 columns</p>\n",
       "</div>"
      ],
      "text/plain": [
       "          fRr       mpt     tglV0  isBackground  cleanV0  cleanK0  cleanL  \\\n",
       "2   16.743244  2.191736  0.922424             1        0        0       0   \n",
       "3   80.708542  0.233575  0.484057             1        0        0       0   \n",
       "5   34.579594  0.129824 -0.307052             0        1        1       0   \n",
       "11  86.942276  1.682111 -0.347026             1        0        0       0   \n",
       "12  79.385666  1.734038 -0.741362             1        0        0       0   \n",
       "\n",
       "    cleanAL  cleanEl      K0Pull    ...      pointAngle  pointAngleN  \\\n",
       "2         0        0 -106.798676    ...        0.072856     0.506353   \n",
       "3         0        0  -62.115930    ...        0.008190     0.643713   \n",
       "5         0        0   -0.872496    ...        0.046337     1.588965   \n",
       "11        0        0 -131.403992    ...        0.007812     0.347071   \n",
       "12        0        0  -94.819017    ...        0.024710     0.979956   \n",
       "\n",
       "    fDcaV0Daughters   dcaNorm  alphaV0S    armV0S   alphaV0     armV0  \\\n",
       "2          0.040642  0.016870 -0.452961  0.048990 -0.452822  0.048695   \n",
       "3          0.063328  0.061668  0.352686  0.054713  0.337873  0.053507   \n",
       "5          1.238473  1.228166  0.462993  0.168560  0.504761  0.172139   \n",
       "11         0.674826  0.344843 -0.138586  0.059139 -0.150781  0.060059   \n",
       "12         0.127776  0.063833  0.334573  0.053737  0.323266  0.053378   \n",
       "\n",
       "    ntracks  medianM/D  \n",
       "2     10010      10083  \n",
       "3      9639      10083  \n",
       "5      9639      10083  \n",
       "11    12744      10083  \n",
       "12    12744      10083  \n",
       "\n",
       "[5 rows x 30 columns]"
      ]
     },
     "execution_count": 14,
     "metadata": {},
     "output_type": "execute_result"
    }
   ],
   "source": [
    "k0Panda=v0sPanda.query('(K0Delta<0.2 & K0Delta>-0.2) & (isBackground | cleanK0)')\n",
    "variablesK0=k0Panda[['fRr', 'mpt', 'tglV0', 'pointAngleN', 'dcaNorm']].values\n",
    "valuesK0=k0Panda['cleanK0'].values\n",
    "variablesK0.shape\n",
    "print(k0Panda.shape)\n",
    "k0Panda.head(5)"
   ]
  },
  {
   "cell_type": "markdown",
   "metadata": {},
   "source": [
    "# Random forest fit"
   ]
  },
  {
   "cell_type": "code",
   "execution_count": 15,
   "metadata": {},
   "outputs": [
    {
     "data": {
      "text/plain": [
       "RandomForestClassifier(bootstrap=True, class_weight=None, criterion='gini',\n",
       "            max_depth=6, max_features='auto', max_leaf_nodes=None,\n",
       "            min_impurity_decrease=0.0, min_impurity_split=None,\n",
       "            min_samples_leaf=1, min_samples_split=2,\n",
       "            min_weight_fraction_leaf=0.0, n_estimators=100, n_jobs=8,\n",
       "            oob_score=False, random_state=0, verbose=0, warm_start=False)"
      ]
     },
     "execution_count": 15,
     "metadata": {},
     "output_type": "execute_result"
    }
   ],
   "source": [
    "clf = RandomForestClassifier(n_estimators=100, max_depth=6, random_state=0, n_jobs=8)\n",
    "clf.fit(variablesK0, valuesK0)"
   ]
  },
  {
   "cell_type": "code",
   "execution_count": 16,
   "metadata": {},
   "outputs": [
    {
     "name": "stdout",
     "output_type": "stream",
     "text": [
      "[0.12788857 0.38442431 0.00775188 0.28579092 0.19414432]\n",
      "(468942, 5)\n",
      "[[0.98042613 0.01957387]\n",
      " [0.92977561 0.07022439]\n",
      " [0.53193725 0.46806275]\n",
      " ...\n",
      " [0.88612167 0.11387833]\n",
      " [0.99014571 0.00985429]\n",
      " [0.99110201 0.00889799]]\n"
     ]
    }
   ],
   "source": [
    "print(clf.feature_importances_)\n",
    "print(variablesK0.shape)\n",
    "print(clf.predict_proba(variablesK0))"
   ]
  },
  {
   "cell_type": "markdown",
   "metadata": {},
   "source": [
    "## Random forest error calculation"
   ]
  },
  {
   "cell_type": "code",
   "execution_count": 22,
   "metadata": {},
   "outputs": [
    {
     "name": "stdout",
     "output_type": "stream",
     "text": [
      "(0, array([0.00234952, 0.00234952, 0.00234952, 0.00234952, 0.00234952]))\n",
      "(1, array([0.00234952, 0.00234952, 0.00234952, 0.00234952, 0.00234952]))\n",
      "(2, array([0.00234952, 0.00234952, 0.00234952, 0.00234952, 0.00234952]))\n"
     ]
    }
   ],
   "source": [
    "# Calculate the variance:\n",
    "k0_training=variablesK0[0:40000]\n",
    "k0_test=variablesK0[0:1000]\n",
    "for i in range(0,3):\n",
    "    errors = fci.random_forest_error(clf, k0_training,k0_test,memory_constrained=1, memory_limit=100, calibrate=0 )\n",
    "    print(i,errors[0:1000:200])"
   ]
  },
  {
   "cell_type": "code",
   "execution_count": 20,
   "metadata": {},
   "outputs": [
    {
     "data": {
      "image/png": "[encoded data removed]",
      "text/plain": [
       "<Figure size 432x288 with 1 Axes>"
      ]
     },
     "metadata": {},
     "output_type": "display_data"
    }
   ],
   "source": [
    "plt.hist(errors,log=1,bins=100)\n",
    "plt.show()"
   ]
  },
  {
   "cell_type": "code",
   "execution_count": null,
   "metadata": {},
   "outputs": [],
   "source": [
    "k0_training.shape"
   ]
  },
  {
   "cell_type": "markdown",
   "metadata": {},
   "source": [
    "# TODO:\n",
    "* scan of the Random foreset settings\n",
    "  * include ROCS\n",
    "  * export table with 2 (value+error) x 3 (settings) as csv file \n",
    " \n",
    "* prototyping Keras model compression\n",
    "  *  settings (fullu connected NN)\n",
    "    * deepnese scan fixing number of conections\n",
    "  * export table with 2 (value+error) x 3 (settings) as csv file   "
   ]
  },
  {
   "cell_type": "markdown",
   "metadata": {},
   "source": [
    "TODO:"
   ]
  }
 ],
 "metadata": {
  "kernelspec": {
   "display_name": "Python 2",
   "language": "python",
   "name": "python2"
  },
  "language_info": {
   "codemirror_mode": {
    "name": "ipython",
    "version": 2
   },
   "file_extension": ".py",
   "mimetype": "text/x-python",
   "name": "python",
   "nbconvert_exporter": "python",
   "pygments_lexer": "ipython2",
   "version": "2.7.12"
  }
 },
 "nbformat": 4,
 "nbformat_minor": 2
}
