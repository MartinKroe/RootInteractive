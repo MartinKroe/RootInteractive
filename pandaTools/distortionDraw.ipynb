{
 "cells": [
  {
   "cell_type": "code",
   "execution_count": null,
   "metadata": {},
   "outputs": [],
   "source": [
    "from TTreeHnInteractive.aliTreePlayer import *\n",
    "from TTreeHnInteractive.TTreeHnBrowser import *\n",
    "from TTreeHnInteractive.bokehTools import *\n",
    "#from MLpipeline.NDFunctionInterface import  DataContainer, Fitter\n",
    "from TTreeHnInteractive.bokehDrawPanda import *\n",
    "output_notebook()\n",
    "p3 = figure(plot_width=400, plot_height=250, title=\"template\")"
   ]
  },
  {
   "cell_type": "code",
   "execution_count": null,
   "metadata": {},
   "outputs": [],
   "source": [
    "tree=ROOT.AliTreePlayer.LoadTrees(\"cat /home2/miranov/github/RootInteractive/SpaceCharge/performance.list\",\"distortion\",\"xxx\",\".*\",\"\",\"\")"
   ]
  },
  {
   "cell_type": "code",
   "execution_count": null,
   "metadata": {},
   "outputs": [],
   "source": [
    "variables=\"RRow129ZCol129PhiSlice180.distortion.drPhiCorr.fElements:RRow65ZCol65PhiSlice180.distortion.drPhiCorr.fElements:r.fElements:z.fElements:phi.fElements\"\n",
    "selection=\"Iteration$%10==1\""
   ]
  },
  {
   "cell_type": "code",
   "execution_count": null,
   "metadata": {},
   "outputs": [],
   "source": [
    "treeToPanda?"
   ]
  },
  {
   "cell_type": "code",
   "execution_count": null,
   "metadata": {},
   "outputs": [],
   "source": [
    "df=treeToPanda(tree,variables,selection,100000000,0,\".distortion:.fElements\")"
   ]
  },
  {
   "cell_type": "code",
   "execution_count": null,
   "metadata": {},
   "outputs": [],
   "source": [
    "df=SetAlias(df,\"drphi129_65\",\"RRow129ZCol129PhiSlice180_drPhiCorr-RRow65ZCol65PhiSlice180_drPhiCorr\")"
   ]
  },
  {
   "cell_type": "code",
   "execution_count": null,
   "metadata": {},
   "outputs": [],
   "source": [
    "p3 = figure(plot_width=700, plot_height=200, title=\"template\")\n",
    "varX=\"r\"\n",
    "varY=\"RRow129ZCol129PhiSlice180_drPhiCorr:drphi129_65\"\n",
    "slider=\"r(85,245,1,85,245):phi(0,6.28,0.01,0,6.28):z(-250,250,25,-250,250)\"\n",
    "bokehDrawPanda(df.sample(10000),\"z>0\",varX,varY,\"z\",slider,p3,commonX=1,size=2)"
   ]
  },
  {
   "cell_type": "code",
   "execution_count": null,
   "metadata": {},
   "outputs": [],
   "source": []
  },
  {
   "cell_type": "markdown",
   "metadata": {},
   "source": [
    "## Backup"
   ]
  },
  {
   "cell_type": "code",
   "execution_count": null,
   "metadata": {},
   "outputs": [],
   "source": []
  },
  {
   "cell_type": "code",
   "execution_count": null,
   "metadata": {},
   "outputs": [],
   "source": []
  }
 ],
 "metadata": {
  "kernelspec": {
   "display_name": "Python 2",
   "language": "python",
   "name": "python2"
  },
  "language_info": {
   "codemirror_mode": {
    "name": "ipython",
    "version": 2
   },
   "file_extension": ".py",
   "mimetype": "text/x-python",
   "name": "python",
   "nbconvert_exporter": "python",
   "pygments_lexer": "ipython2",
   "version": "2.7.15rc1"
  }
 },
 "nbformat": 4,
 "nbformat_minor": 2
}
