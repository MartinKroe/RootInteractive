{
 "cells": [
  {
   "cell_type": "markdown",
   "metadata": {},
   "source": [
    "## Import libraries"
   ]
  },
  {
   "cell_type": "code",
   "execution_count": null,
   "metadata": {},
   "outputs": [],
   "source": [
    "from distortionStudy import *\n",
    "from TTreeHnInteractive.TTreeHnBrowser import *\n",
    "from TTreeHnInteractive.bokehTools import *\n",
    "import matplotlib.pyplot as plt\n",
    "from MLpipeline.NDFunctionInterface import PrepareData, Fitter\n",
    "#matplotlib inline\n",
    "output_notebook()\n",
    "#matplotlib notebook"
   ]
  },
  {
   "cell_type": "markdown",
   "metadata": {},
   "source": [
    "### Load csv file with disortion and split them per sector to enable correlation"
   ]
  },
  {
   "cell_type": "code",
   "execution_count": null,
   "metadata": {},
   "outputs": [],
   "source": [
    "input=os.path.expandvars(\"$NOTESData/JIRA/ATO-336/DistortionsTimeSeries/distortionAll.csv\")\n",
    "df=readDataFrame(input)\n",
    "dfsplit=splitDistortionFrame(df)\n",
    "print(\"load csv file\", input, df.shape, dfsplit.shape)\n",
    "dfsplit.head(3)\n",
    "dfsplit=dfsplit.query(\"iz2x>-1\")"
   ]
  },
  {
   "cell_type": "markdown",
   "metadata": {},
   "source": [
    "### Load fitter and fit distortion in regions as function of other distortions"
   ]
  },
  {
   "cell_type": "code",
   "execution_count": null,
   "metadata": {},
   "outputs": [],
   "source": [
    "deltaColumns=[col for col in dfsplit.columns if \"drphiSec\" in col ]\n",
    "factorColumns= ['bz','bckg0Mean','iz2x']\n",
    "variableX=[x for x in deltaColumns if x != 'drphiSector2']\n",
    "variableX+=factorColumns\n",
    "#\n",
    "x = PrepareData(dfsplit, variableX, ['drphiSector2'], [500,500])\n",
    "fitter = Fitter(x)\n",
    "fitter.Register_Method('KM','KerasModel', 'Regressor')\n",
    "fitter.Register_Method('KNN','KNeighbors', 'Regressor')\n",
    "fitter.Register_Method('RF','RandomForest', 'Regressor', n_estimators=100, max_depth=10)\n",
    "fitter.Register_Method('RF200','RandomForest', 'Regressor', n_estimators=200, max_depth=10)\n",
    "list(variableX)"
   ]
  },
  {
   "cell_type": "code",
   "execution_count": null,
   "metadata": {},
   "outputs": [],
   "source": [
    "fitter.Fit()\n",
    "fitter.Compress('KM')\n",
    "for method in ['RF', 'KNN', 'RF200','KM']: \n",
    "    dfsplit = fitter.AppendOtherPandas(method,dfsplit)\n",
    "                                    "
   ]
  },
  {
   "cell_type": "code",
   "execution_count": null,
   "metadata": {},
   "outputs": [],
   "source": [
    "fitter.AppendOtherPandas?\n",
    "dfsplit.head()"
   ]
  },
  {
   "cell_type": "markdown",
   "metadata": {},
   "source": [
    "## Bokeh corelation visualization"
   ]
  },
  {
   "cell_type": "code",
   "execution_count": null,
   "metadata": {},
   "outputs": [],
   "source": [
    "p = figure(plot_width=600, plot_height=600, title=\"s2s4\")\n",
    "plot=drawColz(dfsplit,\" trdIntMedianL0<30 \",\"drphiSector2\", \"RF200\",\"year\",p)"
   ]
  },
  {
   "cell_type": "code",
   "execution_count": null,
   "metadata": {},
   "outputs": [],
   "source": [
    "fitter.Models[1].model.feature_importances_"
   ]
  },
  {
   "cell_type": "code",
   "execution_count": null,
   "metadata": {},
   "outputs": [],
   "source": [
    "fitter.Models[1].model"
   ]
  },
  {
   "cell_type": "code",
   "execution_count": null,
   "metadata": {},
   "outputs": [],
   "source": [
    "list(dfsplit)"
   ]
  },
  {
   "cell_type": "code",
   "execution_count": null,
   "metadata": {},
   "outputs": [],
   "source": []
  },
  {
   "cell_type": "code",
   "execution_count": null,
   "metadata": {},
   "outputs": [],
   "source": [
    "#dfsplit.plot.scatter('drphi2','drphis4',c=\"drphis6\")\")\n",
    "p = figure(plot_width=600, plot_height=600, title=\"s2s4\")\n",
    "plot=drawColz(dfsplit,\"bz>0 & iz2x==4& trdIntMedianL0<30 &year==2016\",\"drphi2\", \"drphi4\",\"trdIntMedianL0\",p)"
   ]
  },
  {
   "cell_type": "markdown",
   "metadata": {},
   "source": [
    "## Playing with pandas - TO BE DELETED later"
   ]
  },
  {
   "cell_type": "code",
   "execution_count": null,
   "metadata": {},
   "outputs": [],
   "source": [
    "list(dfsplit)"
   ]
  },
  {
   "cell_type": "code",
   "execution_count": null,
   "metadata": {},
   "outputs": [],
   "source": [
    "df['fillcolor']=df['fill']-4000\n",
    "df.query(\"sector==4&isIROC&year<2017 & abs(trdIntMedianL0/trdIntMedianL1-1)<0.4\").plot.scatter('eventsPerSecTPC','trdIntMedianL0',c=\"fillcolor\")"
   ]
  },
  {
   "cell_type": "code",
   "execution_count": null,
   "metadata": {},
   "outputs": [],
   "source": [
    "df['ratio'] = df.trdIntMedianL5 / df.trdIntMedianL0\n",
    "df['ratiom']=df.drphiSmoothedQ98/df.trdIntMedianL5\n",
    "fig=drawColz(df,\"sector==4&isIROC&iz2x==1&bz>0 &abs(ratio-1)<0.9&year==2016\",\"gascompCO2\",\"ratiom\",\"gascompCO2\")"
   ]
  },
  {
   "cell_type": "code",
   "execution_count": null,
   "metadata": {},
   "outputs": [],
   "source": [
    "fig=drawColz(df,\"sector==9&isIROC&iz2x==1&bz>0 &abs(ratio-0.8)<0.1&year==2016\",\"trdIntMedianL0\",\"trdIntMedianL5\",\"gascompH2O\")"
   ]
  },
  {
   "cell_type": "code",
   "execution_count": null,
   "metadata": {},
   "outputs": [],
   "source": [
    "df1.query(\"abs(ratio-0.8)<0.2\").hist('ratio')"
   ]
  },
  {
   "cell_type": "code",
   "execution_count": null,
   "metadata": {},
   "outputs": [],
   "source": [
    "a=1\n",
    "\"xxx\"+str(a)\n",
    "query=\"isIROC&isec=\"+str(a)\n",
    "query"
   ]
  },
  {
   "cell_type": "code",
   "execution_count": null,
   "metadata": {},
   "outputs": [],
   "source": [
    "sectors=[2,4,6,7,9,15,20,30]\n",
    "pandaList=[]\n",
    "dfall=df.query(\"isec==2&isIROC\").reset_index(drop=True)\n",
    "pandaList=[dfall]\n",
    "for isector in sectors:\n",
    "    global pandaList\n",
    "    query=\"isIROC&isec==\"+str(isector)\n",
    "    dfsec=df.query(query)[['drphiSmoothedQ95']].reset_index(drop=True)\n",
    "    dfsec.columns=[\"drphi\"+str(isector)]\n",
    "    pandaList.append(dfsec)\n",
    "pall=pd.concat(pandaList,axis=1)\n",
    "    \n",
    "pall.head(3) \n",
    "pall.query(\"iz2x==4\").plot.scatter(\"drphi2\",\"drphi20\")\n",
    "drawColz(pall,\"iz2x==4\",\"drphi2\", \"drphi4\",\"\")"
   ]
  },
  {
   "cell_type": "code",
   "execution_count": null,
   "metadata": {},
   "outputs": [],
   "source": [
    "dflist=[]\n",
    "dfall=df.query(\"isec==2&isIROC&iz2x==3\")[:5000].copy(True)\n",
    "df2=df.query(\"isec==2&isIROC&iz2x==3\")[['drphiSmoothedQ95','time']][:5000].copy(True).reset_index(drop=True)\n",
    "df4=df.query(\"isec==4&isIROC&iz2x==3\")[['drphiSmoothedQ95','time']][:5000].copy(True).reset_index(drop=True)\n",
    "df6=df.query(\"isec==6&isIROC&iz2x==3\")[['drphiSmoothedQ95','time']][:5000].copy(True).reset_index(drop=True)\n",
    "df2.columns= ['s2', 'time']\n",
    "df4.columns= ['s4', 'time']\n",
    "df6.columns= ['s6', 'time']\n",
    "\n",
    "m=pd.concat([df2,df4,df6],axis=1)\n",
    "m.plot.scatter(\"s2\",\"s4\")\n",
    "m.head(5)"
   ]
  },
  {
   "cell_type": "code",
   "execution_count": null,
   "metadata": {},
   "outputs": [],
   "source": [
    "print(dfall.shape, df2.shape,df4.shape,df6.shape)\n",
    "dfall=dfall.join(df2,rsuffix='s2')\n",
    "dfall=dfall.join(df4,rsuffix='s4')\n",
    "dfall=dfall.join(df6,rsuffix='s6').copy(true)\n",
    "print(dfall.shape, df2.shape,df4.shape,df6.shape)\n",
    "#df6"
   ]
  },
  {
   "cell_type": "code",
   "execution_count": null,
   "metadata": {},
   "outputs": [],
   "source": [
    "drawColz(m,\"isIROC==1\",\"s2\", \"s4\",\"bz\")"
   ]
  },
  {
   "cell_type": "code",
   "execution_count": null,
   "metadata": {},
   "outputs": [],
   "source": [
    "dfall.plot.scatter('drphiSmoothedQ95s2','drphiSmoothedQ95s2',c=\"drphiSmoothedQ95s2\")"
   ]
  },
  {
   "cell_type": "code",
   "execution_count": null,
   "metadata": {},
   "outputs": [],
   "source": [
    "dfall['drphiSmoothedQ95s2'].head(5)"
   ]
  },
  {
   "cell_type": "code",
   "execution_count": null,
   "metadata": {},
   "outputs": [],
   "source": [
    "list(df)"
   ]
  },
  {
   "cell_type": "code",
   "execution_count": null,
   "metadata": {},
   "outputs": [],
   "source": []
  }
 ],
 "metadata": {
  "kernelspec": {
   "display_name": "Python 2",
   "language": "python",
   "name": "python2"
  },
  "language_info": {
   "codemirror_mode": {
    "name": "ipython",
    "version": 2
   },
   "file_extension": ".py",
   "mimetype": "text/x-python",
   "name": "python",
   "nbconvert_exporter": "python",
   "pygments_lexer": "ipython2",
   "version": "2.7.15rc1"
  }
 },
 "nbformat": 4,
 "nbformat_minor": 2
}
