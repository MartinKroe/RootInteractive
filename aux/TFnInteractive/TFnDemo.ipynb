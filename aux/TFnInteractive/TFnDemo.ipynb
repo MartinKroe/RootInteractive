{
 "cells": [
  {
   "cell_type": "code",
   "execution_count": 1,
   "metadata": {},
   "outputs": [],
   "source": [
    "from __future__ import print_function\n",
    "from ipywidgets import interact, interactive, fixed, interact_manual\n",
    "import ipywidgets as widgets\n",
    "import numpy as np\n",
    "from IPython.display import display"
   ]
  },
  {
   "cell_type": "code",
   "execution_count": 2,
   "metadata": {},
   "outputs": [
    {
     "name": "stdout",
     "output_type": "stream",
     "text": [
      "Welcome to JupyROOT 6.13/03\n"
     ]
    }
   ],
   "source": [
    "import ROOT"
   ]
  },
  {
   "cell_type": "code",
   "execution_count": 3,
   "metadata": {},
   "outputs": [],
   "source": [
    "%jsroot off"
   ]
  },
  {
   "cell_type": "code",
   "execution_count": 3,
   "metadata": {},
   "outputs": [
    {
     "data": {
      "image/png": "[encoded data removed]",
      "text/plain": [
       "<IPython.core.display.Image object>"
      ]
     },
     "metadata": {},
     "output_type": "display_data"
    }
   ],
   "source": [
    "c1=ROOT.TCanvas(\"c1\",\"c1\",600,400);\n",
    "f1=ROOT.TF1(\"fit1\",\"sin(x*[0])\",0,10);\n",
    "f1.SetParameter(0,1);\n",
    "f1.Draw(\"\");\n",
    "c1.Draw();  "
   ]
  },
  {
   "cell_type": "markdown",
   "metadata": {},
   "source": [
    "def fun(y):\n",
    "    f1.SetParameter(0,y);\n",
    "    f1.Draw(\"\")\n",
    "    c1.Draw();\n",
    "    c1.Update();\n",
    "c1.Draw();\n",
    "interactive_plot=interactive(fun, y=(0.1, 10.0));\n",
    "interactive_plot   "
   ]
  },
  {
   "cell_type": "markdown",
   "metadata": {},
   "source": [
    "## Interactive TF1 -eval"
   ]
  },
  {
   "cell_type": "code",
   "execution_count": 4,
   "metadata": {},
   "outputs": [
    {
     "data": {
      "application/vnd.jupyter.widget-view+json": {
       "model_id": "1f488c3aaf3342a89a8037bed8715c9e",
       "version_major": 2,
       "version_minor": 0
      },
      "text/plain": [
       "aW50ZXJhY3RpdmUoY2hpbGRyZW49KEZsb2F0U2xpZGVyKHZhbHVlPTUuMDUsIGRlc2NyaXB0aW9uPXUneScsIG1heD0xMC4wLCBtaW49MC4xKSwgT3V0cHV0KCkpLCBfZG9tX2NsYXNzZXM9KHXigKY=\n"
      ]
     },
     "metadata": {},
     "output_type": "display_data"
    }
   ],
   "source": [
    "def funPrint(y):\n",
    "    f1.SetParameter(0,y)\n",
    "    return f1.Eval(0)\n",
    "    \n",
    "interactive_print=interactive(funPrint, y=(0.1, 10.0));\n",
    "interactive_print"
   ]
  },
  {
   "cell_type": "markdown",
   "metadata": {},
   "source": [
    "# Interactive TF1 - drawing"
   ]
  },
  {
   "cell_type": "code",
   "execution_count": 5,
   "metadata": {},
   "outputs": [
    {
     "data": {
      "application/vnd.jupyter.widget-view+json": {
       "model_id": "424ab436ce0647408095b3f1d676ca02",
       "version_major": 2,
       "version_minor": 0
      },
      "text/plain": [
       "aW50ZXJhY3RpdmUoY2hpbGRyZW49KEZsb2F0U2xpZGVyKHZhbHVlPTAuMCwgZGVzY3JpcHRpb249dSd5JywgbWF4PTMuMCwgbWluPS0zLjAsIHN0ZXA9MC41KSwgRmxvYXRTbGlkZXIodmFsdWXigKY=\n"
      ]
     },
     "metadata": {},
     "output_type": "display_data"
    }
   ],
   "source": [
    "from ipywidgets import interactive\n",
    "import matplotlib.pyplot as plt\n",
    "import numpy as np\n",
    "def fdraw(y,m):\n",
    "    plt.figure(2)\n",
    "    f1.SetParameter(0,y)\n",
    "    x = np.linspace(-10, 10, num=1000)\n",
    "    yd = np.linspace(-10, 10, num=1000)\n",
    "    for i in range(0, 1000): \n",
    "        yd[i]=f1.Eval(x[i])+m;\n",
    "    plt.plot(x, yd)\n",
    "    plt.ylim(-5, 5)\n",
    "    plt.show()\n",
    "\n",
    "interactive_plot = interactive(fdraw,  y=(-3, 3, 0.5), m=(-3, 3, 0.5) )\n",
    "#output = interactive_plot.children[-1]\n",
    "#output.layout.height = '350px'\n",
    "interactive_plot"
   ]
  },
  {
   "cell_type": "code",
   "execution_count": 7,
   "metadata": {},
   "outputs": [],
   "source": [
    " x = np.linspace(-10, 10, num=1000)"
   ]
  },
  {
   "cell_type": "code",
   "execution_count": null,
   "metadata": {},
   "outputs": [],
   "source": []
  },
  {
   "cell_type": "code",
   "execution_count": null,
   "metadata": {},
   "outputs": [],
   "source": []
  }
 ],
 "metadata": {
  "kernelspec": {
   "display_name": "Python 2",
   "language": "python",
   "name": "python2"
  },
  "language_info": {
   "codemirror_mode": {
    "name": "ipython",
    "version": 2
   },
   "file_extension": ".py",
   "mimetype": "text/x-python",
   "name": "python",
   "nbconvert_exporter": "python",
   "pygments_lexer": "ipython2",
   "version": "2.7.12"
  }
 },
 "nbformat": 4,
 "nbformat_minor": 2
}
