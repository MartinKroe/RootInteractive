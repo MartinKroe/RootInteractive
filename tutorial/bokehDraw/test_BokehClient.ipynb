{
 "cells": [
  {
   "cell_type": "markdown",
   "metadata": {},
   "source": [
    "# Test macro for Bokeh client visualization\n",
    "* it is aimed to be used for develoopers to test feature of bokeh interactive  - standalone plotting"
   ]
  },
  {
   "cell_type": "code",
   "execution_count": null,
   "metadata": {},
   "outputs": [],
   "source": [
    "from bokeh.io import output_notebook, show\n",
    "#, output_file\n",
    "from bokeh.plotting import figure\n",
    "from bokeh.layouts import column, row\n",
    "from bokeh.models import CustomJS, ColumnDataSource, Slider\n",
    "from RootInteractive.InteractiveDrawing.bokeh.bokehTools import *\n",
    "from RootInteractive.InteractiveDrawing.bokeh.bokehDraw import *\n",
    "output_notebook()\n"
   ]
  },
  {
   "cell_type": "code",
   "execution_count": null,
   "metadata": {},
   "outputs": [],
   "source": [
    "#init test random data\n",
    "df = pd.DataFrame(np.random.randint(0, 100, size=(100, 4)), columns=list('ABCD'))\n",
    "df[\"Category\"]=df.eval(\"A%5\")\n",
    "df.head(10)\n",
    "df.metaData = {'A.AxisTitle': \"A (cm)\", 'B.AxisTitle': \"B (cm/s)\", 'C.AxisTitle': \"C (s)\", 'D.AxisTitle': \"D (a.u.)\"}\n",
    "#print(df.metaData)"
   ]
  },
  {
   "cell_type": "code",
   "execution_count": null,
   "metadata": {},
   "outputs": [],
   "source": [
    "bokehDrawArray?"
   ]
  },
  {
   "cell_type": "code",
   "execution_count": null,
   "metadata": {},
   "outputs": [],
   "source": [
    "figureArray = [\n",
    "        [['A'], ['D+A','C-A'], {\"size\": 1}],\n",
    "        [['A'], ['C+A', 'C-A']],\n",
    "        [['A'], ['Category']],\n",
    "    ]\n",
    "figureLayout: str = '((0,1),(2, x_visible=1),commonX=1,x_visible=1,y_visible=0,plot_height=250,plot_width=1000)'\n",
    "tooltips = [(\"VarA\", \"(@A)\"), (\"VarB\", \"(@B)\"), (\"VarC\", \"(@C)\"), (\"VarD\", \"(@D)\")]\n",
    "pAll,layoutList,source =bokehDrawArray(df, \"A>0\", figureArray, layout=figureLayout, color=\"blue\", size=4, tooltips=tooltips)\n",
    "show(pAll)"
   ]
  },
  {
   "cell_type": "code",
   "execution_count": null,
   "metadata": {},
   "outputs": [],
   "source": [
    "logging.disable(1)"
   ]
  },
  {
   "cell_type": "code",
   "execution_count": null,
   "metadata": {
    "scrolled": true
   },
   "outputs": [],
   "source": [
    "output_file(\"test2.html\")\n",
    "def makeJScallback(widgetDict):\n",
    "    size=widgetDict['cdsOrig'].data[\"index\"].size\n",
    "    code=\\\n",
    "    \"\"\"\n",
    "    var dataOrig = cdsOrig.data;\n",
    "    var dataSel = cdsSel.data;\n",
    "    console.log('%f\\t%f\\t',dataOrig[\"A\"].length, dataSel[\"A\"].length);\n",
    "    \"\"\"\n",
    "    for a in widgetDict['cdsOrig'].data:\n",
    "        code+=f\"dataSel[\\'{a}\\']=[];\\n\"\n",
    "    code+=f\"\"\"var arraySize={size};\\n\"\"\"\n",
    "    code+=\"\"\"var nSelected=0;\\n\"\"\"\n",
    "    code+=f\"\"\"for (var i = 0; i < {size}; i++)\\n\"\"\"\n",
    "    code+=\" {\\n\"\n",
    "    code+=\"\"\"var isSelected=1;\\n\"\"\"\n",
    "    for key, value in widgetDict.items():\n",
    "        if type(value).__name__ == \"RangeSlider\":\n",
    "            dataName=key.replace(\"Range\",\"\")\n",
    "            code+=f\"      var {key}Value={key}.value;\\n\"\n",
    "            code+=f\"      console.log(\\\"%s\\t%f\\t%f\\t%f\\\",\\\"{key}\\\",{key}Value[0],{key}Value[1],dataOrig[\\\"{dataName}\\\"][i]);\\n\"\n",
    "            code+=f\"      isSelected&=(dataOrig[\\\"{dataName}\\\"][i]>={key}Value[0])\\n\"\n",
    "            code+=f\"      isSelected&=(dataOrig[\\\"{dataName}\\\"][i]<={key}Value[1])\\n\"\n",
    "            #print(value)\n",
    "    code+=\"\"\"      \n",
    "        console.log(\\\"isSelected:%d\\t%d\\\",i,isSelected);\n",
    "        if (isSelected) nSelected++;\n",
    "        if (isSelected){\n",
    "    \"\"\"\n",
    "    for a in widgetDict['cdsOrig'].data:\n",
    "        code+=f\"dataSel[\\'{a}\\'].push(dataOrig[\\'{a}\\'][i]);\\n\"\n",
    "    code+=\"\"\"\n",
    "        }\n",
    "    }\n",
    "    console.log(\\\"nSelected:%d\\\",nSelected); \n",
    "    cdsSel.change.emit();\n",
    "    \"\"\"\n",
    "    print(code)\n",
    "    callback = CustomJS(args=widgetDict, code=code)\n",
    "    #print(callback)\n",
    "    #display(widgetDict)\n",
    "    return callback\n",
    "\n",
    "def test_FigureArray():\n",
    "    \"\"\"\n",
    "    Test of the bokehDrawArray to draw figure array -\n",
    "    :return:\n",
    "    \"\"\"\n",
    "    # 1.) create figures\n",
    "    figureArray = [\n",
    "        [['A'], ['D+A','C-A'], {\"size\": 8}],\n",
    "        [['A'], ['C+A', 'C-A']],\n",
    "        [['A'], ['sin(A/10)', 'sin(A/20)*0.5', 'sin(A/40)*0.25'], {\"size\": 10}]\n",
    "    ]\n",
    "    figureLayout: str = '((0,1, plot_height=200),(2, x_visible=1),commonX=1,x_visible=1,y_visible=0,plot_height=150,plot_width=1000)'\n",
    "    tooltips = [(\"VarA\", \"(@A)\"), (\"VarB\", \"(@B)\"), (\"VarC\", \"(@C)\"), (\"VarD\", \"(@D)\")]\n",
    "    #dummy,source,figureList  = bokehDrawArray(df, \"A>0\", figureArray, layout=figureLayout, color=\"blue\", size=4, tooltips=tooltips)\n",
    "    dummy,source,figureList  = bokehDrawArray(df, \"A>0\", figureArray, layout=figureLayout, color=\"blue\", size=4, tooltips=tooltips)\n",
    "\n",
    "    # 2.) make CDS\n",
    "    cdsOrig = ColumnDataSource(df.query(\"A>0\"))\n",
    "    cdsSel =  source\n",
    "    widgetDict={\"cdsOrig\":cdsOrig, \"cdsSel\":cdsSel}\n",
    "    sliders=[]\n",
    "    # 3.) create sliders \n",
    "    for a in df.columns:\n",
    "        length=df[a].max()-df[a].min()\n",
    "        sliderRange= RangeSlider(start=df[a].min(), end=df[a].max(), value=(df[a].min(), df[a].max()), step=length*0.01, title=a+\"Range\")\n",
    "        sliders.append([sliderRange])\n",
    "        widgetDict[a+\"Range\"]=sliderRange\n",
    "    # make callback\n",
    "    mycallback=makeJScallback(widgetDict)\n",
    "    display(mycallback)\n",
    "    for a in sliders:\n",
    "        figureList.append(a)\n",
    "        a[0].js_on_event('value',mycallback)\n",
    "        a[0].js_on_change('value',mycallback)\n",
    "        \n",
    "    sliderRange2= RangeSlider(start=0.1, end=4, value=(0.1,4) , step=0.1, title=\"Range2\")\n",
    "    sliderRange2.js_on_change('value', mycallback)\n",
    "    figureList.append([sliderRange2])\n",
    "    pAll=    gridplotRow(figureList)\n",
    "    show(pAll)\n",
    "    return pAll\n",
    "    #print(widgetDict)\n",
    "    \n",
    "figure=test_FigureArray() "
   ]
  }
 ],
 "metadata": {
  "kernelspec": {
   "display_name": "Python 3",
   "language": "python",
   "name": "python3"
  },
  "language_info": {
   "codemirror_mode": {
    "name": "ipython",
    "version": 3
   },
   "file_extension": ".py",
   "mimetype": "text/x-python",
   "name": "python",
   "nbconvert_exporter": "python",
   "pygments_lexer": "ipython3",
   "version": "3.6.8"
  }
 },
 "nbformat": 4,
 "nbformat_minor": 2
}
