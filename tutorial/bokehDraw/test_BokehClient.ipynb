{
 "cells": [
  {
   "cell_type": "markdown",
   "metadata": {},
   "source": [
    "# Test macro for Bokeh client visualization\n",
    "* it is aimed to be used for develoopers to test feature of bokeh interactive  - standalone plotting"
   ]
  },
  {
   "cell_type": "code",
   "execution_count": null,
   "metadata": {},
   "outputs": [],
   "source": [
    "from bokeh.io import output_notebook, show, output_file\n",
    "from bokeh.plotting import figure\n",
    "from bokeh.layouts import column, row\n",
    "from bokeh.models import CustomJS, ColumnDataSource, Slider\n",
    "from RootInteractive.InteractiveDrawing.bokeh.bokehDraw import *\n",
    "output_notebook()"
   ]
  },
  {
   "cell_type": "code",
   "execution_count": null,
   "metadata": {},
   "outputs": [],
   "source": [
    "#init test random data\n",
    "df = pd.DataFrame(np.random.randint(0, 100, size=(100, 4)), columns=list('ABCD'))\n",
    "df.head(10)\n",
    "df.metaData = {'A.AxisTitle': \"A (cm)\", 'B.AxisTitle': \"B (cm/s)\", 'C.AxisTitle': \"C (s)\", 'D.AxisTitle': \"D (a.u.)\"}\n",
    "print(df.metaData)"
   ]
  },
  {
   "cell_type": "code",
   "execution_count": null,
   "metadata": {},
   "outputs": [],
   "source": [
    "bokehDrawArray?"
   ]
  },
  {
   "cell_type": "code",
   "execution_count": null,
   "metadata": {},
   "outputs": [],
   "source": [
    "figureArray = [\n",
    "        [['A'], ['D+A','C-A'], {\"size\": 1}],\n",
    "        [['A'], ['C+A', 'C-A']],\n",
    "    ]\n",
    "figureLayout: str = '((0),(1, x_visible=1),commonX=1,x_visible=1,y_visible=0,plot_height=250,plot_width=1000)'\n",
    "tooltips = [(\"VarA\", \"(@A)\"), (\"VarB\", \"(@B)\"), (\"VarC\", \"(@C)\"), (\"VarD\", \"(@D)\")]\n",
    "pAll,layoutList,source =bokehDrawArray(df, \"A>0\", figureArray, layout=figureLayout, color=\"blue\", size=4, tooltips=tooltips)\n",
    "show(pAll)"
   ]
  },
  {
   "cell_type": "code",
   "execution_count": null,
   "metadata": {},
   "outputs": [],
   "source": [
    "logging.disable(1)"
   ]
  },
  {
   "cell_type": "code",
   "execution_count": null,
   "metadata": {},
   "outputs": [],
   "source": [
    "def makeJScallback(widgetDict):\n",
    "    \"\"\"\n",
    "    \"\"\"\n",
    "    code=\"\\\n",
    "        var dataOrig = cdsOrig.data;  \\\n",
    "        var dataSel  = cdsSel.data;  \"\n",
    "    for iW in widgetDict:\n",
    "        print(iW)\n",
    "        #print(type(iW).__name__)\n",
    "    callback = CustomJS(args=widgetDict, code=code)\n",
    "    return callback\n",
    "\n",
    "def test_FigureArray():\n",
    "    \"\"\"\n",
    "    Test of the bokehDrawArray to draw figure array -\n",
    "    :return:\n",
    "    \"\"\"\n",
    "    # 1.) create figures\n",
    "    figureArray = [\n",
    "        [['A'], ['D+A','C-A'], {\"size\": 8}],\n",
    "        [['A'], ['C+A', 'C-A']],\n",
    "        [['A'], ['sin(A/10)', 'sin(A/20)*0.5', 'sin(A/40)*0.25'], {\"size\": 10}],\n",
    "    ]\n",
    "    figureLayout: str = '((0,1, plot_height=200),(2, x_visible=1),commonX=1,x_visible=1,y_visible=0,plot_height=150,plot_width=1000)'\n",
    "    tooltips = [(\"VarA\", \"(@A)\"), (\"VarB\", \"(@B)\"), (\"VarC\", \"(@C)\"), (\"VarD\", \"(@D)\")]\n",
    "    dummy,source,figureList  = bokehDrawArray(df, \"A>0\", figureArray, layout=figureLayout, color=\"blue\", size=4, tooltips=tooltips)\n",
    "    # 2.) make CDS\n",
    "    cdsOrig = source\n",
    "    cdsSel = copy.copy(source)\n",
    "    widgetDict={\"cdsOrig\":cdsOrig, \"cdsSel\":cdsSel}\n",
    "    sliders=[]\n",
    "    # 3.) create sliders \n",
    "    for a in df.columns:\n",
    "        length=df[a].max()-df[a].min()\n",
    "        sliderRange= RangeSlider(start=df[a].min(), end=df[a].max(), value=(df[a].min(), df[a].max()), step=length*0.01, title=a+\".Range\")\n",
    "        sliders.append([sliderRange])\n",
    "        widgetDict[a+\".Range\"]=sliderRange\n",
    "    # make callback\n",
    "    callback=makeJScallback(widgetDict)\n",
    "    for a in sliders:\n",
    "        figureList.append(a)    \n",
    "    show(gridplotRow(figureList))\n",
    "    #print(widgetDict)"
   ]
  },
  {
   "cell_type": "code",
   "execution_count": null,
   "metadata": {},
   "outputs": [],
   "source": []
  },
  {
   "cell_type": "code",
   "execution_count": null,
   "metadata": {},
   "outputs": [],
   "source": [
    "test_FigureArray()"
   ]
  },
  {
   "cell_type": "code",
   "execution_count": null,
   "metadata": {},
   "outputs": [],
   "source": []
  }
 ],
 "metadata": {
  "kernelspec": {
   "display_name": "Python 3",
   "language": "python",
   "name": "python3"
  },
  "language_info": {
   "codemirror_mode": {
    "name": "ipython",
    "version": 3
   },
   "file_extension": ".py",
   "mimetype": "text/x-python",
   "name": "python",
   "nbconvert_exporter": "python",
   "pygments_lexer": "ipython3",
   "version": "3.6.7"
  }
 },
 "nbformat": 4,
 "nbformat_minor": 2
}
