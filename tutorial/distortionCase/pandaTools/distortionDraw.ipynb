{
 "cells": [
  {
   "cell_type": "markdown",
   "metadata": {},
   "source": [
    "# Example macro to convert tree to Panda and further visualization\n",
    "* !!! to be able to run it is is assumed that the data (perfformance.list) could be acessed from EOS\n",
    "* eos t be mounted into root directory"
   ]
  },
  {
   "cell_type": "code",
   "execution_count": 1,
   "metadata": {},
   "outputs": [
    {
     "name": "stdout",
     "output_type": "stream",
     "text": [
      "Welcome to JupyROOT 6.13/03\n"
     ]
    },
    {
     "data": {
      "text/html": [
       "\n",
       "    <div class=\"bk-root\">\n",
       "        <a href=\"https://bokeh.pydata.org\" target=\"_blank\" class=\"bk-logo bk-logo-small bk-logo-notebook\"></a>\n",
       "        <span id=\"1001\">Loading BokehJS ...</span>\n",
       "    </div>"
      ]
     },
     "metadata": {},
     "output_type": "display_data"
    },
    {
     "data": {
      "application/javascript": [
       "\n",
       "(function(root) {\n",
       "  function now() {\n",
       "    return new Date();\n",
       "  }\n",
       "\n",
       "  var force = true;\n",
       "\n",
       "  if (typeof (root._bokeh_onload_callbacks) === \"undefined\" || force === true) {\n",
       "    root._bokeh_onload_callbacks = [];\n",
       "    root._bokeh_is_loading = undefined;\n",
       "  }\n",
       "\n",
       "  var JS_MIME_TYPE = 'application/javascript';\n",
       "  var HTML_MIME_TYPE = 'text/html';\n",
       "  var EXEC_MIME_TYPE = 'application/vnd.bokehjs_exec.v0+json';\n",
       "  var CLASS_NAME = 'output_bokeh rendered_html';\n",
       "\n",
       "  /**\n",
       "   * Render data to the DOM node\n",
       "   */\n",
       "  function render(props, node) {\n",
       "    var script = document.createElement(\"script\");\n",
       "    node.appendChild(script);\n",
       "  }\n",
       "\n",
       "  /**\n",
       "   * Handle when an output is cleared or removed\n",
       "   */\n",
       "  function handleClearOutput(event, handle) {\n",
       "    var cell = handle.cell;\n",
       "\n",
       "    var id = cell.output_area._bokeh_element_id;\n",
       "    var server_id = cell.output_area._bokeh_server_id;\n",
       "    // Clean up Bokeh references\n",
       "    if (id != null && id in Bokeh.index) {\n",
       "      Bokeh.index[id].model.document.clear();\n",
       "      delete Bokeh.index[id];\n",
       "    }\n",
       "\n",
       "    if (server_id !== undefined) {\n",
       "      // Clean up Bokeh references\n",
       "      var cmd = \"from bokeh.io.state import curstate; print(curstate().uuid_to_server['\" + server_id + \"'].get_sessions()[0].document.roots[0]._id)\";\n",
       "      cell.notebook.kernel.execute(cmd, {\n",
       "        iopub: {\n",
       "          output: function(msg) {\n",
       "            var id = msg.content.text.trim();\n",
       "            if (id in Bokeh.index) {\n",
       "              Bokeh.index[id].model.document.clear();\n",
       "              delete Bokeh.index[id];\n",
       "            }\n",
       "          }\n",
       "        }\n",
       "      });\n",
       "      // Destroy server and session\n",
       "      var cmd = \"import bokeh.io.notebook as ion; ion.destroy_server('\" + server_id + \"')\";\n",
       "      cell.notebook.kernel.execute(cmd);\n",
       "    }\n",
       "  }\n",
       "\n",
       "  /**\n",
       "   * Handle when a new output is added\n",
       "   */\n",
       "  function handleAddOutput(event, handle) {\n",
       "    var output_area = handle.output_area;\n",
       "    var output = handle.output;\n",
       "\n",
       "    // limit handleAddOutput to display_data with EXEC_MIME_TYPE content only\n",
       "    if ((output.output_type != \"display_data\") || (!output.data.hasOwnProperty(EXEC_MIME_TYPE))) {\n",
       "      return\n",
       "    }\n",
       "\n",
       "    var toinsert = output_area.element.find(\".\" + CLASS_NAME.split(' ')[0]);\n",
       "\n",
       "    if (output.metadata[EXEC_MIME_TYPE][\"id\"] !== undefined) {\n",
       "      toinsert[toinsert.length - 1].firstChild.textContent = output.data[JS_MIME_TYPE];\n",
       "      // store reference to embed id on output_area\n",
       "      output_area._bokeh_element_id = output.metadata[EXEC_MIME_TYPE][\"id\"];\n",
       "    }\n",
       "    if (output.metadata[EXEC_MIME_TYPE][\"server_id\"] !== undefined) {\n",
       "      var bk_div = document.createElement(\"div\");\n",
       "      bk_div.innerHTML = output.data[HTML_MIME_TYPE];\n",
       "      var script_attrs = bk_div.children[0].attributes;\n",
       "      for (var i = 0; i < script_attrs.length; i++) {\n",
       "        toinsert[toinsert.length - 1].firstChild.setAttribute(script_attrs[i].name, script_attrs[i].value);\n",
       "      }\n",
       "      // store reference to server id on output_area\n",
       "      output_area._bokeh_server_id = output.metadata[EXEC_MIME_TYPE][\"server_id\"];\n",
       "    }\n",
       "  }\n",
       "\n",
       "  function register_renderer(events, OutputArea) {\n",
       "\n",
       "    function append_mime(data, metadata, element) {\n",
       "      // create a DOM node to render to\n",
       "      var toinsert = this.create_output_subarea(\n",
       "        metadata,\n",
       "        CLASS_NAME,\n",
       "        EXEC_MIME_TYPE\n",
       "      );\n",
       "      this.keyboard_manager.register_events(toinsert);\n",
       "      // Render to node\n",
       "      var props = {data: data, metadata: metadata[EXEC_MIME_TYPE]};\n",
       "      render(props, toinsert[toinsert.length - 1]);\n",
       "      element.append(toinsert);\n",
       "      return toinsert\n",
       "    }\n",
       "\n",
       "    /* Handle when an output is cleared or removed */\n",
       "    events.on('clear_output.CodeCell', handleClearOutput);\n",
       "    events.on('delete.Cell', handleClearOutput);\n",
       "\n",
       "    /* Handle when a new output is added */\n",
       "    events.on('output_added.OutputArea', handleAddOutput);\n",
       "\n",
       "    /**\n",
       "     * Register the mime type and append_mime function with output_area\n",
       "     */\n",
       "    OutputArea.prototype.register_mime_type(EXEC_MIME_TYPE, append_mime, {\n",
       "      /* Is output safe? */\n",
       "      safe: true,\n",
       "      /* Index of renderer in `output_area.display_order` */\n",
       "      index: 0\n",
       "    });\n",
       "  }\n",
       "\n",
       "  // register the mime type if in Jupyter Notebook environment and previously unregistered\n",
       "  if (root.Jupyter !== undefined) {\n",
       "    var events = require('base/js/events');\n",
       "    var OutputArea = require('notebook/js/outputarea').OutputArea;\n",
       "\n",
       "    if (OutputArea.prototype.mime_types().indexOf(EXEC_MIME_TYPE) == -1) {\n",
       "      register_renderer(events, OutputArea);\n",
       "    }\n",
       "  }\n",
       "\n",
       "  \n",
       "  if (typeof (root._bokeh_timeout) === \"undefined\" || force === true) {\n",
       "    root._bokeh_timeout = Date.now() + 5000;\n",
       "    root._bokeh_failed_load = false;\n",
       "  }\n",
       "\n",
       "  var NB_LOAD_WARNING = {'data': {'text/html':\n",
       "     \"<div style='background-color: #fdd'>\\n\"+\n",
       "     \"<p>\\n\"+\n",
       "     \"BokehJS does not appear to have successfully loaded. If loading BokehJS from CDN, this \\n\"+\n",
       "     \"may be due to a slow or bad network connection. Possible fixes:\\n\"+\n",
       "     \"</p>\\n\"+\n",
       "     \"<ul>\\n\"+\n",
       "     \"<li>re-rerun `output_notebook()` to attempt to load from CDN again, or</li>\\n\"+\n",
       "     \"<li>use INLINE resources instead, as so:</li>\\n\"+\n",
       "     \"</ul>\\n\"+\n",
       "     \"<code>\\n\"+\n",
       "     \"from bokeh.resources import INLINE\\n\"+\n",
       "     \"output_notebook(resources=INLINE)\\n\"+\n",
       "     \"</code>\\n\"+\n",
       "     \"</div>\"}};\n",
       "\n",
       "  function display_loaded() {\n",
       "    var el = document.getElementById(\"1001\");\n",
       "    if (el != null) {\n",
       "      el.textContent = \"BokehJS is loading...\";\n",
       "    }\n",
       "    if (root.Bokeh !== undefined) {\n",
       "      if (el != null) {\n",
       "        el.textContent = \"BokehJS \" + root.Bokeh.version + \" successfully loaded.\";\n",
       "      }\n",
       "    } else if (Date.now() < root._bokeh_timeout) {\n",
       "      setTimeout(display_loaded, 100)\n",
       "    }\n",
       "  }\n",
       "\n",
       "\n",
       "  function run_callbacks() {\n",
       "    try {\n",
       "      root._bokeh_onload_callbacks.forEach(function(callback) { callback() });\n",
       "    }\n",
       "    finally {\n",
       "      delete root._bokeh_onload_callbacks\n",
       "    }\n",
       "    console.info(\"Bokeh: all callbacks have finished\");\n",
       "  }\n",
       "\n",
       "  function load_libs(js_urls, callback) {\n",
       "    root._bokeh_onload_callbacks.push(callback);\n",
       "    if (root._bokeh_is_loading > 0) {\n",
       "      console.log(\"Bokeh: BokehJS is being loaded, scheduling callback at\", now());\n",
       "      return null;\n",
       "    }\n",
       "    if (js_urls == null || js_urls.length === 0) {\n",
       "      run_callbacks();\n",
       "      return null;\n",
       "    }\n",
       "    console.log(\"Bokeh: BokehJS not loaded, scheduling load and callback at\", now());\n",
       "    root._bokeh_is_loading = js_urls.length;\n",
       "    for (var i = 0; i < js_urls.length; i++) {\n",
       "      var url = js_urls[i];\n",
       "      var s = document.createElement('script');\n",
       "      s.src = url;\n",
       "      s.async = false;\n",
       "      s.onreadystatechange = s.onload = function() {\n",
       "        root._bokeh_is_loading--;\n",
       "        if (root._bokeh_is_loading === 0) {\n",
       "          console.log(\"Bokeh: all BokehJS libraries loaded\");\n",
       "          run_callbacks()\n",
       "        }\n",
       "      };\n",
       "      s.onerror = function() {\n",
       "        console.warn(\"failed to load library \" + url);\n",
       "      };\n",
       "      console.log(\"Bokeh: injecting script tag for BokehJS library: \", url);\n",
       "      document.getElementsByTagName(\"head\")[0].appendChild(s);\n",
       "    }\n",
       "  };var element = document.getElementById(\"1001\");\n",
       "  if (element == null) {\n",
       "    console.log(\"Bokeh: ERROR: autoload.js configured with elementid '1001' but no matching script tag was found. \")\n",
       "    return false;\n",
       "  }\n",
       "\n",
       "  var js_urls = [\"https://cdn.pydata.org/bokeh/release/bokeh-1.0.1.min.js\", \"https://cdn.pydata.org/bokeh/release/bokeh-widgets-1.0.1.min.js\", \"https://cdn.pydata.org/bokeh/release/bokeh-tables-1.0.1.min.js\", \"https://cdn.pydata.org/bokeh/release/bokeh-gl-1.0.1.min.js\"];\n",
       "\n",
       "  var inline_js = [\n",
       "    function(Bokeh) {\n",
       "      Bokeh.set_log_level(\"info\");\n",
       "    },\n",
       "    \n",
       "    function(Bokeh) {\n",
       "      \n",
       "    },\n",
       "    function(Bokeh) {\n",
       "      console.log(\"Bokeh: injecting CSS: https://cdn.pydata.org/bokeh/release/bokeh-1.0.1.min.css\");\n",
       "      Bokeh.embed.inject_css(\"https://cdn.pydata.org/bokeh/release/bokeh-1.0.1.min.css\");\n",
       "      console.log(\"Bokeh: injecting CSS: https://cdn.pydata.org/bokeh/release/bokeh-widgets-1.0.1.min.css\");\n",
       "      Bokeh.embed.inject_css(\"https://cdn.pydata.org/bokeh/release/bokeh-widgets-1.0.1.min.css\");\n",
       "      console.log(\"Bokeh: injecting CSS: https://cdn.pydata.org/bokeh/release/bokeh-tables-1.0.1.min.css\");\n",
       "      Bokeh.embed.inject_css(\"https://cdn.pydata.org/bokeh/release/bokeh-tables-1.0.1.min.css\");\n",
       "    }\n",
       "  ];\n",
       "\n",
       "  function run_inline_js() {\n",
       "    \n",
       "    if ((root.Bokeh !== undefined) || (force === true)) {\n",
       "      for (var i = 0; i < inline_js.length; i++) {\n",
       "        inline_js[i].call(root, root.Bokeh);\n",
       "      }if (force === true) {\n",
       "        display_loaded();\n",
       "      }} else if (Date.now() < root._bokeh_timeout) {\n",
       "      setTimeout(run_inline_js, 100);\n",
       "    } else if (!root._bokeh_failed_load) {\n",
       "      console.log(\"Bokeh: BokehJS failed to load within specified timeout.\");\n",
       "      root._bokeh_failed_load = true;\n",
       "    } else if (force !== true) {\n",
       "      var cell = $(document.getElementById(\"1001\")).parents('.cell').data().cell;\n",
       "      cell.output_area.append_execute_result(NB_LOAD_WARNING)\n",
       "    }\n",
       "\n",
       "  }\n",
       "\n",
       "  if (root._bokeh_is_loading === 0) {\n",
       "    console.log(\"Bokeh: BokehJS loaded, going straight to plotting\");\n",
       "    run_inline_js();\n",
       "  } else {\n",
       "    load_libs(js_urls, function() {\n",
       "      console.log(\"Bokeh: BokehJS plotting callback run at\", now());\n",
       "      run_inline_js();\n",
       "    });\n",
       "  }\n",
       "}(window));"
      ],
      "application/vnd.bokehjs_load.v0+json": "\n(function(root) {\n  function now() {\n    return new Date();\n  }\n\n  var force = true;\n\n  if (typeof (root._bokeh_onload_callbacks) === \"undefined\" || force === true) {\n    root._bokeh_onload_callbacks = [];\n    root._bokeh_is_loading = undefined;\n  }\n\n  \n\n  \n  if (typeof (root._bokeh_timeout) === \"undefined\" || force === true) {\n    root._bokeh_timeout = Date.now() + 5000;\n    root._bokeh_failed_load = false;\n  }\n\n  var NB_LOAD_WARNING = {'data': {'text/html':\n     \"<div style='background-color: #fdd'>\\n\"+\n     \"<p>\\n\"+\n     \"BokehJS does not appear to have successfully loaded. If loading BokehJS from CDN, this \\n\"+\n     \"may be due to a slow or bad network connection. Possible fixes:\\n\"+\n     \"</p>\\n\"+\n     \"<ul>\\n\"+\n     \"<li>re-rerun `output_notebook()` to attempt to load from CDN again, or</li>\\n\"+\n     \"<li>use INLINE resources instead, as so:</li>\\n\"+\n     \"</ul>\\n\"+\n     \"<code>\\n\"+\n     \"from bokeh.resources import INLINE\\n\"+\n     \"output_notebook(resources=INLINE)\\n\"+\n     \"</code>\\n\"+\n     \"</div>\"}};\n\n  function display_loaded() {\n    var el = document.getElementById(\"1001\");\n    if (el != null) {\n      el.textContent = \"BokehJS is loading...\";\n    }\n    if (root.Bokeh !== undefined) {\n      if (el != null) {\n        el.textContent = \"BokehJS \" + root.Bokeh.version + \" successfully loaded.\";\n      }\n    } else if (Date.now() < root._bokeh_timeout) {\n      setTimeout(display_loaded, 100)\n    }\n  }\n\n\n  function run_callbacks() {\n    try {\n      root._bokeh_onload_callbacks.forEach(function(callback) { callback() });\n    }\n    finally {\n      delete root._bokeh_onload_callbacks\n    }\n    console.info(\"Bokeh: all callbacks have finished\");\n  }\n\n  function load_libs(js_urls, callback) {\n    root._bokeh_onload_callbacks.push(callback);\n    if (root._bokeh_is_loading > 0) {\n      console.log(\"Bokeh: BokehJS is being loaded, scheduling callback at\", now());\n      return null;\n    }\n    if (js_urls == null || js_urls.length === 0) {\n      run_callbacks();\n      return null;\n    }\n    console.log(\"Bokeh: BokehJS not loaded, scheduling load and callback at\", now());\n    root._bokeh_is_loading = js_urls.length;\n    for (var i = 0; i < js_urls.length; i++) {\n      var url = js_urls[i];\n      var s = document.createElement('script');\n      s.src = url;\n      s.async = false;\n      s.onreadystatechange = s.onload = function() {\n        root._bokeh_is_loading--;\n        if (root._bokeh_is_loading === 0) {\n          console.log(\"Bokeh: all BokehJS libraries loaded\");\n          run_callbacks()\n        }\n      };\n      s.onerror = function() {\n        console.warn(\"failed to load library \" + url);\n      };\n      console.log(\"Bokeh: injecting script tag for BokehJS library: \", url);\n      document.getElementsByTagName(\"head\")[0].appendChild(s);\n    }\n  };var element = document.getElementById(\"1001\");\n  if (element == null) {\n    console.log(\"Bokeh: ERROR: autoload.js configured with elementid '1001' but no matching script tag was found. \")\n    return false;\n  }\n\n  var js_urls = [\"https://cdn.pydata.org/bokeh/release/bokeh-1.0.1.min.js\", \"https://cdn.pydata.org/bokeh/release/bokeh-widgets-1.0.1.min.js\", \"https://cdn.pydata.org/bokeh/release/bokeh-tables-1.0.1.min.js\", \"https://cdn.pydata.org/bokeh/release/bokeh-gl-1.0.1.min.js\"];\n\n  var inline_js = [\n    function(Bokeh) {\n      Bokeh.set_log_level(\"info\");\n    },\n    \n    function(Bokeh) {\n      \n    },\n    function(Bokeh) {\n      console.log(\"Bokeh: injecting CSS: https://cdn.pydata.org/bokeh/release/bokeh-1.0.1.min.css\");\n      Bokeh.embed.inject_css(\"https://cdn.pydata.org/bokeh/release/bokeh-1.0.1.min.css\");\n      console.log(\"Bokeh: injecting CSS: https://cdn.pydata.org/bokeh/release/bokeh-widgets-1.0.1.min.css\");\n      Bokeh.embed.inject_css(\"https://cdn.pydata.org/bokeh/release/bokeh-widgets-1.0.1.min.css\");\n      console.log(\"Bokeh: injecting CSS: https://cdn.pydata.org/bokeh/release/bokeh-tables-1.0.1.min.css\");\n      Bokeh.embed.inject_css(\"https://cdn.pydata.org/bokeh/release/bokeh-tables-1.0.1.min.css\");\n    }\n  ];\n\n  function run_inline_js() {\n    \n    if ((root.Bokeh !== undefined) || (force === true)) {\n      for (var i = 0; i < inline_js.length; i++) {\n        inline_js[i].call(root, root.Bokeh);\n      }if (force === true) {\n        display_loaded();\n      }} else if (Date.now() < root._bokeh_timeout) {\n      setTimeout(run_inline_js, 100);\n    } else if (!root._bokeh_failed_load) {\n      console.log(\"Bokeh: BokehJS failed to load within specified timeout.\");\n      root._bokeh_failed_load = true;\n    } else if (force !== true) {\n      var cell = $(document.getElementById(\"1001\")).parents('.cell').data().cell;\n      cell.output_area.append_execute_result(NB_LOAD_WARNING)\n    }\n\n  }\n\n  if (root._bokeh_is_loading === 0) {\n    console.log(\"Bokeh: BokehJS loaded, going straight to plotting\");\n    run_inline_js();\n  } else {\n    load_libs(js_urls, function() {\n      console.log(\"Bokeh: BokehJS plotting callback run at\", now());\n      run_inline_js();\n    });\n  }\n}(window));"
     },
     "metadata": {},
     "output_type": "display_data"
    }
   ],
   "source": [
    "from Tools.aliTreePlayer import *\n",
    "from TTreeHnInteractive.TTreeHnBrowser import *\n",
    "from InteractiveDrawing.bokeh.bokehTools import *\n",
    "from InteractiveDrawing.bokeh.bokehDrawPanda import *\n",
    "output_notebook()\n",
    "p3 = figure(plot_width=400, plot_height=250, title=\"template\")"
   ]
  },
  {
   "cell_type": "markdown",
   "metadata": {},
   "source": [
    "## Load distortion trees as described in the perfromance list file"
   ]
  },
  {
   "cell_type": "code",
   "execution_count": 2,
   "metadata": {},
   "outputs": [
    {
     "name": "stderr",
     "output_type": "stream",
     "text": [
      "Info in <LoadTrees>: Load file\t/eos/user/r/rsadikin/data/JIRA/ATO-457/testconvergence/CPU/distortionRRow129ZCol129PhiSlice180.root\n",
      "Info in <InitMapTree>: distortion\t/eos/user/r/rsadikin/data/JIRA/ATO-457/testconvergence/CPU/distortionRRow129ZCol129PhiSlice180.root.distortion:\t1\t1\n",
      "Info in <LoadTrees>: Load file\t/eos/user/r/rsadikin/data/JIRA/ATO-457/testconvergence/CPU/distortionRRow129ZCol129PhiSlice270.root\n",
      "Info in <InitMapTree>: distortion\t/eos/user/r/rsadikin/data/JIRA/ATO-457/testconvergence/CPU/distortionRRow129ZCol129PhiSlice270.root.distortion:\t1\t1\n",
      "Info in <LoadTrees>: Load file\t/eos/user/r/rsadikin/data/JIRA/ATO-457/testconvergence/CPU/distortionRRow129ZCol129PhiSlice360.root\n",
      "Info in <InitMapTree>: distortion\t/eos/user/r/rsadikin/data/JIRA/ATO-457/testconvergence/CPU/distortionRRow129ZCol129PhiSlice360.root.distortion:\t1\t1\n",
      "Info in <LoadTrees>: Load file\t/eos/user/r/rsadikin/data/JIRA/ATO-457/testconvergence/CPU/distortionRRow129ZCol129PhiSlice90.root\n",
      "Info in <InitMapTree>: distortion\t/eos/user/r/rsadikin/data/JIRA/ATO-457/testconvergence/CPU/distortionRRow129ZCol129PhiSlice90.root.distortion:\t1\t1\n",
      "Info in <LoadTrees>: Load file\t/eos/user/r/rsadikin/data/JIRA/ATO-457/testconvergence/CPU/distortionRRow17ZCol17PhiSlice180.root\n",
      "Info in <InitMapTree>: distortion\t/eos/user/r/rsadikin/data/JIRA/ATO-457/testconvergence/CPU/distortionRRow17ZCol17PhiSlice180.root.distortion:\t1\t1\n",
      "Info in <LoadTrees>: Load file\t/eos/user/r/rsadikin/data/JIRA/ATO-457/testconvergence/CPU/distortionRRow17ZCol17PhiSlice270.root\n",
      "Info in <InitMapTree>: distortion\t/eos/user/r/rsadikin/data/JIRA/ATO-457/testconvergence/CPU/distortionRRow17ZCol17PhiSlice270.root.distortion:\t1\t1\n",
      "Info in <LoadTrees>: Load file\t/eos/user/r/rsadikin/data/JIRA/ATO-457/testconvergence/CPU/distortionRRow17ZCol17PhiSlice360.root\n",
      "Info in <InitMapTree>: distortion\t/eos/user/r/rsadikin/data/JIRA/ATO-457/testconvergence/CPU/distortionRRow17ZCol17PhiSlice360.root.distortion:\t1\t1\n",
      "Info in <LoadTrees>: Load file\t/eos/user/r/rsadikin/data/JIRA/ATO-457/testconvergence/CPU/distortionRRow17ZCol17PhiSlice90.root\n",
      "Info in <InitMapTree>: distortion\t/eos/user/r/rsadikin/data/JIRA/ATO-457/testconvergence/CPU/distortionRRow17ZCol17PhiSlice90.root.distortion:\t1\t1\n",
      "Info in <InitMapTree>: distortion\t/eos/user/r/rsadikin/data/JIRA/ATO-457/testconvergence/CPU/distortionRRow17ZCol17PhiSlice90.root.distortion:\t1\t1\n",
      "Info in <LoadTrees>: Load file\t/eos/user/r/rsadikin/data/JIRA/ATO-457/testconvergence/CPU/distortionRRow257ZCol257PhiSlice180.root\n",
      "Info in <InitMapTree>: distortion\t/eos/user/r/rsadikin/data/JIRA/ATO-457/testconvergence/CPU/distortionRRow257ZCol257PhiSlice180.root.distortion:\t1\t1\n",
      "Info in <LoadTrees>: Load file\t/eos/user/r/rsadikin/data/JIRA/ATO-457/testconvergence/CPU/distortionRRow257ZCol257PhiSlice270.root\n",
      "Info in <InitMapTree>: distortion\t/eos/user/r/rsadikin/data/JIRA/ATO-457/testconvergence/CPU/distortionRRow257ZCol257PhiSlice270.root.distortion:\t1\t1\n",
      "Info in <LoadTrees>: Load file\t/eos/user/r/rsadikin/data/JIRA/ATO-457/testconvergence/CPU/distortionRRow257ZCol257PhiSlice360.root\n",
      "Info in <InitMapTree>: distortion\t/eos/user/r/rsadikin/data/JIRA/ATO-457/testconvergence/CPU/distortionRRow257ZCol257PhiSlice360.root.distortion:\t1\t1\n",
      "Info in <LoadTrees>: Load file\t/eos/user/r/rsadikin/data/JIRA/ATO-457/testconvergence/CPU/distortionRRow257ZCol257PhiSlice90.root\n",
      "Info in <InitMapTree>: distortion\t/eos/user/r/rsadikin/data/JIRA/ATO-457/testconvergence/CPU/distortionRRow257ZCol257PhiSlice90.root.distortion:\t1\t1\n",
      "Info in <LoadTrees>: Load file\t/eos/user/r/rsadikin/data/JIRA/ATO-457/testconvergence/CPU/distortionRRow33ZCol33PhiSlice180.root\n",
      "Info in <InitMapTree>: distortion\t/eos/user/r/rsadikin/data/JIRA/ATO-457/testconvergence/CPU/distortionRRow33ZCol33PhiSlice180.root.distortion:\t1\t1\n",
      "Info in <LoadTrees>: Load file\t/eos/user/r/rsadikin/data/JIRA/ATO-457/testconvergence/CPU/distortionRRow33ZCol33PhiSlice270.root\n",
      "Info in <InitMapTree>: distortion\t/eos/user/r/rsadikin/data/JIRA/ATO-457/testconvergence/CPU/distortionRRow33ZCol33PhiSlice270.root.distortion:\t1\t1\n",
      "Info in <LoadTrees>: Load file\t/eos/user/r/rsadikin/data/JIRA/ATO-457/testconvergence/CPU/distortionRRow33ZCol33PhiSlice360.root\n",
      "Info in <InitMapTree>: distortion\t/eos/user/r/rsadikin/data/JIRA/ATO-457/testconvergence/CPU/distortionRRow33ZCol33PhiSlice360.root.distortion:\t1\t1\n",
      "Info in <LoadTrees>: Load file\t/eos/user/r/rsadikin/data/JIRA/ATO-457/testconvergence/CPU/distortionRRow33ZCol33PhiSlice90.root\n",
      "Info in <InitMapTree>: distortion\t/eos/user/r/rsadikin/data/JIRA/ATO-457/testconvergence/CPU/distortionRRow33ZCol33PhiSlice90.root.distortion:\t1\t1\n",
      "Info in <LoadTrees>: Load file\t/eos/user/r/rsadikin/data/JIRA/ATO-457/testconvergence/CPU/distortionRRow65ZCol65PhiSlice180.root\n",
      "Info in <InitMapTree>: distortion\t/eos/user/r/rsadikin/data/JIRA/ATO-457/testconvergence/CPU/distortionRRow65ZCol65PhiSlice180.root.distortion:\t1\t1\n",
      "Info in <LoadTrees>: Load file\t/eos/user/r/rsadikin/data/JIRA/ATO-457/testconvergence/CPU/distortionRRow65ZCol65PhiSlice270.root\n",
      "Info in <InitMapTree>: distortion\t/eos/user/r/rsadikin/data/JIRA/ATO-457/testconvergence/CPU/distortionRRow65ZCol65PhiSlice270.root.distortion:\t1\t1\n",
      "Info in <LoadTrees>: Load file\t/eos/user/r/rsadikin/data/JIRA/ATO-457/testconvergence/CPU/distortionRRow65ZCol65PhiSlice360.root\n",
      "Info in <InitMapTree>: distortion\t/eos/user/r/rsadikin/data/JIRA/ATO-457/testconvergence/CPU/distortionRRow65ZCol65PhiSlice360.root.distortion:\t1\t1\n",
      "Info in <LoadTrees>: Load file\t/eos/user/r/rsadikin/data/JIRA/ATO-457/testconvergence/CPU/distortionRRow65ZCol65PhiSlice90.root\n",
      "Info in <InitMapTree>: distortion\t/eos/user/r/rsadikin/data/JIRA/ATO-457/testconvergence/CPU/distortionRRow65ZCol65PhiSlice90.root.distortion:\t1\t1\n"
     ]
    }
   ],
   "source": [
    "tree=ROOT.AliTreePlayer.LoadTrees(\"cat performance.list\",\"distortion\",\"xxx\",\".*\",\"\",\"\")"
   ]
  },
  {
   "cell_type": "markdown",
   "metadata": {},
   "source": [
    "### Convert selected subset of varables from TTree format to panda"
   ]
  },
  {
   "cell_type": "code",
   "execution_count": 3,
   "metadata": {},
   "outputs": [
    {
     "data": {
      "text/plain": [
       "\u001b[0;31mSignature:\u001b[0m \u001b[0mtreeToPanda\u001b[0m\u001b[0;34m(\u001b[0m\u001b[0mtree\u001b[0m\u001b[0;34m,\u001b[0m \u001b[0mvariables\u001b[0m\u001b[0;34m,\u001b[0m \u001b[0mselection\u001b[0m\u001b[0;34m,\u001b[0m \u001b[0mnEntries\u001b[0m\u001b[0;34m,\u001b[0m \u001b[0mfirstEntry\u001b[0m\u001b[0;34m,\u001b[0m \u001b[0mcolumnMask\u001b[0m\u001b[0;34m=\u001b[0m\u001b[0;34m'default'\u001b[0m\u001b[0;34m)\u001b[0m\u001b[0;34m\u001b[0m\u001b[0m\n",
       "\u001b[0;31mDocstring:\u001b[0m\n",
       "convert selected items from the tree into panda table\n",
       "TODO - import fail in case of number of entries>2x10^6  (infinite loop) - to check the reason\n",
       ":param tree:            input tree\n",
       ":param variables:\n",
       ":param selection:\n",
       ":param nEntries:\n",
       ":param firstEntry:\n",
       ":param columnMask:\n",
       ":return:\n",
       "\u001b[0;31mFile:\u001b[0m      ~/github/RootInteractive/Tools/aliTreePlayer.py\n",
       "\u001b[0;31mType:\u001b[0m      function\n"
      ]
     },
     "metadata": {},
     "output_type": "display_data"
    }
   ],
   "source": [
    "treeToPanda?"
   ]
  },
  {
   "cell_type": "code",
   "execution_count": 4,
   "metadata": {},
   "outputs": [],
   "source": [
    "variables=\"RRow129ZCol129PhiSlice180.distortion.drPhiCorr.fElements:RRow65ZCol65PhiSlice180.distortion.drPhiCorr.fElements:r.fElements:z.fElements:phi.fElements\"\n",
    "selection=\"Iteration$%20==1&abs(phi.fElements-0.0)<0.3\"\n",
    "df=treeToPanda(tree,variables,selection,100000000,0,\".distortion:.fElements\")"
   ]
  },
  {
   "cell_type": "markdown",
   "metadata": {},
   "source": [
    "## Create alias to derived variable - delta of deistortion map"
   ]
  },
  {
   "cell_type": "code",
   "execution_count": 5,
   "metadata": {},
   "outputs": [],
   "source": [
    "df=SetAlias(df,\"drphi129_65\",\"RRow129ZCol129PhiSlice180_drPhiCorr-RRow65ZCol65PhiSlice180_drPhiCorr\")"
   ]
  },
  {
   "cell_type": "markdown",
   "metadata": {},
   "source": [
    "## Make interactive plot with sliders "
   ]
  },
  {
   "cell_type": "code",
   "execution_count": 6,
   "metadata": {},
   "outputs": [
    {
     "name": "stdout",
     "output_type": "stream",
     "text": [
      "Panda dataframe...OK\n"
     ]
    },
    {
     "data": {
      "text/html": [
       "\n",
       "\n",
       "\n",
       "\n",
       "\n",
       "\n",
       "  <div class=\"bk-root\" id=\"8d696819-9864-4084-b8b8-44705ba16272\"></div>\n"
      ]
     },
     "metadata": {},
     "output_type": "display_data"
    },
    {
     "data": {
      "application/javascript": [
       "(function(root) {\n",
       "  function embed_document(root) {\n",
       "    \n",
       "  var docs_json = {\"68bdfe1e-33c4-43c8-b5c0-71e1d2e8fb0c\":{\"roots\":{\"references\":[{\"attributes\":{\"formatter\":{\"id\":\"1172\",\"type\":\"BasicTickFormatter\"},\"plot\":{\"id\":\"1077\",\"subtype\":\"Figure\",\"type\":\"Plot\"},\"ticker\":{\"id\":\"1088\",\"type\":\"BasicTicker\"}},\"id\":\"1087\",\"type\":\"LinearAxis\"},{\"attributes\":{},\"id\":\"1129\",\"type\":\"LinearScale\"},{\"attributes\":{\"source\":{\"id\":\"1074\",\"type\":\"ColumnDataSource\"}},\"id\":\"1166\",\"type\":\"CDSView\"},{\"attributes\":{\"color_mapper\":{\"id\":\"1075\",\"type\":\"LinearColorMapper\"},\"formatter\":{\"id\":\"1184\",\"type\":\"BasicTickFormatter\"},\"location\":[0,0],\"plot\":{\"id\":\"1123\",\"subtype\":\"Figure\",\"type\":\"Plot\"},\"ticker\":{\"id\":\"1183\",\"type\":\"BasicTicker\"},\"width\":8},\"id\":\"1167\",\"type\":\"ColorBar\"},{\"attributes\":{},\"id\":\"1083\",\"type\":\"LinearScale\"},{\"attributes\":{\"callback\":null,\"overlay\":{\"id\":\"1157\",\"type\":\"PolyAnnotation\"}},\"id\":\"1147\",\"type\":\"LassoSelectTool\"},{\"attributes\":{\"callback\":null},\"id\":\"1081\",\"type\":\"DataRange1d\"},{\"attributes\":{\"data_source\":{\"id\":\"1074\",\"type\":\"ColumnDataSource\"},\"glyph\":{\"id\":\"1163\",\"type\":\"Circle\"},\"hover_glyph\":null,\"muted_glyph\":null,\"nonselection_glyph\":{\"id\":\"1164\",\"type\":\"Circle\"},\"selection_glyph\":null,\"view\":{\"id\":\"1166\",\"type\":\"CDSView\"}},\"id\":\"1165\",\"type\":\"GlyphRenderer\"},{\"attributes\":{\"source\":{\"id\":\"1074\",\"type\":\"ColumnDataSource\"}},\"id\":\"1120\",\"type\":\"CDSView\"},{\"attributes\":{\"color_mapper\":{\"id\":\"1075\",\"type\":\"LinearColorMapper\"},\"formatter\":{\"id\":\"1170\",\"type\":\"BasicTickFormatter\"},\"location\":[0,0],\"plot\":{\"id\":\"1077\",\"subtype\":\"Figure\",\"type\":\"Plot\"},\"ticker\":{\"id\":\"1169\",\"type\":\"BasicTicker\"},\"width\":8},\"id\":\"1121\",\"type\":\"ColorBar\"},{\"attributes\":{},\"id\":\"1148\",\"type\":\"ResetTool\"},{\"attributes\":{\"below\":[{\"id\":\"1133\",\"type\":\"LinearAxis\"}],\"left\":[{\"id\":\"1138\",\"type\":\"LinearAxis\"}],\"plot_height\":200,\"plot_width\":700,\"renderers\":[{\"id\":\"1133\",\"type\":\"LinearAxis\"},{\"id\":\"1137\",\"type\":\"Grid\"},{\"id\":\"1138\",\"type\":\"LinearAxis\"},{\"id\":\"1142\",\"type\":\"Grid\"},{\"id\":\"1150\",\"type\":\"BoxAnnotation\"},{\"id\":\"1154\",\"type\":\"BoxAnnotation\"},{\"id\":\"1157\",\"type\":\"PolyAnnotation\"},{\"id\":\"1165\",\"type\":\"GlyphRenderer\"},{\"id\":\"1167\",\"type\":\"ColorBar\"}],\"right\":[{\"id\":\"1167\",\"type\":\"ColorBar\"}],\"title\":{\"id\":\"1122\",\"type\":\"Title\"},\"toolbar\":{\"id\":\"1149\",\"type\":\"Toolbar\"},\"toolbar_location\":null,\"x_range\":{\"id\":\"1079\",\"type\":\"DataRange1d\"},\"x_scale\":{\"id\":\"1129\",\"type\":\"LinearScale\"},\"y_range\":{\"id\":\"1127\",\"type\":\"DataRange1d\"},\"y_scale\":{\"id\":\"1131\",\"type\":\"LinearScale\"}},\"id\":\"1123\",\"subtype\":\"Figure\",\"type\":\"Plot\"},{\"attributes\":{},\"id\":\"1169\",\"type\":\"BasicTicker\"},{\"attributes\":{\"dimension\":1,\"plot\":{\"id\":\"1077\",\"subtype\":\"Figure\",\"type\":\"Plot\"},\"ticker\":{\"id\":\"1093\",\"type\":\"BasicTicker\"}},\"id\":\"1096\",\"type\":\"Grid\"},{\"attributes\":{\"callback\":null},\"id\":\"1127\",\"type\":\"DataRange1d\"},{\"attributes\":{},\"id\":\"1097\",\"type\":\"PanTool\"},{\"attributes\":{},\"id\":\"1174\",\"type\":\"BasicTickFormatter\"},{\"attributes\":{},\"id\":\"1139\",\"type\":\"BasicTicker\"},{\"attributes\":{\"callback\":null,\"overlay\":{\"id\":\"1154\",\"type\":\"BoxAnnotation\"}},\"id\":\"1146\",\"type\":\"BoxSelectTool\"},{\"attributes\":{},\"id\":\"1172\",\"type\":\"BasicTickFormatter\"},{\"attributes\":{\"children\":[{\"id\":\"1198\",\"type\":\"ToolbarBox\"},{\"id\":\"1196\",\"type\":\"Column\"}]},\"id\":\"1199\",\"type\":\"Column\"},{\"attributes\":{\"toolbar\":{\"id\":\"1197\",\"type\":\"ProxyToolbar\"},\"toolbar_location\":\"above\"},\"id\":\"1198\",\"type\":\"ToolbarBox\"},{\"attributes\":{\"overlay\":{\"id\":\"1150\",\"type\":\"BoxAnnotation\"}},\"id\":\"1144\",\"type\":\"BoxZoomTool\"},{\"attributes\":{\"dimension\":1,\"plot\":{\"id\":\"1123\",\"subtype\":\"Figure\",\"type\":\"Plot\"},\"ticker\":{\"id\":\"1139\",\"type\":\"BasicTicker\"}},\"id\":\"1142\",\"type\":\"Grid\"},{\"attributes\":{\"callback\":null},\"id\":\"1079\",\"type\":\"DataRange1d\"},{\"attributes\":{\"plot\":null,\"text\":\"RRow129ZCol129PhiSlice180_drPhiCorr vs r  Color=z\"},\"id\":\"1076\",\"type\":\"Title\"},{\"attributes\":{\"below\":[{\"id\":\"1087\",\"type\":\"LinearAxis\"}],\"left\":[{\"id\":\"1092\",\"type\":\"LinearAxis\"}],\"plot_height\":200,\"plot_width\":700,\"renderers\":[{\"id\":\"1087\",\"type\":\"LinearAxis\"},{\"id\":\"1091\",\"type\":\"Grid\"},{\"id\":\"1092\",\"type\":\"LinearAxis\"},{\"id\":\"1096\",\"type\":\"Grid\"},{\"id\":\"1104\",\"type\":\"BoxAnnotation\"},{\"id\":\"1108\",\"type\":\"BoxAnnotation\"},{\"id\":\"1111\",\"type\":\"PolyAnnotation\"},{\"id\":\"1119\",\"type\":\"GlyphRenderer\"},{\"id\":\"1121\",\"type\":\"ColorBar\"}],\"right\":[{\"id\":\"1121\",\"type\":\"ColorBar\"}],\"title\":{\"id\":\"1076\",\"type\":\"Title\"},\"toolbar\":{\"id\":\"1103\",\"type\":\"Toolbar\"},\"toolbar_location\":null,\"x_range\":{\"id\":\"1079\",\"type\":\"DataRange1d\"},\"x_scale\":{\"id\":\"1083\",\"type\":\"LinearScale\"},\"y_range\":{\"id\":\"1081\",\"type\":\"DataRange1d\"},\"y_scale\":{\"id\":\"1085\",\"type\":\"LinearScale\"}},\"id\":\"1077\",\"subtype\":\"Figure\",\"type\":\"Plot\"},{\"attributes\":{\"callback\":null,\"data\":{\"RRow129ZCol129PhiSlice180_drPhiCorr\":{\"__ndarray__\":\"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\",\"dtype\":\"float64\",\"shape\":[462]},\"RRow65ZCol65PhiSlice180_drPhiCorr\":{\"__ndarray__\":\"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\",\"dtype\":\"float64\",\"shape\":[462]},\"drphi129_65\":{\"__ndarray__\":\"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\",\"dtype\":\"float64\",\"shape\":[462]},\"index\":[1710,1040,712,492,1955,810,2290,2329,1473,2269,1186,670,2299,383,682,1904,1015,1243,71,425,1317,1476,885,2494,1977,576,316,1454,2173,1031,1334,2221,258,920,812,1477,2010,532,1964,1681,1103,1329,1427,1230,2349,782,1001,1220,369,1935,2339,133,2383,925,2241,1049,1312,1104,1962,105,433,719,1246,2255,1544,125,531,569,2176,2302,592,1014,1501,2238,1418,556,586,325,2052,1506,1254,2418,1906,113,1552,180,444,1662,1503,986,1802,352,1679,1207,1627,1046,2423,1286,799,1871,32,182,2443,271,819,2188,2463,2069,1253,2352,2218,1564,726,2013,223,815,534,193,1381,644,2309,1900,1649,2254,118,786,1835,1025,2087,1138,2248,1744,1096,1494,1027,1974,1348,102,673,357,1558,991,467,346,160,335,150,490,209,744,1499,1498,267,44,2154,878,2481,1369,196,279,2391,698,1948,1380,2453,1689,1184,1267,2319,888,379,62,108,1607,87,1954,1800,696,486,510,1814,1225,244,1406,162,1010,551,1495,2435,779,1845,1867,1163,1421,1400,785,1192,199,1391,1530,272,1939,1066,2158,2181,793,1805,1359,231,2318,597,1949,2126,1837,724,1197,292,890,2347,1720,1189,311,41,1944,2038,965,1806,1757,1105,579,1801,347,827,1181,2452,939,1113,2246,327,1584,142,2336,560,1553,1555,282,88,22,1684,2486,892,1179,646,408,919,190,1750,1465,1797,436,1076,629,2072,2024,360,226,758,1840,626,2211,1787,1439,1198,1219,26,955,107,35,806,3,2060,1509,1826,2180,337,533,299,323,2434,2002,435,277,1916,752,2473,2043,1971,452,1783,1432,707,2213,2268,1792,731,1776,2146,1668,2256,1970,290,623,932,58,458,2084,1364,2277,1695,1008,727,459,1438,236,2404,263,1833,1746,1320,2228,1714,935,635,1683,429,1174,247,1087,2455,1412,600,1136,2098,984,51,1058,1442,96,1847,2474,1399,537,2282,1347,1112,1834,1037,2281,1345,480,977,1505,183,1172,1034,1507,93,2251,2081,1158,115,2215,1146,1897,1855,140,463,1387,361,2475,188,1212,1353,1580,1820,937,1078,1927,1880,883,945,1560,1145,1586,1284,862,2206,2091,2088,722,1143,2498,1893,1024,872,1248,2245,219,2230,1728,999,1150,2372,1724,921,95,1462,2064,1836,284,1236,439,1694,911,159,269,266,374,2276,119,732,2273,40,1431,304,1634,83,2425,1929,2327,552,2340,2432,603,2477,1038,848,1444,2226,2442,522,186,409,2122,2267,1635,1677,2089,1394,2065,499,1727],\"phi\":{\"__ndarray__\":\"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\",\"dtype\":\"float64\",\"shape\":[462]},\"r\":{\"__ndarray__\":\"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\",\"dtype\":\"float64\",\"shape\":[462]},\"z\":{\"__ndarray__\":\"AAAA4IItBEAAAADggi0EQAAAAKBP2llAAAAAoE/aWUAAAADggi0EQAAAAOCCLQRAAAAA4IItBEAAAACgmYlpQAAAAMBgO2NAAAAAoJmJaUAAAADAu3tKQAAAAOCCLQRAAAAAoJmJaUAAAADAYDtjQAAAAKBP2llAAAAAoJmJaUAAAADggi0EQAAAAMBgO2NAAAAAwLt7SkAAAADggi0EQAAAAKBP2llAAAAAwLt7SkAAAADggi0EQAAAAKCZiWlAAAAAoE/aWUAAAADAu3tKQAAAAMC7e0pAAAAAoJmJaUAAAADAYDtjQAAAAMC7e0pAAAAAoJmJaUAAAADAu3tKQAAAAMBgO2NAAAAA4IItBEAAAACgT9pZQAAAAKBP2llAAAAA4IItBEAAAACgT9pZQAAAAKCZiWlAAAAAwLt7SkAAAADAYDtjQAAAAKCZiWlAAAAAoE/aWUAAAADggi0EQAAAAKCZiWlAAAAAoE/aWUAAAADAu3tKQAAAAOCCLQRAAAAAoJmJaUAAAADggi0EQAAAAKCZiWlAAAAAwGA7Y0AAAADAYDtjQAAAAOCCLQRAAAAAwLt7SkAAAACgmYlpQAAAAKBP2llAAAAAoJmJaUAAAACgT9pZQAAAAOCCLQRAAAAAwGA7Y0AAAACgmYlpQAAAAMC7e0pAAAAA4IItBEAAAACgmYlpQAAAAOCCLQRAAAAAwLt7SkAAAACgmYlpQAAAAMC7e0pAAAAAoE/aWUAAAACgT9pZQAAAAKCZiWlAAAAAwLt7SkAAAADAYDtjQAAAAMBgO2NAAAAAwLt7SkAAAADAu3tKQAAAAOCCLQRAAAAAoE/aWUAAAADAu3tKQAAAAKCZiWlAAAAAwGA7Y0AAAADAu3tKQAAAAMBgO2NAAAAAoE/aWUAAAADggi0EQAAAAKCZiWlAAAAAoE/aWUAAAADAYDtjQAAAAMC7e0pAAAAAoE/aWUAAAACgT9pZQAAAAKCZiWlAAAAAoE/aWUAAAACgT9pZQAAAAMC7e0pAAAAAwGA7Y0AAAADAu3tKQAAAAKCZiWlAAAAAwLt7SkAAAACgT9pZQAAAAKBP2llAAAAAwGA7Y0AAAADAu3tKQAAAAKCZiWlAAAAAwGA7Y0AAAADAYDtjQAAAAKCZiWlAAAAAwGA7Y0AAAACgT9pZQAAAAMBgO2NAAAAAoJmJaUAAAADAu3tKQAAAAMBgO2NAAAAAwGA7Y0AAAADggi0EQAAAAKCZiWlAAAAAwGA7Y0AAAADAu3tKQAAAAKCZiWlAAAAAoJmJaUAAAADggi0EQAAAAKCZiWlAAAAAoJmJaUAAAADAYDtjQAAAAMC7e0pAAAAA4IItBEAAAADggi0EQAAAAKBP2llAAAAAwGA7Y0AAAADAYDtjQAAAAKCZiWlAAAAAwLt7SkAAAACgmYlpQAAAAKBP2llAAAAAoJmJaUAAAADAYDtjQAAAAKBP2llAAAAAwGA7Y0AAAACgT9pZQAAAAMBgO2NAAAAAwLt7SkAAAACgT9pZQAAAAMC7e0pAAAAA4IItBEAAAADggi0EQAAAAOCCLQRAAAAA4IItBEAAAACgmYlpQAAAAKCZiWlAAAAAoJmJaUAAAADAYDtjQAAAAKBP2llAAAAAoJmJaUAAAACgmYlpQAAAAMBgO2NAAAAAwLt7SkAAAACgmYlpQAAAAMC7e0pAAAAAoJmJaUAAAADAu3tKQAAAAMBgO2NAAAAAwGA7Y0AAAADggi0EQAAAAMBgO2NAAAAAoJmJaUAAAACgmYlpQAAAAKBP2llAAAAAoJmJaUAAAADAYDtjQAAAAKCZiWlAAAAAoE/aWUAAAADAYDtjQAAAAKBP2llAAAAAoE/aWUAAAACgmYlpQAAAAOCCLQRAAAAAwLt7SkAAAADAu3tKQAAAAOCCLQRAAAAAoJmJaUAAAADggi0EQAAAAKCZiWlAAAAAwLt7SkAAAACgT9pZQAAAAOCCLQRAAAAAwLt7SkAAAADggi0EQAAAAOCCLQRAAAAAoJmJaUAAAADggi0EQAAAAKBP2llAAAAAwGA7Y0AAAADAu3tKQAAAAOCCLQRAAAAA4IItBEAAAACgT9pZQAAAAKCZiWlAAAAAwLt7SkAAAADggi0EQAAAAKBP2llAAAAAoJmJaUAAAADAu3tKQAAAAMBgO2NAAAAAwLt7SkAAAADAYDtjQAAAAOCCLQRAAAAAoJmJaUAAAADAu3tKQAAAAMBgO2NAAAAAoE/aWUAAAACgmYlpQAAAAMC7e0pAAAAAoE/aWUAAAACgmYlpQAAAAKBP2llAAAAAoE/aWUAAAADggi0EQAAAAKBP2llAAAAA4IItBEAAAACgmYlpQAAAAMC7e0pAAAAAwLt7SkAAAACgmYlpQAAAAMBgO2NAAAAA4IItBEAAAADAu3tKQAAAAKBP2llAAAAA4IItBEAAAACgmYlpQAAAAMC7e0pAAAAAoE/aWUAAAACgT9pZQAAAAMC7e0pAAAAAoE/aWUAAAACgmYlpQAAAAMBgO2NAAAAAwLt7SkAAAACgT9pZQAAAAKCZiWlAAAAAoE/aWUAAAADAu3tKQAAAAOCCLQRAAAAAwGA7Y0AAAADggi0EQAAAAKBP2llAAAAAwGA7Y0AAAACgT9pZQAAAAKCZiWlAAAAAwLt7SkAAAACgT9pZQAAAAKCZiWlAAAAAwLt7SkAAAADAYDtjQAAAAKCZiWlAAAAA4IItBEAAAADggi0EQAAAAOCCLQRAAAAAoE/aWUAAAADAu3tKQAAAAMC7e0pAAAAAoJmJaUAAAACgT9pZQAAAAKCZiWlAAAAA4IItBEAAAADAu3tKQAAAAMBgO2NAAAAA4IItBEAAAADAu3tKQAAAAMC7e0pAAAAAoE/aWUAAAACgmYlpQAAAAMBgO2NAAAAAoJmJaUAAAADAu3tKQAAAAOCCLQRAAAAAoE/aWUAAAADggi0EQAAAAMC7e0pAAAAAwGA7Y0AAAADggi0EQAAAAKCZiWlAAAAAwLt7SkAAAADggi0EQAAAAKBP2llAAAAAwGA7Y0AAAACgmYlpQAAAAMBgO2NAAAAAoJmJaUAAAACgT9pZQAAAAOCCLQRAAAAAoE/aWUAAAADAu3tKQAAAAKBP2llAAAAAwGA7Y0AAAADAYDtjQAAAAMC7e0pAAAAAoE/aWUAAAADAYDtjQAAAAKBP2llAAAAAoE/aWUAAAADAYDtjQAAAAMBgO2NAAAAAoE/aWUAAAADAu3tKQAAAAMC7e0pAAAAAwLt7SkAAAADAYDtjQAAAAMC7e0pAAAAA4IItBEAAAADggi0EQAAAAMBgO2NAAAAAoE/aWUAAAADAYDtjQAAAAMBgO2NAAAAAoJmJaUAAAACgmYlpQAAAAKBP2llAAAAA4IItBEAAAADAYDtjQAAAAKBP2llAAAAAoJmJaUAAAADAYDtjQAAAAMC7e0pAAAAAoJmJaUAAAADAYDtjQAAAAMBgO2NAAAAAwLt7SkAAAADggi0EQAAAAMBgO2NAAAAAoJmJaUAAAADggi0EQAAAAOCCLQRAAAAAwGA7Y0AAAACgmYlpQAAAAKCZiWlAAAAAoE/aWUAAAACgT9pZQAAAAOCCLQRAAAAAoE/aWUAAAADggi0EQAAAAMC7e0pAAAAAwGA7Y0AAAACgmYlpQAAAAMC7e0pAAAAAwGA7Y0AAAACgT9pZQAAAAMC7e0pAAAAAoE/aWUAAAACgmYlpQAAAAKCZiWlAAAAAoE/aWUAAAACgT9pZQAAAAKBP2llAAAAAoE/aWUAAAACgmYlpQAAAAKBP2llAAAAAwLt7SkAAAADggi0EQAAAAOCCLQRAAAAAoE/aWUAAAADggi0EQAAAAMBgO2NAAAAAoE/aWUAAAACgmYlpQAAAAKBP2llAAAAAwGA7Y0AAAADAu3tKQAAAAMC7e0pAAAAAwGA7Y0AAAADggi0EQAAAAOCCLQRAAAAAwLt7SkAAAACgT9pZQAAAAOCCLQRAAAAA4IItBEAAAADAYDtjQAAAAKBP2llAAAAAwLt7SkAAAADggi0EQAAAAMBgO2NAAAAAoE/aWUAAAADAYDtjQAAAAOCCLQRAAAAA4IItBEAAAACgT9pZQAAAAMBgO2NAAAAAoE/aWUAAAADggi0EQAAAAMBgO2NAAAAA4IItBEAAAADggi0EQAAAAOCCLQRAAAAAwLt7SkAAAACgmYlpQAAAAKBP2llAAAAAwLt7SkAAAADAu3tKQAAAAMBgO2NAAAAAoE/aWUAAAADAYDtjQAAAAMBgO2NAAAAAwGA7Y0AAAACgmYlpQAAAAKBP2llAAAAAwGA7Y0AAAADggi0EQAAAAKCZiWlAAAAA4IItBEAAAADAYDtjQAAAAKCZiWlAAAAA4IItBEAAAACgT9pZQAAAAKCZiWlAAAAAwLt7SkAAAADggi0EQAAAAKBP2llAAAAAoJmJaUAAAADAu3tKQAAAAKCZiWlAAAAAwLt7SkAAAACgmYlpQAAAAKCZiWlAAAAAwLt7SkAAAACgmYlpQAAAAKCZiWlAAAAAwLt7SkAAAACgmYlpQAAAAMC7e0pAAAAAoJmJaUAAAACgT9pZQAAAAMBgO2NAAAAA4IItBEAAAADAu3tKQAAAAKCZiWlAAAAAoJmJaUAAAADAYDtjQAAAAOCCLQRAAAAAoJmJaUAAAACgT9pZQAAAAKBP2llAAAAA4IItBEAAAACgT9pZQAAAAMBgO2NAAAAAoE/aWUAAAADAYDtjQAAAAMBgO2NAAAAAoJmJaUAAAADAu3tKQAAAAKBP2llAAAAAoE/aWUAAAADAu3tKQAAAAKCZiWlAAAAAoE/aWUAAAACgT9pZQAAAAOCCLQRAAAAAoE/aWUAAAACgmYlpQAAAAKCZiWlAAAAA4IItBEAAAACgmYlpQAAAAKBP2llA\",\"dtype\":\"float64\",\"shape\":[462]}},\"selected\":{\"id\":\"1175\",\"type\":\"Selection\"},\"selection_policy\":{\"id\":\"1176\",\"type\":\"UnionRenderers\"}},\"id\":\"1074\",\"type\":\"ColumnDataSource\"},{\"attributes\":{\"high\":204.3000030517578,\"low\":2.5222222805023193,\"palette\":[\"#3288bd\",\"#99d594\",\"#e6f598\",\"#fee08b\",\"#fc8d59\",\"#d53e4f\"]},\"id\":\"1075\",\"type\":\"LinearColorMapper\"},{\"attributes\":{\"children\":[{\"id\":\"1123\",\"subtype\":\"Figure\",\"type\":\"Plot\"}]},\"id\":\"1195\",\"type\":\"Row\"},{\"attributes\":{\"tools\":[{\"id\":\"1097\",\"type\":\"PanTool\"},{\"id\":\"1098\",\"type\":\"BoxZoomTool\"},{\"id\":\"1099\",\"type\":\"WheelZoomTool\"},{\"id\":\"1100\",\"type\":\"BoxSelectTool\"},{\"id\":\"1101\",\"type\":\"LassoSelectTool\"},{\"id\":\"1102\",\"type\":\"ResetTool\"},{\"id\":\"1143\",\"type\":\"PanTool\"},{\"id\":\"1144\",\"type\":\"BoxZoomTool\"},{\"id\":\"1145\",\"type\":\"WheelZoomTool\"},{\"id\":\"1146\",\"type\":\"BoxSelectTool\"},{\"id\":\"1147\",\"type\":\"LassoSelectTool\"},{\"id\":\"1148\",\"type\":\"ResetTool\"}]},\"id\":\"1197\",\"type\":\"ProxyToolbar\"},{\"attributes\":{\"children\":[{\"id\":\"1181\",\"type\":\"Row\"},{\"id\":\"1195\",\"type\":\"Row\"}]},\"id\":\"1196\",\"type\":\"Column\"},{\"attributes\":{\"fill_alpha\":{\"value\":0.5},\"fill_color\":{\"value\":\"lightgrey\"},\"level\":\"overlay\",\"line_alpha\":{\"value\":1.0},\"line_color\":{\"value\":\"black\"},\"line_dash\":[4,4],\"line_width\":{\"value\":2},\"plot\":null,\"xs_units\":\"screen\",\"ys_units\":\"screen\"},\"id\":\"1111\",\"type\":\"PolyAnnotation\"},{\"attributes\":{},\"id\":\"1176\",\"type\":\"UnionRenderers\"},{\"attributes\":{\"fill_color\":{\"field\":\"z\",\"transform\":{\"id\":\"1075\",\"type\":\"LinearColorMapper\"}},\"line_color\":{\"field\":\"z\",\"transform\":{\"id\":\"1075\",\"type\":\"LinearColorMapper\"}},\"x\":{\"field\":\"r\"},\"y\":{\"field\":\"RRow129ZCol129PhiSlice180_drPhiCorr\"}},\"id\":\"1117\",\"type\":\"Circle\"},{\"attributes\":{\"bottom_units\":\"screen\",\"fill_alpha\":{\"value\":0.5},\"fill_color\":{\"value\":\"lightgrey\"},\"left_units\":\"screen\",\"level\":\"overlay\",\"line_alpha\":{\"value\":1.0},\"line_color\":{\"value\":\"black\"},\"line_dash\":[4,4],\"line_width\":{\"value\":2},\"plot\":null,\"render_mode\":\"css\",\"right_units\":\"screen\",\"top_units\":\"screen\"},\"id\":\"1154\",\"type\":\"BoxAnnotation\"},{\"attributes\":{\"data_source\":{\"id\":\"1074\",\"type\":\"ColumnDataSource\"},\"glyph\":{\"id\":\"1117\",\"type\":\"Circle\"},\"hover_glyph\":null,\"muted_glyph\":null,\"nonselection_glyph\":{\"id\":\"1118\",\"type\":\"Circle\"},\"selection_glyph\":null,\"view\":{\"id\":\"1120\",\"type\":\"CDSView\"}},\"id\":\"1119\",\"type\":\"GlyphRenderer\"},{\"attributes\":{\"fill_alpha\":{\"value\":0.1},\"fill_color\":{\"value\":\"#1f77b4\"},\"line_alpha\":{\"value\":0.1},\"line_color\":{\"value\":\"#1f77b4\"},\"x\":{\"field\":\"r\"},\"y\":{\"field\":\"RRow129ZCol129PhiSlice180_drPhiCorr\"}},\"id\":\"1118\",\"type\":\"Circle\"},{\"attributes\":{\"fill_alpha\":{\"value\":0.1},\"fill_color\":{\"value\":\"#1f77b4\"},\"line_alpha\":{\"value\":0.1},\"line_color\":{\"value\":\"#1f77b4\"},\"x\":{\"field\":\"r\"},\"y\":{\"field\":\"drphi129_65\"}},\"id\":\"1164\",\"type\":\"Circle\"},{\"attributes\":{},\"id\":\"1131\",\"type\":\"LinearScale\"},{\"attributes\":{\"bottom_units\":\"screen\",\"fill_alpha\":{\"value\":0.5},\"fill_color\":{\"value\":\"lightgrey\"},\"left_units\":\"screen\",\"level\":\"overlay\",\"line_alpha\":{\"value\":1.0},\"line_color\":{\"value\":\"black\"},\"line_dash\":[4,4],\"line_width\":{\"value\":2},\"plot\":null,\"render_mode\":\"css\",\"right_units\":\"screen\",\"top_units\":\"screen\"},\"id\":\"1150\",\"type\":\"BoxAnnotation\"},{\"attributes\":{\"plot\":null,\"text\":\"drphi129_65 vs r  Color=z\"},\"id\":\"1122\",\"type\":\"Title\"},{\"attributes\":{},\"id\":\"1175\",\"type\":\"Selection\"},{\"attributes\":{\"formatter\":{\"id\":\"1188\",\"type\":\"BasicTickFormatter\"},\"plot\":{\"id\":\"1123\",\"subtype\":\"Figure\",\"type\":\"Plot\"},\"ticker\":{\"id\":\"1139\",\"type\":\"BasicTicker\"}},\"id\":\"1138\",\"type\":\"LinearAxis\"},{\"attributes\":{},\"id\":\"1143\",\"type\":\"PanTool\"},{\"attributes\":{\"plot\":{\"id\":\"1077\",\"subtype\":\"Figure\",\"type\":\"Plot\"},\"ticker\":{\"id\":\"1088\",\"type\":\"BasicTicker\"}},\"id\":\"1091\",\"type\":\"Grid\"},{\"attributes\":{\"formatter\":{\"id\":\"1174\",\"type\":\"BasicTickFormatter\"},\"plot\":{\"id\":\"1077\",\"subtype\":\"Figure\",\"type\":\"Plot\"},\"ticker\":{\"id\":\"1093\",\"type\":\"BasicTicker\"}},\"id\":\"1092\",\"type\":\"LinearAxis\"},{\"attributes\":{},\"id\":\"1093\",\"type\":\"BasicTicker\"},{\"attributes\":{\"formatter\":{\"id\":\"1186\",\"type\":\"BasicTickFormatter\"},\"plot\":{\"id\":\"1123\",\"subtype\":\"Figure\",\"type\":\"Plot\"},\"ticker\":{\"id\":\"1134\",\"type\":\"BasicTicker\"}},\"id\":\"1133\",\"type\":\"LinearAxis\"},{\"attributes\":{\"plot\":{\"id\":\"1123\",\"subtype\":\"Figure\",\"type\":\"Plot\"},\"ticker\":{\"id\":\"1134\",\"type\":\"BasicTicker\"}},\"id\":\"1137\",\"type\":\"Grid\"},{\"attributes\":{\"fill_alpha\":{\"value\":0.5},\"fill_color\":{\"value\":\"lightgrey\"},\"level\":\"overlay\",\"line_alpha\":{\"value\":1.0},\"line_color\":{\"value\":\"black\"},\"line_dash\":[4,4],\"line_width\":{\"value\":2},\"plot\":null,\"xs_units\":\"screen\",\"ys_units\":\"screen\"},\"id\":\"1157\",\"type\":\"PolyAnnotation\"},{\"attributes\":{\"overlay\":{\"id\":\"1104\",\"type\":\"BoxAnnotation\"}},\"id\":\"1098\",\"type\":\"BoxZoomTool\"},{\"attributes\":{},\"id\":\"1099\",\"type\":\"WheelZoomTool\"},{\"attributes\":{},\"id\":\"1134\",\"type\":\"BasicTicker\"},{\"attributes\":{\"fill_color\":{\"field\":\"z\",\"transform\":{\"id\":\"1075\",\"type\":\"LinearColorMapper\"}},\"line_color\":{\"field\":\"z\",\"transform\":{\"id\":\"1075\",\"type\":\"LinearColorMapper\"}},\"x\":{\"field\":\"r\"},\"y\":{\"field\":\"drphi129_65\"}},\"id\":\"1163\",\"type\":\"Circle\"},{\"attributes\":{},\"id\":\"1085\",\"type\":\"LinearScale\"},{\"attributes\":{},\"id\":\"1088\",\"type\":\"BasicTicker\"},{\"attributes\":{},\"id\":\"1188\",\"type\":\"BasicTickFormatter\"},{\"attributes\":{},\"id\":\"1170\",\"type\":\"BasicTickFormatter\"},{\"attributes\":{},\"id\":\"1186\",\"type\":\"BasicTickFormatter\"},{\"attributes\":{},\"id\":\"1184\",\"type\":\"BasicTickFormatter\"},{\"attributes\":{},\"id\":\"1183\",\"type\":\"BasicTicker\"},{\"attributes\":{\"children\":[{\"id\":\"1077\",\"subtype\":\"Figure\",\"type\":\"Plot\"}]},\"id\":\"1181\",\"type\":\"Row\"},{\"attributes\":{\"active_drag\":\"auto\",\"active_inspect\":\"auto\",\"active_multi\":null,\"active_scroll\":\"auto\",\"active_tap\":\"auto\",\"tools\":[{\"id\":\"1143\",\"type\":\"PanTool\"},{\"id\":\"1144\",\"type\":\"BoxZoomTool\"},{\"id\":\"1145\",\"type\":\"WheelZoomTool\"},{\"id\":\"1146\",\"type\":\"BoxSelectTool\"},{\"id\":\"1147\",\"type\":\"LassoSelectTool\"},{\"id\":\"1148\",\"type\":\"ResetTool\"}]},\"id\":\"1149\",\"type\":\"Toolbar\"},{\"attributes\":{\"bottom_units\":\"screen\",\"fill_alpha\":{\"value\":0.5},\"fill_color\":{\"value\":\"lightgrey\"},\"left_units\":\"screen\",\"level\":\"overlay\",\"line_alpha\":{\"value\":1.0},\"line_color\":{\"value\":\"black\"},\"line_dash\":[4,4],\"line_width\":{\"value\":2},\"plot\":null,\"render_mode\":\"css\",\"right_units\":\"screen\",\"top_units\":\"screen\"},\"id\":\"1104\",\"type\":\"BoxAnnotation\"},{\"attributes\":{},\"id\":\"1102\",\"type\":\"ResetTool\"},{\"attributes\":{\"active_drag\":\"auto\",\"active_inspect\":\"auto\",\"active_multi\":null,\"active_scroll\":\"auto\",\"active_tap\":\"auto\",\"tools\":[{\"id\":\"1097\",\"type\":\"PanTool\"},{\"id\":\"1098\",\"type\":\"BoxZoomTool\"},{\"id\":\"1099\",\"type\":\"WheelZoomTool\"},{\"id\":\"1100\",\"type\":\"BoxSelectTool\"},{\"id\":\"1101\",\"type\":\"LassoSelectTool\"},{\"id\":\"1102\",\"type\":\"ResetTool\"}]},\"id\":\"1103\",\"type\":\"Toolbar\"},{\"attributes\":{\"callback\":null,\"overlay\":{\"id\":\"1108\",\"type\":\"BoxAnnotation\"}},\"id\":\"1100\",\"type\":\"BoxSelectTool\"},{\"attributes\":{\"callback\":null,\"overlay\":{\"id\":\"1111\",\"type\":\"PolyAnnotation\"}},\"id\":\"1101\",\"type\":\"LassoSelectTool\"},{\"attributes\":{},\"id\":\"1145\",\"type\":\"WheelZoomTool\"},{\"attributes\":{\"bottom_units\":\"screen\",\"fill_alpha\":{\"value\":0.5},\"fill_color\":{\"value\":\"lightgrey\"},\"left_units\":\"screen\",\"level\":\"overlay\",\"line_alpha\":{\"value\":1.0},\"line_color\":{\"value\":\"black\"},\"line_dash\":[4,4],\"line_width\":{\"value\":2},\"plot\":null,\"render_mode\":\"css\",\"right_units\":\"screen\",\"top_units\":\"screen\"},\"id\":\"1108\",\"type\":\"BoxAnnotation\"}],\"root_ids\":[\"1199\"]},\"title\":\"Bokeh Application\",\"version\":\"1.0.1\"}};\n",
       "  var render_items = [{\"docid\":\"68bdfe1e-33c4-43c8-b5c0-71e1d2e8fb0c\",\"notebook_comms_target\":\"1222\",\"roots\":{\"1199\":\"8d696819-9864-4084-b8b8-44705ba16272\"}}];\n",
       "  root.Bokeh.embed.embed_items_notebook(docs_json, render_items);\n",
       "\n",
       "  }\n",
       "  if (root.Bokeh !== undefined) {\n",
       "    embed_document(root);\n",
       "  } else {\n",
       "    var attempts = 0;\n",
       "    var timer = setInterval(function(root) {\n",
       "      if (root.Bokeh !== undefined) {\n",
       "        embed_document(root);\n",
       "        clearInterval(timer);\n",
       "      }\n",
       "      attempts++;\n",
       "      if (attempts > 100) {\n",
       "        console.log(\"Bokeh: ERROR: Unable to run BokehJS code because BokehJS library is missing\");\n",
       "        clearInterval(timer);\n",
       "      }\n",
       "    }, 10, root)\n",
       "  }\n",
       "})(window);"
      ],
      "application/vnd.bokehjs_exec.v0+json": ""
     },
     "metadata": {
      "application/vnd.bokehjs_exec.v0+json": {
       "id": "1199"
      }
     },
     "output_type": "display_data"
    },
    {
     "data": {
      "application/vnd.jupyter.widget-view+json": {
       "model_id": "c3c8b182769c443188db41c2be662e1c",
       "version_major": 2,
       "version_minor": 0
      },
      "text/plain": [
       "VkJveChjaGlsZHJlbj0oRmxvYXRSYW5nZVNsaWRlcih2YWx1ZT0oODUuMCwgMjQ1LjApLCBkZXNjcmlwdGlvbj11J3InLCBsYXlvdXQ9TGF5b3V0KHdpZHRoPXUnNjYlJyksIG1heD0yNDUuMCzigKY=\n"
      ]
     },
     "metadata": {},
     "output_type": "display_data"
    },
    {
     "data": {
      "text/plain": [
       "<InteractiveDrawing.bokeh.bokehDrawPanda.bokehDrawPanda at 0x7f09b83fbdd0>"
      ]
     },
     "execution_count": 6,
     "metadata": {},
     "output_type": "execute_result"
    }
   ],
   "source": [
    "p3 = figure(plot_width=700, plot_height=200, title=\"template\")\n",
    "varX=\"r\"\n",
    "varY=\"RRow129ZCol129PhiSlice180_drPhiCorr:drphi129_65\"\n",
    "slider=\"r(85,245,1,85,245):phi(0,6.28,0.01,0,6.28):z(-250,250,25,-250,250)\"\n",
    "bokehDrawPanda(df.sample(1000),\"z>0\",varX,varY,\"z\",slider,p3,commonX=1,size=4,ncols=1)"
   ]
  },
  {
   "cell_type": "code",
   "execution_count": null,
   "metadata": {},
   "outputs": [],
   "source": []
  }
 ],
 "metadata": {
  "kernelspec": {
   "display_name": "Python 2",
   "language": "python",
   "name": "python2"
  },
  "language_info": {
   "codemirror_mode": {
    "name": "ipython",
    "version": 2
   },
   "file_extension": ".py",
   "mimetype": "text/x-python",
   "name": "python",
   "nbconvert_exporter": "python",
   "pygments_lexer": "ipython2",
   "version": "2.7.15rc1"
  }
 },
 "nbformat": 4,
 "nbformat_minor": 2
}
