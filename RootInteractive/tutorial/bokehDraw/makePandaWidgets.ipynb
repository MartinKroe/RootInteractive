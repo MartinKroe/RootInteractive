{
 "cells": [
  {
   "cell_type": "code",
   "execution_count": null,
   "metadata": {},
   "outputs": [],
   "source": [
    "from RootInteractive.InteractiveDrawing.bokeh.bokehDrawSA import *\n",
    "from bokeh.models import *\n",
    "from bokeh.io import output_notebook\n",
    "#from bokeh.plotting import figure\n",
    "output_notebook()"
   ]
  },
  {
   "cell_type": "markdown",
   "metadata": {},
   "source": [
    "## Create random input panda\n",
    "* Uniformly distributed varaibles A, B,C,D,E,F\n",
    "* categorical input data AA, BB, CC "
   ]
  },
  {
   "cell_type": "code",
   "execution_count": null,
   "metadata": {},
   "outputs": [],
   "source": [
    "df = pd.DataFrame(np.random.random_sample(size=(2000, 6)), columns=list('ABCDEF'))\n",
    "df[\"AA\"]=(df.A*10).round(0)/10.\n",
    "df[\"CC\"]=(df.C*5).round(0)\n",
    "df[\"DD\"]=(df.D*2).round(0)\n",
    "initMetadata(df)\n",
    "df.head(3)"
   ]
  },
  {
   "cell_type": "markdown",
   "metadata": {},
   "source": [
    "## Create multi figure\n",
    "* figure layout "
   ]
  },
  {
   "cell_type": "code",
   "execution_count": null,
   "metadata": {},
   "outputs": [],
   "source": [
    "figureArray = [\n",
    "#   ['A'], ['C-A'], {\"color\": \"red\", \"size\": 7, \"colorZvar\":\"C\", \"filter\": \"A<0.5\"}],\n",
    "    [['A'], ['C-A'], {\"color\": \"red\", \"size\": 7, \"colorZvar\":\"C\"}],\n",
    "    [['A'], ['C+A', 'C-A']],\n",
    "    [['B'], ['C+B', 'C-B'],{\"color\": \"red\", \"size\": 7, \"colorZvar\":\"C\"}],\n",
    "    [['D'], ['(A+B+C)*D'], {\"size\": 10}]\n",
    "]\n",
    "\n",
    "widgetParams=[\n",
    "    ['range', ['A']],\n",
    "    ['range', ['B',0,1,0.1,0,1]], \n",
    "    ['range', ['C'], {'type':'minmax'}],\n",
    "    ['range', ['D'], {'type':'sigma', 'bins':10, 'sigma':3}],\n",
    "    ['range', ['E'], {'type':'sigmaMed', 'bins':10, 'sigma':3}],\n",
    "    ['slider', ['AA'],{'bins':10}],\n",
    "    ['multiSelect',[\"DD\"]],\n",
    "    ['select',[\"CC\",0,1,2,3]],\n",
    "    #['slider','F', ['@min()','@max()','@med','@min()','@median()+3*#tlm()']], # to be implmneted\n",
    "]\n",
    "figureLayout: str = '((0,1,2, plot_height=300),(3, x_visible=1),commonX=1,plot_height=300,plot_width=1200)'\n",
    "widgetLayout: str = '((0,1,2),(3,4,5),(6,7), plot_width=1200)'    \n",
    "tooltips = [(\"VarA\", \"(@A)\"), (\"VarB\", \"(@B)\"), (\"VarC\", \"(@C)\"), (\"VarD\", \"(@D)\")]   "
   ]
  },
  {
   "cell_type": "markdown",
   "metadata": {},
   "source": [
    "## Create widgets"
   ]
  },
  {
   "cell_type": "code",
   "execution_count": null,
   "metadata": {},
   "outputs": [],
   "source": [
    "output_file(\"makePandaWidgetsSA.html\")\n",
    "bokehDrawSA.fromArray(df, \"A>0\", figureArray, widgetParams, layout=figureLayout, tooltips=tooltips,widgetLayout=widgetLayout)"
   ]
  },
  {
   "cell_type": "markdown",
   "metadata": {},
   "source": [
    "## The same  plot using sequence of steps"
   ]
  },
  {
   "cell_type": "code",
   "execution_count": null,
   "metadata": {},
   "outputs": [],
   "source": [
    "output_file(\"makePandaWidgetsSA.html\")\n",
    "#xxx,yyy, plotArray= drawColzArray(df,\"A>0\",\"A\", \"B\",\"C\",None)\n",
    "pAll, cdsSel, plotArray, dataFrameOrig= bokehDrawArray(df,\"A>0\",figureArray,layout=figureLayout)\n",
    "cdsOrig=ColumnDataSource(dataFrameOrig)\n",
    "widgetArray=makeBokehWidgets(df,widgetParams,cdsOrig,cdsSel)  \n",
    "x, layoutList, optionsLayout = processBokehLayout(widgetLayout,  widgetArray)\n",
    "#\n",
    "plotArray2=plotArray\n",
    "plotArray2.append(gridplotRow(layoutList))\n",
    "pAll=gridplotRow(plotArray2)\n",
    "show(pAll)"
   ]
  },
  {
   "cell_type": "code",
   "execution_count": null,
   "metadata": {},
   "outputs": [],
   "source": []
  }
 ],
 "metadata": {
  "kernelspec": {
   "display_name": "Python 3",
   "language": "python",
   "name": "python3"
  },
  "language_info": {
   "codemirror_mode": {
    "name": "ipython",
    "version": 3
   },
   "file_extension": ".py",
   "mimetype": "text/x-python",
   "name": "python",
   "nbconvert_exporter": "python",
   "pygments_lexer": "ipython3",
   "version": "3.6.8"
  }
 },
 "nbformat": 4,
 "nbformat_minor": 2
}
