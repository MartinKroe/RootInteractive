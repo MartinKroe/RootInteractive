{
 "cells": [
  {
   "cell_type": "markdown",
   "metadata": {},
   "source": [
    "# Load libraries"
   ]
  },
  {
   "cell_type": "code",
   "execution_count": null,
   "metadata": {},
   "outputs": [],
   "source": [
    "from TTreeHnBrowser import *\n",
    "from matplotlib import pyplot as plt\n",
    "from sklearn.ensemble import RandomForestRegressor, RandomForestClassifier\n",
    "import sklearn.model_selection as xval\n",
    "from sklearn.datasets.mldata import fetch_mldata\n",
    "import forestci as fci\n",
    "import pandas as pd\n"
   ]
  },
  {
   "cell_type": "markdown",
   "metadata": {},
   "source": [
    "# Read input data"
   ]
  },
  {
   "cell_type": "code",
   "execution_count": null,
   "metadata": {},
   "outputs": [],
   "source": [
    "v0sPanda = pd.read_csv('v0all.csv',sep='\\t', index_col=False )"
   ]
  },
  {
   "cell_type": "code",
   "execution_count": null,
   "metadata": {},
   "outputs": [],
   "source": [
    "k0Panda=v0sPanda.query('(K0Delta<0.2 & K0Delta>-0.2) & (isBackground | cleanK0)')\n",
    "variablesK0=k0Panda[['fRr', 'mpt', 'tglV0', 'pointAngleN', 'dcaNorm']].values\n",
    "valuesK0=k0Panda['cleanK0'].values\n",
    "variablesK0.shape\n",
    "print(k0Panda.shape)\n",
    "k0Panda.head(5)"
   ]
  },
  {
   "cell_type": "markdown",
   "metadata": {},
   "source": [
    "# Random forest fit"
   ]
  },
  {
   "cell_type": "code",
   "execution_count": null,
   "metadata": {},
   "outputs": [],
   "source": [
    "clf = RandomForestClassifier(n_estimators=100, max_depth=6, random_state=0, n_jobs=8)\n",
    "clf.fit(variablesK0, valuesK0)"
   ]
  },
  {
   "cell_type": "code",
   "execution_count": null,
   "metadata": {},
   "outputs": [],
   "source": [
    "print(clf.feature_importances_)\n",
    "print(variablesK0.shape)\n",
    "print(clf.predict_proba(variablesK0))"
   ]
  },
  {
   "cell_type": "markdown",
   "metadata": {},
   "source": [
    "## Random forest error calculation"
   ]
  },
  {
   "cell_type": "code",
   "execution_count": null,
   "metadata": {},
   "outputs": [],
   "source": [
    "# Calculate the variance:\n",
    "k0_training=variablesK0[0:40000]\n",
    "k0_test=variablesK0[0:1000]\n",
    "for i in range(0,3):\n",
    "    errors = fci.random_forest_error(clf, k0_training,k0_test,memory_constrained=1, memory_limit=100, calibrate=0 )\n",
    "    print(i,errors[0:1000:200])"
   ]
  },
  {
   "cell_type": "code",
   "execution_count": null,
   "metadata": {},
   "outputs": [],
   "source": [
    "plt.hist(errors,log=1,bins=100)\n",
    "plt.show()"
   ]
  },
  {
   "cell_type": "code",
   "execution_count": null,
   "metadata": {},
   "outputs": [],
   "source": [
    "k0_training.shape"
   ]
  },
  {
   "cell_type": "markdown",
   "metadata": {},
   "source": [
    "# TODO:\n",
    "* scan of the Random foreset settings\n",
    "  * include ROCS\n",
    "  * export table with 2 (value+error) x 3 (settings) as csv file \n",
    " \n",
    "* prototyping Keras model compression\n",
    "  *  settings (fullu connected NN)\n",
    "    * deepnese scan fixing number of conections\n",
    "  * export table with 2 (value+error) x 3 (settings) as csv file   "
   ]
  },
  {
   "cell_type": "markdown",
   "metadata": {},
   "source": [
    "TODO:"
   ]
  }
 ],
 "metadata": {
  "kernelspec": {
   "display_name": "Python 2",
   "language": "python",
   "name": "python2"
  },
  "language_info": {
   "codemirror_mode": {
    "name": "ipython",
    "version": 2
   },
   "file_extension": ".py",
   "mimetype": "text/x-python",
   "name": "python",
   "nbconvert_exporter": "python",
   "pygments_lexer": "ipython2",
   "version": "2.7.15rc1"
  }
 },
 "nbformat": 4,
 "nbformat_minor": 2
}
